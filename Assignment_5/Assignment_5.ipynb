{
  "nbformat": 4,
  "nbformat_minor": 0,
  "metadata": {
    "colab": {
      "name": "Assignment_5_NLP.ipynb",
      "provenance": [],
      "collapsed_sections": [],
      "toc_visible": true
    },
    "kernelspec": {
      "name": "python3",
      "display_name": "Python 3"
    },
    "accelerator": "GPU"
  },
  "cells": [
    {
      "cell_type": "markdown",
      "metadata": {
        "id": "zyJ25uz0kSaw"
      },
      "source": [
        "\n",
        "\n",
        "\n",
        "# Assignment 5 on Natural Language Processing\n",
        "\n",
        "## Date : 3rd Nov, 2020\n",
        "\n",
        "### Instructor : Prof. Sudeshna Sarkar\n",
        "\n",
        "### Teaching Assistants : Alapan Kuila, Aniruddha Roy, Anusha Potnuru, Uppada Vishnu"
      ]
    },
    {
      "cell_type": "markdown",
      "metadata": {
        "id": "Ao1nhg9RknmF"
      },
      "source": [
        "The central idea of this assignment is to explore various language models specifically LSTM based and transformer. We will explore how the size of the model effects the sequence generated. We will see both character based and word based models.\n",
        "\n"
      ]
    },
    {
      "cell_type": "markdown",
      "metadata": {
        "id": "ONM5Q4SCe9Mr"
      },
      "source": [
        "Please submit with outputs. Submissions without predicted outputs will be penalized."
      ]
    },
    {
      "cell_type": "markdown",
      "metadata": {
        "id": "IXdkhxZAXnTW"
      },
      "source": [
        "# Word Based LSTM model"
      ]
    },
    {
      "cell_type": "code",
      "metadata": {
        "id": "FbU5DRolXseI"
      },
      "source": [
        "from keras.models import Sequential\n",
        "from keras.layers import Dense\n",
        "from keras.layers import Dropout\n",
        "from keras.layers import LSTM\n",
        "from keras.callbacks import ModelCheckpoint\n",
        "from keras.utils import np_utils\n",
        "import numpy\n",
        "import re\n",
        "import pandas as pd\n",
        "import numpy as np\n",
        "from sklearn.model_selection import train_test_split\n",
        "from keras.preprocessing.text import Tokenizer\n",
        "from keras.preprocessing.sequence import pad_sequences\n",
        "import keras\n",
        "from nltk.tokenize import sent_tokenize, word_tokenize, RegexpTokenizer"
      ],
      "execution_count": 1,
      "outputs": []
    },
    {
      "cell_type": "markdown",
      "metadata": {
        "id": "d2NR3RFFYOT8"
      },
      "source": [
        "Do basic pre processing which includes lowering etc\n",
        "Check the dataset and apply suitable preprocessing."
      ]
    },
    {
      "cell_type": "code",
      "metadata": {
        "id": "muKYEkeiCBo_",
        "outputId": "e2a31fc2-4a83-4879-a18c-eb3e80db9d59",
        "colab": {
          "base_uri": "https://localhost:8080/"
        }
      },
      "source": [
        "import nltk\n",
        "nltk.download('punkt')"
      ],
      "execution_count": 2,
      "outputs": [
        {
          "output_type": "stream",
          "text": [
            "[nltk_data] Downloading package punkt to /root/nltk_data...\n",
            "[nltk_data]   Package punkt is already up-to-date!\n"
          ],
          "name": "stdout"
        },
        {
          "output_type": "execute_result",
          "data": {
            "text/plain": [
              "True"
            ]
          },
          "metadata": {
            "tags": []
          },
          "execution_count": 2
        }
      ]
    },
    {
      "cell_type": "code",
      "metadata": {
        "id": "iQvfF2NjXxGj",
        "outputId": "654a5027-b263-4475-bc2f-dd417e083c82",
        "colab": {
          "base_uri": "https://localhost:8080/"
        }
      },
      "source": [
        "# Load the data and preprocess data and store corpus in raw_text\n",
        "file= open(\"/content/corpus.txt\",\"r\")\n",
        "raw_text=file.read()\n",
        "file.close()\n",
        "raw_text=raw_text.lower()\n",
        "raw_text=raw_text.replace('_','')\n",
        "print(raw_text)"
      ],
      "execution_count": 3,
      "outputs": [
        {
          "output_type": "stream",
          "text": [
            "chapter i.\n",
            "down the rabbit-hole alice was beginning to get very tired of sitting by her sister on the bank, and of having nothing to do: once or twice she had peeped into the book her sister was reading, but it had no pictures or conversations in it, “and what is the use of a book,” thought alice “without pictures or conversations?” so she was considering in her own mind (as well as she could, for the hot day made her feel very sleepy and stupid), whether the pleasure of making a daisy-chain would be worth the trouble of getting up and picking the daisies, when suddenly a white rabbit with pink eyes ran close by her.\n",
            "there was nothing so very remarkable in that; nor did alice think it so very much out of the way to hear the rabbit say to itself, “oh dear!\n",
            "oh dear!\n",
            "i shall be late!” (when she thought it over afterwards, it occurred to her that she ought to have wondered at this, but at the time it all seemed quite natural); but when the rabbit actually took a watch out of its waistcoat-pocket, and looked at it, and then hurried on, alice started to her feet, for it flashed across her mind that she had never before seen a rabbit with either a waistcoat-pocket, or a watch to take out of it, and burning with curiosity, she ran across the field after it, and fortunately was just in time to see it pop down a large rabbit-hole under the hedge.\n",
            "in another moment down went alice after it, never once considering how in the world she was to get out again.\n",
            "the rabbit-hole went straight on like a tunnel for some way, and then dipped suddenly down, so suddenly that alice had not a moment to think about stopping herself before she found herself falling down a very deep well.\n",
            "either the well was very deep, or she fell very slowly, for she had plenty of time as she went down to look about her and to wonder what was going to happen next.\n",
            "first, she tried to look down and make out what she was coming to, but it was too dark to see anything; then she looked at the sides of the well, and noticed that they were filled with cupboards and book-shelves; here and there she saw maps and pictures hung upon pegs.\n",
            "she took down a jar from one of the shelves as she passed; it was labelled “orange marmalade”, but to her great disappointment it was empty: she did not like to drop the jar for fear of killing somebody underneath, so managed to put it into one of the cupboards as she fell past it.\n",
            "“well!” thought alice to herself, “after such a fall as this, i shall think nothing of tumbling down stairs!\n",
            "how brave they’ll all think me at home!\n",
            "why, i wouldn’t say anything about it, even if i fell off the top of the house!” (which was very likely true.)\n",
            "down, down, down.\n",
            "would the fall never come to an end?\n",
            "“i wonder how many miles i’ve fallen by this time?” she said aloud.\n",
            "“i must be getting somewhere near the centre of the earth.\n",
            "let me see: that would be four thousand miles down, i think—” (for, you see, alice had learnt several things of this sort in her lessons in the schoolroom, and though this was not a very good opportunity for showing off her knowledge, as there was no one to listen to her, still it was good practice to say it over) “—yes, that’s about the right distance—but then i wonder what latitude or longitude i’ve got to?” (alice had no idea what latitude was, or longitude either, but thought they were nice grand words to say.)\n",
            "presently she began again.\n",
            "“i wonder if i shall fall right through the earth!\n",
            "how funny it’ll seem to come out among the people that walk with their heads downward!\n",
            "the antipathies, i think—” (she was rather glad there was no one listening, this time, as it didn’t sound at all the right word) “—but i shall have to ask them what the name of the country is, you know.\n",
            "please, ma’am, is this new zealand or australia?” (and she tried to curtsey as she spoke—fancy curtseying as you’re falling through the air!\n",
            "do you think you could manage it?)\n",
            "“and what an ignorant little girl she’ll think me for asking!\n",
            "no, it’ll never do to ask: perhaps i shall see it written up somewhere.” down, down, down.\n",
            "there was nothing else to do, so alice soon began talking again.\n",
            "“dinah’ll miss me very much to-night, i should think!” (dinah was the cat.)\n",
            "“i hope they’ll remember her saucer of milk at tea-time.\n",
            "dinah my dear!\n",
            "i wish you were down here with me!\n",
            "there are no mice in the air, i’m afraid, but you might catch a bat, and that’s very like a mouse, you know.\n",
            "but do cats eat bats, i wonder?” and here alice began to get rather sleepy, and went on saying to herself, in a dreamy sort of way, “do cats eat bats?\n",
            "do cats eat bats?” and sometimes, “do bats eat cats?” for, you see, as she couldn’t answer either question, it didn’t much matter which way she put it.\n",
            "she felt that she was dozing off, and had just begun to dream that she was walking hand in hand with dinah, and saying to her very earnestly, “now, dinah, tell me the truth: did you ever eat a bat?” when suddenly, thump!\n",
            "thump!\n",
            "down she came upon a heap of sticks and dry leaves, and the fall was over.\n",
            "alice was not a bit hurt, and she jumped up on to her feet in a moment: she looked up, but it was all dark overhead; before her was another long passage, and the white rabbit was still in sight, hurrying down it.\n",
            "there was not a moment to be lost: away went alice like the wind, and was just in time to hear it say, as it turned a corner, “oh my ears and whiskers, how late it’s getting!” she was close behind it when she turned the corner, but the rabbit was no longer to be seen: she found herself in a long, low hall, which was lit up by a row of lamps hanging from the roof.\n",
            "there were doors all round the hall, but they were all locked; and when alice had been all the way down one side and up the other, trying every door, she walked sadly down the middle, wondering how she was ever to get out again.\n",
            "suddenly she came upon a little three-legged table, all made of solid glass; there was nothing on it except a tiny golden key, and alice’s first thought was that it might belong to one of the doors of the hall; but, alas!\n",
            "either the locks were too large, or the key was too small, but at any rate it would not open any of them.\n",
            "however, on the second time round, she came upon a low curtain she had not noticed before, and behind it was a little door about fifteen inches high: she tried the little golden key in the lock, and to her great delight it fitted!\n",
            "alice opened the door and found that it led into a small passage, not much larger than a rat-hole: she knelt down and looked along the passage into the loveliest garden you ever saw.\n",
            "how she longed to get out of that dark hall, and wander about among those beds of bright flowers and those cool fountains, but she could not even get her head through the doorway; “and even if my head would go through,” thought poor alice, “it would be of very little use without my shoulders.\n",
            "oh, how i wish i could shut up like a telescope!\n",
            "i think i could, if i only knew how to begin.” for, you see, so many out-of-the-way things had happened lately, that alice had begun to think that very few things indeed were really impossible.\n",
            "there seemed to be no use in waiting by the little door, so she went back to the table, half hoping she might find another key on it, or at any rate a book of rules for shutting people up like telescopes: this time she found a little bottle on it, (“which certainly was not here before,” said alice,) and round the neck of the bottle was a paper label, with the words “drink me,” beautifully printed on it in large letters.\n",
            "it was all very well to say “drink me,” but the wise little alice was not going to do that in a hurry.\n",
            "“no, i’ll look first,” she said, “and see whether it’s marked ‘poison’ or not”; for she had read several nice little histories about children who had got burnt, and eaten up by wild beasts and other unpleasant things, all because they would not remember the simple rules their friends had taught them: such as, that a red-hot poker will burn you if you hold it too long; and that if you cut your finger very deeply with a knife, it usually bleeds; and she had never forgotten that, if you drink much from a bottle marked “poison,” it is almost certain to disagree with you, sooner or later.\n",
            "however, this bottle was not marked “poison,” so alice ventured to taste it, and finding it very nice, (it had, in fact, a sort of mixed flavour of cherry-tart, custard, pine-apple, roast turkey, toffee, and hot buttered toast,) she very soon finished it off.\n",
            "“what a curious feeling!” said alice; “i must be shutting up like a telescope.” and so it was indeed: she was now only ten inches high, and her face brightened up at the thought that she was now the right size for going through the little door into that lovely garden.\n",
            "first, however, she waited for a few minutes to see if she was going to shrink any further: she felt a little nervous about this; “for it might end, you know,” said alice to herself, “in my going out altogether, like a candle.\n",
            "i wonder what i should be like then?” and she tried to fancy what the flame of a candle is like after the candle is blown out, for she could not remember ever having seen such a thing.\n",
            "after a while, finding that nothing more happened, she decided on going into the garden at once; but, alas for poor alice!\n",
            "when she got to the door, she found she had forgotten the little golden key, and when she went back to the table for it, she found she could not possibly reach it: she could see it quite plainly through the glass, and she tried her best to climb up one of the legs of the table, but it was too slippery; and when she had tired herself out with trying, the poor little thing sat down and cried.\n",
            "“come, there’s no use in crying like that!” said alice to herself, rather sharply; “i advise you to leave off this minute!” she generally gave herself very good advice, (though she very seldom followed it), and sometimes she scolded herself so severely as to bring tears into her eyes; and once she remembered trying to box her own ears for having cheated herself in a game of croquet she was playing against herself, for this curious child was very fond of pretending to be two people.\n",
            "“but it’s no use now,” thought poor alice, “to pretend to be two people!\n",
            "why, there’s hardly enough of me left to make one respectable person!” soon her eye fell on a little glass box that was lying under the table: she opened it, and found in it a very small cake, on which the words “eat me” were beautifully marked in currants.\n",
            "“well, i’ll eat it,” said alice, “and if it makes me grow larger, i can reach the key; and if it makes me grow smaller, i can creep under the door; so either way i’ll get into the garden, and i don’t care which happens!” she ate a little bit, and said anxiously to herself, “which way?\n",
            "which way?”, holding her hand on the top of her head to feel which way it was growing, and she was quite surprised to find that she remained the same size: to be sure, this generally happens when one eats cake, but alice had got so much into the way of expecting nothing but out-of-the-way things to happen, that it seemed quite dull and stupid for life to go on in the common way.\n",
            "so she set to work, and very soon finished off the cake.\n",
            "chapter ii.\n",
            "the pool of tears “curiouser and curiouser!” cried alice (she was so much surprised, that for the moment she quite forgot how to speak good english); “now i’m opening out like the largest telescope that ever was!\n",
            "good-bye, feet!” (for when she looked down at her feet, they seemed to be almost out of sight, they were getting so far off).\n",
            "“oh, my poor little feet, i wonder who will put on your shoes and stockings for you now, dears?\n",
            "i’m sure i shan’t be able!\n",
            "i shall be a great deal too far off to trouble myself about you: you must manage the best way you can;—but i must be kind to them,” thought alice, “or perhaps they won’t walk the way i want to go!\n",
            "let me see: i’ll give them a new pair of boots every christmas.” and she went on planning to herself how she would manage it.\n",
            "“they must go by the carrier,” she thought; “and how funny it’ll seem, sending presents to one’s own feet!\n",
            "and how odd the directions will look!\n",
            "alice’s right foot, esq., hearthrug, near the fender, (with alice’s love).\n",
            "oh dear, what nonsense i’m talking!” just then her head struck against the roof of the hall: in fact she was now more than nine feet high, and she at once took up the little golden key and hurried off to the garden door.\n",
            "poor alice!\n",
            "it was as much as she could do, lying down on one side, to look through into the garden with one eye; but to get through was more hopeless than ever: she sat down and began to cry again.\n",
            "“you ought to be ashamed of yourself,” said alice, “a great girl like you,” (she might well say this), “to go on crying in this way!\n",
            "stop this moment, i tell you!” but she went on all the same, shedding gallons of tears, until there was a large pool all round her, about four inches deep and reaching half down the hall.\n",
            "after a time she heard a little pattering of feet in the distance, and she hastily dried her eyes to see what was coming.\n",
            "it was the white rabbit returning, splendidly dressed, with a pair of white kid gloves in one hand and a large fan in the other: he came trotting along in a great hurry, muttering to himself as he came, “oh!\n",
            "the duchess, the duchess!\n",
            "oh!\n",
            "won’t she be savage if i’ve kept her waiting!” alice felt so desperate that she was ready to ask help of any one; so, when the rabbit came near her, she began, in a low, timid voice, “if you please, sir—” the rabbit started violently, dropped the white kid gloves and the fan, and skurried away into the darkness as hard as he could go.\n",
            "alice took up the fan and gloves, and, as the hall was very hot, she kept fanning herself all the time she went on talking: “dear, dear!\n",
            "how queer everything is to-day!\n",
            "and yesterday things went on just as usual.\n",
            "i wonder if i’ve been changed in the night?\n",
            "let me think: was i the same when i got up this morning?\n",
            "i almost think i can remember feeling a little different.\n",
            "but if i’m not the same, the next question is, who in the world am i?\n",
            "ah, that’s the great puzzle!” and she began thinking over all the children she knew that were of the same age as herself, to see if she could have been changed for any of them.\n",
            "“i’m sure i’m not ada,” she said, “for her hair goes in such long ringlets, and mine doesn’t go in ringlets at all; and i’m sure i can’t be mabel, for i know all sorts of things, and she, oh!\n",
            "she knows such a very little!\n",
            "besides, she’s she, and i’m i, and—oh dear, how puzzling it all is!\n",
            "i’ll try if i know all the things i used to know.\n",
            "let me see: four times five is twelve, and four times six is thirteen, and four times seven is—oh dear!\n",
            "i shall never get to twenty at that rate!\n",
            "however, the multiplication table doesn’t signify: let’s try geography.\n",
            "london is the capital of paris, and paris is the capital of rome, and rome—no, that’s all wrong, i’m certain!\n",
            "i must have been changed for mabel!\n",
            "i’ll try and say ‘how doth the little—’” and she crossed her hands on her lap as if she were saying lessons, and began to repeat it, but her voice sounded hoarse and strange, and the words did not come the same as they used to do:— “how doth the little crocodile improve his shining tail, and pour the waters of the nile on every golden scale!\n",
            "“how cheerfully he seems to grin, how neatly spread his claws, and welcome little fishes in with gently smiling jaws!” “i’m sure those are not the right words,” said poor alice, and her eyes filled with tears again as she went on, “i must be mabel after all, and i shall have to go and live in that poky little house, and have next to no toys to play with, and oh!\n",
            "ever so many lessons to learn!\n",
            "no, i’ve made up my mind about it; if i’m mabel, i’ll stay down here!\n",
            "it’ll be no use their putting their heads down and saying ‘come up again, dear!’ i shall only look up and say ‘who am i then?\n",
            "tell me that first, and then, if i like being that person, i’ll come up: if not, i’ll stay down here till i’m somebody else’—but, oh dear!” cried alice, with a sudden burst of tears, “i do wish they would put their heads down!\n",
            "i am so very tired of being all alone here!” as she said this she looked down at her hands, and was surprised to see that she had put on one of the rabbit’s little white kid gloves while she was talking.\n",
            "“how can i have done that?” she thought.\n",
            "“i must be growing small again.” she got up and went to the table to measure herself by it, and found that, as nearly as she could guess, she was now about two feet high, and was going on shrinking rapidly: she soon found out that the cause of this was the fan she was holding, and she dropped it hastily, just in time to avoid shrinking away altogether.\n",
            "“that was a narrow escape!” said alice, a good deal frightened at the sudden change, but very glad to find herself still in existence; “and now for the garden!” and she ran with all speed back to the little door: but, alas!\n",
            "the little door was shut again, and the little golden key was lying on the glass table as before, “and things are worse than ever,” thought the poor child, “for i never was so small as this before, never!\n",
            "and i declare it’s too bad, that it is!” as she said these words her foot slipped, and in another moment, splash!\n",
            "she was up to her chin in salt water.\n",
            "her first idea was that she had somehow fallen into the sea, “and in that case i can go back by railway,” she said to herself.\n",
            "(alice had been to the seaside once in her life, and had come to the general conclusion, that wherever you go to on the english coast you find a number of bathing machines in the sea, some children digging in the sand with wooden spades, then a row of lodging houses, and behind them a railway station.)\n",
            "however, she soon made out that she was in the pool of tears which she had wept when she was nine feet high.\n",
            "“i wish i hadn’t cried so much!” said alice, as she swam about, trying to find her way out.\n",
            "“i shall be punished for it now, i suppose, by being drowned in my own tears!\n",
            "that will be a queer thing, to be sure!\n",
            "however, everything is queer to-day.” just then she heard something splashing about in the pool a little way off, and she swam nearer to make out what it was: at first she thought it must be a walrus or hippopotamus, but then she remembered how small she was now, and she soon made out that it was only a mouse that had slipped in like herself.\n",
            "“would it be of any use, now,” thought alice, “to speak to this mouse?\n",
            "everything is so out-of-the-way down here, that i should think very likely it can talk: at any rate, there’s no harm in trying.” so she began: “o mouse, do you know the way out of this pool?\n",
            "i am very tired of swimming about here, o mouse!” (alice thought this must be the right way of speaking to a mouse: she had never done such a thing before, but she remembered having seen in her brother’s latin grammar, “a mouse—of a mouse—to a mouse—a mouse—o mouse!”) the mouse looked at her rather inquisitively, and seemed to her to wink with one of its little eyes, but it said nothing.\n",
            "“perhaps it doesn’t understand english,” thought alice; “i daresay it’s a french mouse, come over with william the conqueror.” (for, with all her knowledge of history, alice had no very clear notion how long ago anything had happened.)\n",
            "so she began again: “où est ma chatte?” which was the first sentence in her french lesson-book.\n",
            "the mouse gave a sudden leap out of the water, and seemed to quiver all over with fright.\n",
            "“oh, i beg your pardon!” cried alice hastily, afraid that she had hurt the poor animal’s feelings.\n",
            "“i quite forgot you didn’t like cats.” “not like cats!” cried the mouse, in a shrill, passionate voice.\n",
            "“would you like cats if you were me?” “well, perhaps not,” said alice in a soothing tone: “don’t be angry about it.\n",
            "and yet i wish i could show you our cat dinah: i think you’d take a fancy to cats if you could only see her.\n",
            "she is such a dear quiet thing,” alice went on, half to herself, as she swam lazily about in the pool, “and she sits purring so nicely by the fire, licking her paws and washing her face—and she is such a nice soft thing to nurse—and she’s such a capital one for catching mice—oh, i beg your pardon!” cried alice again, for this time the mouse was bristling all over, and she felt certain it must be really offended.\n",
            "“we won’t talk about her any more if you’d rather not.” “we indeed!” cried the mouse, who was trembling down to the end of his tail.\n",
            "“as if i would talk on such a subject!\n",
            "our family always hated cats: nasty, low, vulgar things!\n",
            "don’t let me hear the name again!” “i won’t indeed!” said alice, in a great hurry to change the subject of conversation.\n",
            "“are you—are you fond—of—of dogs?” the mouse did not answer, so alice went on eagerly: “there is such a nice little dog near our house i should like to show you!\n",
            "a little bright-eyed terrier, you know, with oh, such long curly brown hair!\n",
            "and it’ll fetch things when you throw them, and it’ll sit up and beg for its dinner, and all sorts of things—i can’t remember half of them—and it belongs to a farmer, you know, and he says it’s so useful, it’s worth a hundred pounds!\n",
            "he says it kills all the rats and—oh dear!” cried alice in a sorrowful tone, “i’m afraid i’ve offended it again!” for the mouse was swimming away from her as hard as it could go, and making quite a commotion in the pool as it went.\n",
            "so she called softly after it, “mouse dear!\n",
            "do come back again, and we won’t talk about cats or dogs either, if you don’t like them!” when the mouse heard this, it turned round and swam slowly back to her: its face was quite pale (with passion, alice thought), and it said in a low trembling voice, “let us get to the shore, and then i’ll tell you my history, and you’ll understand why it is i hate cats and dogs.” it was high time to go, for the pool was getting quite crowded with the birds and animals that had fallen into it: there were a duck and a dodo, a lory and an eaglet, and several other curious creatures.\n",
            "alice led the way, and the whole party swam to the shore.\n",
            "chapter iii.\n",
            "a caucus-race and a long tale they were indeed a queer-looking party that assembled on the bank—the birds with draggled feathers, the animals with their fur clinging close to them, and all dripping wet, cross, and uncomfortable.\n",
            "the first question of course was, how to get dry again: they had a consultation about this, and after a few minutes it seemed quite natural to alice to find herself talking familiarly with them, as if she had known them all her life.\n",
            "indeed, she had quite a long argument with the lory, who at last turned sulky, and would only say, “i am older than you, and must know better;” and this alice would not allow without knowing how old it was, and, as the lory positively refused to tell its age, there was no more to be said.\n",
            "at last the mouse, who seemed to be a person of authority among them, called out, “sit down, all of you, and listen to me!\n",
            "i’ll soon make you dry enough!” they all sat down at once, in a large ring, with the mouse in the middle.\n",
            "alice kept her eyes anxiously fixed on it, for she felt sure she would catch a bad cold if she did not get dry very soon.\n",
            "“ahem!” said the mouse with an important air, “are you all ready?\n",
            "this is the driest thing i know.\n",
            "silence all round, if you please!\n",
            "‘william the conqueror, whose cause was favoured by the pope, was soon submitted to by the english, who wanted leaders, and had been of late much accustomed to usurpation and conquest.\n",
            "edwin and morcar, the earls of mercia and northumbria—’” “ugh!” said the lory, with a shiver.\n",
            "“i beg your pardon!” said the mouse, frowning, but very politely: “did you speak?” “not i!” said the lory hastily.\n",
            "“i thought you did,” said the mouse.\n",
            "“—i proceed.\n",
            "‘edwin and morcar, the earls of mercia and northumbria, declared for him: and even stigand, the patriotic archbishop of canterbury, found it advisable—’” “found what?” said the duck.\n",
            "“found it,” the mouse replied rather crossly: “of course you know what ‘it’ means.” “i know what ‘it’ means well enough, when i find a thing,” said the duck: “it’s generally a frog or a worm.\n",
            "the question is, what did the archbishop find?” the mouse did not notice this question, but hurriedly went on, “‘—found it advisable to go with edgar atheling to meet william and offer him the crown.\n",
            "william’s conduct at first was moderate.\n",
            "but the insolence of his normans—’ how are you getting on now, my dear?” it continued, turning to alice as it spoke.\n",
            "“as wet as ever,” said alice in a melancholy tone: “it doesn’t seem to dry me at all.” “in that case,” said the dodo solemnly, rising to its feet, “i move that the meeting adjourn, for the immediate adoption of more energetic remedies—” “speak english!” said the eaglet.\n",
            "“i don’t know the meaning of half those long words, and, what’s more, i don’t believe you do either!” and the eaglet bent down its head to hide a smile: some of the other birds tittered audibly.\n",
            "“what i was going to say,” said the dodo in an offended tone, “was, that the best thing to get us dry would be a caucus-race.” “what is a caucus-race?” said alice; not that she wanted much to know, but the dodo had paused as if it thought that somebody ought to speak, and no one else seemed inclined to say anything.\n",
            "“why,” said the dodo, “the best way to explain it is to do it.” (and, as you might like to try the thing yourself, some winter day, i will tell you how the dodo managed it.)\n",
            "first it marked out a race-course, in a sort of circle, (“the exact shape doesn’t matter,” it said,) and then all the party were placed along the course, here and there.\n",
            "there was no “one, two, three, and away,” but they began running when they liked, and left off when they liked, so that it was not easy to know when the race was over.\n",
            "however, when they had been running half an hour or so, and were quite dry again, the dodo suddenly called out “the race is over!” and they all crowded round it, panting, and asking, “but who has won?” this question the dodo could not answer without a great deal of thought, and it sat for a long time with one finger pressed upon its forehead (the position in which you usually see shakespeare, in the pictures of him), while the rest waited in silence.\n",
            "at last the dodo said, “everybody has won, and all must have prizes.” “but who is to give the prizes?” quite a chorus of voices asked.\n",
            "“why, she, of course,” said the dodo, pointing to alice with one finger; and the whole party at once crowded round her, calling out in a confused way, “prizes!\n",
            "prizes!” alice had no idea what to do, and in despair she put her hand in her pocket, and pulled out a box of comfits, (luckily the salt water had not got into it), and handed them round as prizes.\n",
            "there was exactly one a-piece, all round.\n",
            "“but she must have a prize herself, you know,” said the mouse.\n",
            "“of course,” the dodo replied very gravely.\n",
            "“what else have you got in your pocket?” he went on, turning to alice.\n",
            "“only a thimble,” said alice sadly.\n",
            "“hand it over here,” said the dodo.\n",
            "then they all crowded round her once more, while the dodo solemnly presented the thimble, saying “we beg your acceptance of this elegant thimble;” and, when it had finished this short speech, they all cheered.\n",
            "alice thought the whole thing very absurd, but they all looked so grave that she did not dare to laugh; and, as she could not think of anything to say, she simply bowed, and took the thimble, looking as solemn as she could.\n",
            "the next thing was to eat the comfits: this caused some noise and confusion, as the large birds complained that they could not taste theirs, and the small ones choked and had to be patted on the back.\n",
            "however, it was over at last, and they sat down again in a ring, and begged the mouse to tell them something more.\n",
            "“you promised to tell me your history, you know,” said alice, “and why it is you hate—c and d,” she added in a whisper, half afraid that it would be offended again.\n",
            "“mine is a long and a sad tale!” said the mouse, turning to alice, and sighing.\n",
            "“it is a long tail, certainly,” said alice, looking down with wonder at the mouse’s tail; “but why do you call it sad?” and she kept on puzzling about it while the mouse was speaking, so that her idea of the tale was something like this:— “fury said to a mouse, that he met in the house, ‘let us both go to law: i will prosecute you.—come, i’ll take no denial; we must have a trial: for really this morning i’ve nothing to do.’ said the mouse to the cur, ‘such a trial, dear sir, with no jury or judge, would be wasting our breath.’ ‘i’ll be judge, i’ll be jury,’ said cunning old fury: ‘i’ll try the whole cause, and condemn you to death.’” “you are not attending!” said the mouse to alice severely.\n",
            "“what are you thinking of?” “i beg your pardon,” said alice very humbly: “you had got to the fifth bend, i think?” “i had not!” cried the mouse, sharply and very angrily.\n",
            "“a knot!” said alice, always ready to make herself useful, and looking anxiously about her.\n",
            "“oh, do let me help to undo it!” “i shall do nothing of the sort,” said the mouse, getting up and walking away.\n",
            "“you insult me by talking such nonsense!” “i didn’t mean it!” pleaded poor alice.\n",
            "“but you’re so easily offended, you know!” the mouse only growled in reply.\n",
            "“please come back and finish your story!” alice called after it; and the others all joined in chorus, “yes, please do!” but the mouse only shook its head impatiently, and walked a little quicker.\n",
            "“what a pity it wouldn’t stay!” sighed the lory, as soon as it was quite out of sight; and an old crab took the opportunity of saying to her daughter “ah, my dear!\n",
            "let this be a lesson to you never to lose your temper!” “hold your tongue, ma!” said the young crab, a little snappishly.\n",
            "“you’re enough to try the patience of an oyster!” “i wish i had our dinah here, i know i do!” said alice aloud, addressing nobody in particular.\n",
            "“she’d soon fetch it back!” “and who is dinah, if i might venture to ask the question?” said the lory.\n",
            "alice replied eagerly, for she was always ready to talk about her pet: “dinah’s our cat.\n",
            "and she’s such a capital one for catching mice you can’t think!\n",
            "and oh, i wish you could see her after the birds!\n",
            "why, she’ll eat a little bird as soon as look at it!” this speech caused a remarkable sensation among the party.\n",
            "some of the birds hurried off at once: one old magpie began wrapping itself up very carefully, remarking, “i really must be getting home; the night-air doesn’t suit my throat!” and a canary called out in a trembling voice to its children, “come away, my dears!\n",
            "it’s high time you were all in bed!” on various pretexts they all moved off, and alice was soon left alone.\n",
            "“i wish i hadn’t mentioned dinah!” she said to herself in a melancholy tone.\n",
            "“nobody seems to like her, down here, and i’m sure she’s the best cat in the world!\n",
            "oh, my dear dinah!\n",
            "i wonder if i shall ever see you any more!” and here poor alice began to cry again, for she felt very lonely and low-spirited.\n",
            "in a little while, however, she again heard a little pattering of footsteps in the distance, and she looked up eagerly, half hoping that the mouse had changed his mind, and was coming back to finish his story.\n",
            "chapter iv.\n",
            "the rabbit sends in a little bill it was the white rabbit, trotting slowly back again, and looking anxiously about as it went, as if it had lost something; and she heard it muttering to itself “the duchess!\n",
            "the duchess!\n",
            "oh my dear paws!\n",
            "oh my fur and whiskers!\n",
            "she’ll get me executed, as sure as ferrets are ferrets!\n",
            "where can i have dropped them, i wonder?” alice guessed in a moment that it was looking for the fan and the pair of white kid gloves, and she very good-naturedly began hunting about for them, but they were nowhere to be seen—everything seemed to have changed since her swim in the pool, and the great hall, with the glass table and the little door, had vanished completely.\n",
            "very soon the rabbit noticed alice, as she went hunting about, and called out to her in an angry tone, “why, mary ann, what are you doing out here?\n",
            "run home this moment, and fetch me a pair of gloves and a fan!\n",
            "quick, now!” and alice was so much frightened that she ran off at once in the direction it pointed to, without trying to explain the mistake it had made.\n",
            "“he took me for his housemaid,” she said to herself as she ran.\n",
            "“how surprised he’ll be when he finds out who i am!\n",
            "but i’d better take him his fan and gloves—that is, if i can find them.” as she said this, she came upon a neat little house, on the door of which was a bright brass plate with the name “w.\n",
            "rabbit,” engraved upon it.\n",
            "she went in without knocking, and hurried upstairs, in great fear lest she should meet the real mary ann, and be turned out of the house before she had found the fan and gloves.\n",
            "“how queer it seems,” alice said to herself, “to be going messages for a rabbit!\n",
            "i suppose dinah’ll be sending me on messages next!” and she began fancying the sort of thing that would happen: “‘miss alice!\n",
            "come here directly, and get ready for your walk!’ ‘coming in a minute, nurse!\n",
            "but i’ve got to see that the mouse doesn’t get out.’ only i don’t think,” alice went on, “that they’d let dinah stop in the house if it began ordering people about like that!” by this time she had found her way into a tidy little room with a table in the window, and on it (as she had hoped) a fan and two or three pairs of tiny white kid gloves: she took up the fan and a pair of the gloves, and was just going to leave the room, when her eye fell upon a little bottle that stood near the looking-glass.\n",
            "there was no label this time with the words “drink me,” but nevertheless she uncorked it and put it to her lips.\n",
            "“i know something interesting is sure to happen,” she said to herself, “whenever i eat or drink anything; so i’ll just see what this bottle does.\n",
            "i do hope it’ll make me grow large again, for really i’m quite tired of being such a tiny little thing!” it did so indeed, and much sooner than she had expected: before she had drunk half the bottle, she found her head pressing against the ceiling, and had to stoop to save her neck from being broken.\n",
            "she hastily put down the bottle, saying to herself “that’s quite enough—i hope i shan’t grow any more—as it is, i can’t get out at the door—i do wish i hadn’t drunk quite so much!” alas!\n",
            "it was too late to wish that!\n",
            "she went on growing, and growing, and very soon had to kneel down on the floor: in another minute there was not even room for this, and she tried the effect of lying down with one elbow against the door, and the other arm curled round her head.\n",
            "still she went on growing, and, as a last resource, she put one arm out of the window, and one foot up the chimney, and said to herself “now i can do no more, whatever happens.\n",
            "what will become of me?” luckily for alice, the little magic bottle had now had its full effect, and she grew no larger: still it was very uncomfortable, and, as there seemed to be no sort of chance of her ever getting out of the room again, no wonder she felt unhappy.\n",
            "“it was much pleasanter at home,” thought poor alice, “when one wasn’t always growing larger and smaller, and being ordered about by mice and rabbits.\n",
            "i almost wish i hadn’t gone down that rabbit-hole—and yet—and yet—it’s rather curious, you know, this sort of life!\n",
            "i do wonder what can have happened to me!\n",
            "when i used to read fairy-tales, i fancied that kind of thing never happened, and now here i am in the middle of one!\n",
            "there ought to be a book written about me, that there ought!\n",
            "and when i grow up, i’ll write one—but i’m grown up now,” she added in a sorrowful tone; “at least there’s no room to grow up any more here.” “but then,” thought alice, “shall i never get any older than i am now?\n",
            "that’ll be a comfort, one way—never to be an old woman—but then—always to have lessons to learn!\n",
            "oh, i shouldn’t like that!” “oh, you foolish alice!” she answered herself.\n",
            "“how can you learn lessons in here?\n",
            "why, there’s hardly room for you, and no room at all for any lesson-books!” and so she went on, taking first one side and then the other, and making quite a conversation of it altogether; but after a few minutes she heard a voice outside, and stopped to listen.\n",
            "“mary ann!\n",
            "mary ann!” said the voice.\n",
            "“fetch me my gloves this moment!” then came a little pattering of feet on the stairs.\n",
            "alice knew it was the rabbit coming to look for her, and she trembled till she shook the house, quite forgetting that she was now about a thousand times as large as the rabbit, and had no reason to be afraid of it.\n",
            "presently the rabbit came up to the door, and tried to open it; but, as the door opened inwards, and alice’s elbow was pressed hard against it, that attempt proved a failure.\n",
            "alice heard it say to itself “then i’ll go round and get in at the window.” “that you won’t!” thought alice, and, after waiting till she fancied she heard the rabbit just under the window, she suddenly spread out her hand, and made a snatch in the air.\n",
            "she did not get hold of anything, but she heard a little shriek and a fall, and a crash of broken glass, from which she concluded that it was just possible it had fallen into a cucumber-frame, or something of the sort.\n",
            "next came an angry voice—the rabbit’s—“pat!\n",
            "pat!\n",
            "where are you?” and then a voice she had never heard before, “sure then i’m here!\n",
            "digging for apples, yer honour!” “digging for apples, indeed!” said the rabbit angrily.\n",
            "“here!\n",
            "come and help me out of this!” (sounds of more broken glass.)\n",
            "“now tell me, pat, what’s that in the window?” “sure, it’s an arm, yer honour!” (he pronounced it “arrum.”) “an arm, you goose!\n",
            "who ever saw one that size?\n",
            "why, it fills the whole window!” “sure, it does, yer honour: but it’s an arm for all that.” “well, it’s got no business there, at any rate: go and take it away!” there was a long silence after this, and alice could only hear whispers now and then; such as, “sure, i don’t like it, yer honour, at all, at all!” “do as i tell you, you coward!” and at last she spread out her hand again, and made another snatch in the air.\n",
            "this time there were two little shrieks, and more sounds of broken glass.\n",
            "“what a number of cucumber-frames there must be!” thought alice.\n",
            "“i wonder what they’ll do next!\n",
            "as for pulling me out of the window, i only wish they could! i’m sure i don’t want to stay in here any longer!” she waited for some time without hearing anything more: at last came a rumbling of little cartwheels, and the sound of a good many voices all talking together: she made out the words: “where’s the other ladder?—why, i hadn’t to bring but one; bill’s got the other—bill!\n",
            "fetch it here, lad!—here, put ’em up at this corner—no, tie ’em together first—they don’t reach half high enough yet—oh!\n",
            "they’ll do well enough; don’t be particular—here, bill!\n",
            "catch hold of this rope—will the roof bear?—mind that loose slate—oh, it’s coming down!\n",
            "heads below!” (a loud crash)—“now, who did that?—it was bill, i fancy—who’s to go down the chimney?—nay, i shan’t!\n",
            "you do it!—that i won’t, then!—bill’s to go down—here, bill!\n",
            "the master says you’re to go down the chimney!” “oh!\n",
            "so bill’s got to come down the chimney, has he?” said alice to herself.\n",
            "“shy, they seem to put everything upon bill!\n",
            "i wouldn’t be in bill’s place for a good deal: this fireplace is narrow, to be sure; but i think i can kick a little!” she drew her foot as far down the chimney as she could, and waited till she heard a little animal (she couldn’t guess of what sort it was) scratching and scrambling about in the chimney close above her: then, saying to herself “this is bill,” she gave one sharp kick, and waited to see what would happen next.\n",
            "the first thing she heard was a general chorus of “there goes bill!” then the rabbit’s voice along—“catch him, you by the hedge!” then silence, and then another confusion of voices—“hold up his head—brandy now—don’t choke him—how was it, old fellow?\n",
            "what happened to you?\n",
            "tell us all about it!” last came a little feeble, squeaking voice, (“that’s bill,” thought alice,) “well, i hardly know—no more, thank ye; i’m better now—but i’m a deal too flustered to tell you—all i know is, something comes at me like a jack-in-the-box, and up i goes like a sky-rocket!” “so you did, old fellow!” said the others.\n",
            "“we must burn the house down!” said the rabbit’s voice; and alice called out as loud as she could, “if you do, i’ll set dinah at you!” there was a dead silence instantly, and alice thought to herself, “i wonder what they will do next!\n",
            "if they had any sense, they’d take the roof off.” after a minute or two, they began moving about again, and alice heard the rabbit say, “a barrowful will do, to begin with.” “a barrowful of what?” thought alice; but she had not long to doubt, for the next moment a shower of little pebbles came rattling in at the window, and some of them hit her in the face.\n",
            "“i’ll put a stop to this,” she said to herself, and shouted out, “you’d better not do that again!” which produced another dead silence.\n",
            "alice noticed with some surprise that the pebbles were all turning into little cakes as they lay on the floor, and a bright idea came into her head.\n",
            "“if i eat one of these cakes,” she thought, “it’s sure to make some change in my size; and as it can’t possibly make me larger, it must make me smaller, i suppose.” so she swallowed one of the cakes, and was delighted to find that she began shrinking directly.\n",
            "as soon as she was small enough to get through the door, she ran out of the house, and found quite a crowd of little animals and birds waiting outside.\n",
            "the poor little lizard, bill, was in the middle, being held up by two guinea-pigs, who were giving it something out of a bottle.\n",
            "they all made a rush at alice the moment she appeared; but she ran off as hard as she could, and soon found herself safe in a thick wood.\n",
            "“the first thing i’ve got to do,” said alice to herself, as she wandered about in the wood, “is to grow to my right size again; and the second thing is to find my way into that lovely garden.\n",
            "i think that will be the best plan.” it sounded an excellent plan, no doubt, and very neatly and simply arranged; the only difficulty was, that she had not the smallest idea how to set about it; and while she was peering about anxiously among the trees, a little sharp bark just over her head made her look up in a great hurry.\n",
            "an enormous puppy was looking down at her with large round eyes, and feebly stretching out one paw, trying to touch her.\n",
            "“poor little thing!” said alice, in a coaxing tone, and she tried hard to whistle to it; but she was terribly frightened all the time at the thought that it might be hungry, in which case it would be very likely to eat her up in spite of all her coaxing.\n",
            "hardly knowing what she did, she picked up a little bit of stick, and held it out to the puppy; whereupon the puppy jumped into the air off all its feet at once, with a yelp of delight, and rushed at the stick, and made believe to worry it; then alice dodged behind a great thistle, to keep herself from being run over; and the moment she appeared on the other side, the puppy made another rush at the stick, and tumbled head over heels in its hurry to get hold of it; then alice, thinking it was very like having a game of play with a cart-horse, and expecting every moment to be trampled under its feet, ran round the thistle again; then the puppy began a series of short charges at the stick, running a very little way forwards each time and a long way back, and barking hoarsely all the while, till at last it sat down a good way off, panting, with its tongue hanging out of its mouth, and its great eyes half shut.\n",
            "this seemed to alice a good opportunity for making her escape; so she set off at once, and ran till she was quite tired and out of breath, and till the puppy’s bark sounded quite faint in the distance.\n",
            "“and yet what a dear little puppy it was!” said alice, as she leant against a buttercup to rest herself, and fanned herself with one of the leaves: “i should have liked teaching it tricks very much, if—if i’d only been the right size to do it!\n",
            "oh dear!\n",
            "i’d nearly forgotten that i’ve got to grow up again!\n",
            "let me see—how is it to be managed?\n",
            "i suppose i ought to eat or drink something or other; but the great question is, what?” the great question certainly was, what?\n",
            "alice looked all round her at the flowers and the blades of grass, but she did not see anything that looked like the right thing to eat or drink under the circumstances.\n",
            "there was a large mushroom growing near her, about the same height as herself; and when she had looked under it, and on both sides of it, and behind it, it occurred to her that she might as well look and see what was on the top of it.\n",
            "she stretched herself up on tiptoe, and peeped over the edge of the mushroom, and her eyes immediately met those of a large caterpillar, that was sitting on the top with its arms folded, quietly smoking a long hookah, and taking not the smallest notice of her or of anything else.\n",
            "chapter v. advice from a caterpillar the caterpillar and alice looked at each other for some time in silence: at last the caterpillar took the hookah out of its mouth, and addressed her in a languid, sleepy voice.\n",
            "“who are you?” said the caterpillar.\n",
            "this was not an encouraging opening for a conversation.\n",
            "alice replied, rather shyly, “i—i hardly know, sir, just at present—at least i know who i was when i got up this morning, but i think i must have been changed several times since then.” “what do you mean by that?” said the caterpillar sternly.\n",
            "“explain yourself!” “i can’t explain myself, i’m afraid, sir,” said alice, “because i’m not myself, you see.” “i don’t see,” said the caterpillar.\n",
            "“i’m afraid i can’t put it more clearly,” alice replied very politely, “for i can’t understand it myself to begin with; and being so many different sizes in a day is very confusing.” “it isn’t,” said the caterpillar.\n",
            "“well, perhaps you haven’t found it so yet,” said alice; “but when you have to turn into a chrysalis—you will some day, you know—and then after that into a butterfly, i should think you’ll feel it a little queer, won’t you?” “not a bit,” said the caterpillar.\n",
            "“well, perhaps your feelings may be different,” said alice; “all i know is, it would feel very queer to me.” “you!” said the caterpillar contemptuously.\n",
            "“who are you?” which brought them back again to the beginning of the conversation.\n",
            "alice felt a little irritated at the caterpillar’s making such very short remarks, and she drew herself up and said, very gravely, “i think, you ought to tell me who you are, first.” “why?” said the caterpillar.\n",
            "here was another puzzling question; and as alice could not think of any good reason, and as the caterpillar seemed to be in a very unpleasant state of mind, she turned away.\n",
            "“come back!” the caterpillar called after her.\n",
            "“i’ve something important to say!” this sounded promising, certainly: alice turned and came back again.\n",
            "“keep your temper,” said the caterpillar.\n",
            "“is that all?” said alice, swallowing down her anger as well as she could.\n",
            "“no,” said the caterpillar.\n",
            "alice thought she might as well wait, as she had nothing else to do, and perhaps after all it might tell her something worth hearing.\n",
            "for some minutes it puffed away without speaking, but at last it unfolded its arms, took the hookah out of its mouth again, and said, “so you think you’re changed, do you?” “i’m afraid i am, sir,” said alice; “i can’t remember things as i used—and i don’t keep the same size for ten minutes together!” “can’t remember what things?” said the caterpillar.\n",
            "“well, i’ve tried to say “how doth the little busy bee,” but it all came different!” alice replied in a very melancholy voice.\n",
            "“repeat, “you are old, father william,’” said the caterpillar.\n",
            "alice folded her hands, and began:— “you are old, father william,” the young man said, “and your hair has become very white; and yet you incessantly stand on your head— do you think, at your age, it is right?” “in my youth,” father william replied to his son, “i feared it might injure the brain; but, now that i’m perfectly sure i have none, why, i do it again and again.” “you are old,” said the youth, “as i mentioned before, and have grown most uncommonly fat; yet you turned a back-somersault in at the door— pray, what is the reason of that?” “in my youth,” said the sage, as he shook his grey locks, “i kept all my limbs very supple by the use of this ointment—one shilling the box— allow me to sell you a couple?” “you are old,” said the youth, “and your jaws are too weak for anything tougher than suet; yet you finished the goose, with the bones and the beak— pray, how did you manage to do it?” “in my youth,” said his father, “i took to the law, and argued each case with my wife; and the muscular strength, which it gave to my jaw, has lasted the rest of my life.” “you are old,” said the youth, “one would hardly suppose that your eye was as steady as ever; yet you balanced an eel on the end of your nose— what made you so awfully clever?” “i have answered three questions, and that is enough,” said his father; “don’t give yourself airs!\n",
            "do you think i can listen all day to such stuff?\n",
            "be off, or i’ll kick you down stairs!” “that is not said right,” said the caterpillar.\n",
            "“not quite right, i’m afraid,” said alice, timidly; “some of the words have got altered.” “it is wrong from beginning to end,” said the caterpillar decidedly, and there was silence for some minutes.\n",
            "the caterpillar was the first to speak.\n",
            "“what size do you want to be?” it asked.\n",
            "“oh, i’m not particular as to size,” alice hastily replied; “only one doesn’t like changing so often, you know.” “i don’t know,” said the caterpillar.\n",
            "alice said nothing: she had never been so much contradicted in her life before, and she felt that she was losing her temper.\n",
            "“are you content now?” said the caterpillar.\n",
            "“well, i should like to be a little larger, sir, if you wouldn’t mind,” said alice: “three inches is such a wretched height to be.” “it is a very good height indeed!” said the caterpillar angrily, rearing itself upright as it spoke (it was exactly three inches high).\n",
            "“but i’m not used to it!” pleaded poor alice in a piteous tone.\n",
            "and she thought of herself, “i wish the creatures wouldn’t be so easily offended!” “you’ll get used to it in time,” said the caterpillar; and it put the hookah into its mouth and began smoking again.\n",
            "this time alice waited patiently until it chose to speak again.\n",
            "in a minute or two the caterpillar took the hookah out of its mouth and yawned once or twice, and shook itself.\n",
            "then it got down off the mushroom, and crawled away in the grass, merely remarking as it went, “one side will make you grow taller, and the other side will make you grow shorter.” “one side of what? the other side of what?” thought alice to herself.\n",
            "“of the mushroom,” said the caterpillar, just as if she had asked it aloud; and in another moment it was out of sight.\n",
            "alice remained looking thoughtfully at the mushroom for a minute, trying to make out which were the two sides of it; and as it was perfectly round, she found this a very difficult question.\n",
            "however, at last she stretched her arms round it as far as they would go, and broke off a bit of the edge with each hand.\n",
            "“and now which is which?” she said to herself, and nibbled a little of the right-hand bit to try the effect: the next moment she felt a violent blow underneath her chin: it had struck her foot!\n",
            "she was a good deal frightened by this very sudden change, but she felt that there was no time to be lost, as she was shrinking rapidly; so she set to work at once to eat some of the other bit.\n",
            "her chin was pressed so closely against her foot, that there was hardly room to open her mouth; but she did it at last, and managed to swallow a morsel of the lefthand bit.\n",
            "“come, my head’s free at last!” said alice in a tone of delight, which changed into alarm in another moment, when she found that her shoulders were nowhere to be found: all she could see, when she looked down, was an immense length of neck, which seemed to rise like a stalk out of a sea of green leaves that lay far below her.\n",
            "“what can all that green stuff be?” said alice.\n",
            "“and where have my shoulders got to?\n",
            "and oh, my poor hands, how is it i can’t see you?” she was moving them about as she spoke, but no result seemed to follow, except a little shaking among the distant green leaves.\n",
            "as there seemed to be no chance of getting her hands up to her head, she tried to get her head down to them, and was delighted to find that her neck would bend about easily in any direction, like a serpent.\n",
            "she had just succeeded in curving it down into a graceful zigzag, and was going to dive in among the leaves, which she found to be nothing but the tops of the trees under which she had been wandering, when a sharp hiss made her draw back in a hurry: a large pigeon had flown into her face, and was beating her violently with its wings.\n",
            "“serpent!” screamed the pigeon.\n",
            "“i’m not a serpent!” said alice indignantly.\n",
            "“let me alone!” “serpent, i say again!” repeated the pigeon, but in a more subdued tone, and added with a kind of sob, “i’ve tried every way, and nothing seems to suit them!” “i haven’t the least idea what you’re talking about,” said alice.\n",
            "“i’ve tried the roots of trees, and i’ve tried banks, and i’ve tried hedges,” the pigeon went on, without attending to her; “but those serpents!\n",
            "there’s no pleasing them!” alice was more and more puzzled, but she thought there was no use in saying anything more till the pigeon had finished.\n",
            "“as if it wasn’t trouble enough hatching the eggs,” said the pigeon; “but i must be on the look-out for serpents night and day!\n",
            "why, i haven’t had a wink of sleep these three weeks!” “i’m very sorry you’ve been annoyed,” said alice, who was beginning to see its meaning.\n",
            "“and just as i’d taken the highest tree in the wood,” continued the pigeon, raising its voice to a shriek, “and just as i was thinking i should be free of them at last, they must needs come wriggling down from the sky!\n",
            "ugh, serpent!” “but i’m not a serpent, i tell you!” said alice.\n",
            "“i’m a—i’m a—” “well!\n",
            "what are you?” said the pigeon.\n",
            "“i can see you’re trying to invent something!” “i—i’m a little girl,” said alice, rather doubtfully, as she remembered the number of changes she had gone through that day.\n",
            "“a likely story indeed!” said the pigeon in a tone of the deepest contempt.\n",
            "“i’ve seen a good many little girls in my time, but never one with such a neck as that!\n",
            "no, no!\n",
            "you’re a serpent; and there’s no use denying it.\n",
            "i suppose you’ll be telling me next that you never tasted an egg!” “i have tasted eggs, certainly,” said alice, who was a very truthful child; “but little girls eat eggs quite as much as serpents do, you know.” “i don’t believe it,” said the pigeon; “but if they do, why then they’re a kind of serpent, that’s all i can say.” this was such a new idea to alice, that she was quite silent for a minute or two, which gave the pigeon the opportunity of adding, “you’re looking for eggs, i know that well enough; and what does it matter to me whether you’re a little girl or a serpent?” “it matters a good deal to me,” said alice hastily; “but i’m not looking for eggs, as it happens; and if i was, i shouldn’t want yours: i don’t like them raw.” “well, be off, then!” said the pigeon in a sulky tone, as it settled down again into its nest.\n",
            "alice crouched down among the trees as well as she could, for her neck kept getting entangled among the branches, and every now and then she had to stop and untwist it.\n",
            "after a while she remembered that she still held the pieces of mushroom in her hands, and she set to work very carefully, nibbling first at one and then at the other, and growing sometimes taller and sometimes shorter, until she had succeeded in bringing herself down to her usual height.\n",
            "it was so long since she had been anything near the right size, that it felt quite strange at first; but she got used to it in a few minutes, and began talking to herself, as usual.\n",
            "“come, there’s half my plan done now!\n",
            "how puzzling all these changes are!\n",
            "i’m never sure what i’m going to be, from one minute to another!\n",
            "however, i’ve got back to my right size: the next thing is, to get into that beautiful garden—how is that to be done, i wonder?” as she said this, she came suddenly upon an open place, with a little house in it about four feet high.\n",
            "“whoever lives there,” thought alice, “it’ll never do to come upon them this size: why, i should frighten them out of their wits!” so she began nibbling at the righthand bit again, and did not venture to go near the house till she had brought herself down to nine inches high.\n",
            "chapter vi.\n",
            "pig and pepper for a minute or two she stood looking at the house, and wondering what to do next, when suddenly a footman in livery came running out of the wood—(she considered him to be a footman because he was in livery: otherwise, judging by his face only, she would have called him a fish)—and rapped loudly at the door with his knuckles.\n",
            "it was opened by another footman in livery, with a round face, and large eyes like a frog; and both footmen, alice noticed, had powdered hair that curled all over their heads.\n",
            "she felt very curious to know what it was all about, and crept a little way out of the wood to listen.\n",
            "the fish-footman began by producing from under his arm a great letter, nearly as large as himself, and this he handed over to the other, saying, in a solemn tone, “for the duchess.\n",
            "an invitation from the queen to play croquet.” the frog-footman repeated, in the same solemn tone, only changing the order of the words a little, “from the queen.\n",
            "an invitation for the duchess to play croquet.” then they both bowed low, and their curls got entangled together.\n",
            "alice laughed so much at this, that she had to run back into the wood for fear of their hearing her; and when she next peeped out the fish-footman was gone, and the other was sitting on the ground near the door, staring stupidly up into the sky.\n",
            "alice went timidly up to the door, and knocked.\n",
            "“there’s no sort of use in knocking,” said the footman, “and that for two reasons.\n",
            "first, because i’m on the same side of the door as you are; secondly, because they’re making such a noise inside, no one could possibly hear you.” and certainly there was a most extraordinary noise going on within—a constant howling and sneezing, and every now and then a great crash, as if a dish or kettle had been broken to pieces.\n",
            "“please, then,” said alice, “how am i to get in?” “there might be some sense in your knocking,” the footman went on without attending to her, “if we had the door between us.\n",
            "for instance, if you were inside, you might knock, and i could let you out, you know.” he was looking up into the sky all the time he was speaking, and this alice thought decidedly uncivil.\n",
            "“but perhaps he can’t help it,” she said to herself; “his eyes are so very nearly at the top of his head.\n",
            "but at any rate he might answer questions.—how am i to get in?” she repeated, aloud.\n",
            "“i shall sit here,” the footman remarked, “till tomorrow—” at this moment the door of the house opened, and a large plate came skimming out, straight at the footman’s head: it just grazed his nose, and broke to pieces against one of the trees behind him.\n",
            "“—or next day, maybe,” the footman continued in the same tone, exactly as if nothing had happened.\n",
            "“how am i to get in?” asked alice again, in a louder tone.\n",
            "“are you to get in at all?” said the footman.\n",
            "“that’s the first question, you know.” it was, no doubt: only alice did not like to be told so.\n",
            "“it’s really dreadful,” she muttered to herself, “the way all the creatures argue.\n",
            "it’s enough to drive one crazy!” the footman seemed to think this a good opportunity for repeating his remark, with variations.\n",
            "“i shall sit here,” he said, “on and off, for days and days.” “but what am i to do?” said alice.\n",
            "“anything you like,” said the footman, and began whistling.\n",
            "“oh, there’s no use in talking to him,” said alice desperately: “he’s perfectly idiotic!” and she opened the door and went in.\n",
            "the door led right into a large kitchen, which was full of smoke from one end to the other: the duchess was sitting on a three-legged stool in the middle, nursing a baby; the cook was leaning over the fire, stirring a large cauldron which seemed to be full of soup.\n",
            "“there’s certainly too much pepper in that soup!” alice said to herself, as well as she could for sneezing.\n",
            "there was certainly too much of it in the air.\n",
            "even the duchess sneezed occasionally; and as for the baby, it was sneezing and howling alternately without a moment’s pause.\n",
            "the only things in the kitchen that did not sneeze, were the cook, and a large cat which was sitting on the hearth and grinning from ear to ear.\n",
            "“please would you tell me,” said alice, a little timidly, for she was not quite sure whether it was good manners for her to speak first, “why your cat grins like that?” “it’s a cheshire cat,” said the duchess, “and that’s why.\n",
            "pig!” she said the last word with such sudden violence that alice quite jumped; but she saw in another moment that it was addressed to the baby, and not to her, so she took courage, and went on again:— “i didn’t know that cheshire cats always grinned; in fact, i didn’t know that cats could grin.” “they all can,” said the duchess; “and most of ’em do.” “i don’t know of any that do,” alice said very politely, feeling quite pleased to have got into a conversation.\n",
            "“you don’t know much,” said the duchess; “and that’s a fact.” alice did not at all like the tone of this remark, and thought it would be as well to introduce some other subject of conversation.\n",
            "while she was trying to fix on one, the cook took the cauldron of soup off the fire, and at once set to work throwing everything within her reach at the duchess and the baby—the fire-irons came first; then followed a shower of saucepans, plates, and dishes.\n",
            "the duchess took no notice of them even when they hit her; and the baby was howling so much already, that it was quite impossible to say whether the blows hurt it or not.\n",
            "“oh, please mind what you’re doing!” cried alice, jumping up and down in an agony of terror.\n",
            "“oh, there goes his precious nose!” as an unusually large saucepan flew close by it, and very nearly carried it off.\n",
            "“if everybody minded their own business,” the duchess said in a hoarse growl, “the world would go round a deal faster than it does.” “which would not be an advantage,” said alice, who felt very glad to get an opportunity of showing off a little of her knowledge.\n",
            "“just think of what work it would make with the day and night!\n",
            "you see the earth takes twenty-four hours to turn round on its axis—” “talking of axes,” said the duchess, “chop off her head!” alice glanced rather anxiously at the cook, to see if she meant to take the hint; but the cook was busily stirring the soup, and seemed not to be listening, so she went on again: “twenty-four hours, i think; or is it twelve?\n",
            "i—” “oh, don’t bother me,” said the duchess; “i never could abide figures!” and with that she began nursing her child again, singing a sort of lullaby to it as she did so, and giving it a violent shake at the end of every line: “speak roughly to your little boy, and beat him when he sneezes: he only does it to annoy, because he knows it teases.” chorus.\n",
            "(in which the cook and the baby joined): “wow!\n",
            "wow!\n",
            "wow!” while the duchess sang the second verse of the song, she kept tossing the baby violently up and down, and the poor little thing howled so, that alice could hardly hear the words:— “i speak severely to my boy, i beat him when he sneezes; for he can thoroughly enjoy the pepper when he pleases!” chorus.\n",
            "“wow!\n",
            "wow!\n",
            "wow!” “here!\n",
            "you may nurse it a bit, if you like!” the duchess said to alice, flinging the baby at her as she spoke.\n",
            "“i must go and get ready to play croquet with the queen,” and she hurried out of the room.\n",
            "the cook threw a frying-pan after her as she went out, but it just missed her.\n",
            "alice caught the baby with some difficulty, as it was a queer-shaped little creature, and held out its arms and legs in all directions, “just like a star-fish,” thought alice.\n",
            "the poor little thing was snorting like a steam-engine when she caught it, and kept doubling itself up and straightening itself out again, so that altogether, for the first minute or two, it was as much as she could do to hold it.\n",
            "as soon as she had made out the proper way of nursing it, (which was to twist it up into a sort of knot, and then keep tight hold of its right ear and left foot, so as to prevent its undoing itself,) she carried it out into the open air.\n",
            "“if i don’t take this child away with me,” thought alice, “they’re sure to kill it in a day or two: wouldn’t it be murder to leave it behind?” she said the last words out loud, and the little thing grunted in reply (it had left off sneezing by this time).\n",
            "“don’t grunt,” said alice; “that’s not at all a proper way of expressing yourself.” the baby grunted again, and alice looked very anxiously into its face to see what was the matter with it.\n",
            "there could be no doubt that it had a very turn-up nose, much more like a snout than a real nose; also its eyes were getting extremely small for a baby: altogether alice did not like the look of the thing at all.\n",
            "“but perhaps it was only sobbing,” she thought, and looked into its eyes again, to see if there were any tears.\n",
            "no, there were no tears.\n",
            "“if you’re going to turn into a pig, my dear,” said alice, seriously, “i’ll have nothing more to do with you.\n",
            "mind now!” the poor little thing sobbed again (or grunted, it was impossible to say which), and they went on for some while in silence.\n",
            "alice was just beginning to think to herself, “now, what am i to do with this creature when i get it home?” when it grunted again, so violently, that she looked down into its face in some alarm.\n",
            "this time there could be no mistake about it: it was neither more nor less than a pig, and she felt that it would be quite absurd for her to carry it further.\n",
            "so she set the little creature down, and felt quite relieved to see it trot away quietly into the wood.\n",
            "“if it had grown up,” she said to herself, “it would have made a dreadfully ugly child: but it makes rather a handsome pig, i think.” and she began thinking over other children she knew, who might do very well as pigs, and was just saying to herself, “if one only knew the right way to change them—” when she was a little startled by seeing the cheshire cat sitting on a bough of a tree a few yards off.\n",
            "the cat only grinned when it saw alice.\n",
            "it looked good-natured, she thought: still it had very long claws and a great many teeth, so she felt that it ought to be treated with respect.\n",
            "“cheshire puss,” she began, rather timidly, as she did not at all know whether it would like the name: however, it only grinned a little wider.\n",
            "“come, it’s pleased so far,” thought alice, and she went on.\n",
            "“would you tell me, please, which way i ought to go from here?” “that depends a good deal on where you want to get to,” said the cat.\n",
            "“i don’t much care where—” said alice.\n",
            "“then it doesn’t matter which way you go,” said the cat.\n",
            "“—so long as i get somewhere,” alice added as an explanation.\n",
            "“oh, you’re sure to do that,” said the cat, “if you only walk long enough.” alice felt that this could not be denied, so she tried another question.\n",
            "“what sort of people live about here?” “in that direction,” the cat said, waving its right paw round, “lives a hatter: and in that direction,” waving the other paw, “lives a march hare.\n",
            "visit either you like: they’re both mad.” “but i don’t want to go among mad people,” alice remarked.\n",
            "“oh, you can’t help that,” said the cat: “we’re all mad here.\n",
            "i’m mad.\n",
            "you’re mad.” “how do you know i’m mad?” said alice.\n",
            "“you must be,” said the cat, “or you wouldn’t have come here.” alice didn’t think that proved it at all; however, she went on “and how do you know that you’re mad?” “to begin with,” said the cat, “a dog’s not mad.\n",
            "you grant that?” “i suppose so,” said alice.\n",
            "“well, then,” the cat went on, “you see, a dog growls when it’s angry, and wags its tail when it’s pleased.\n",
            "now i growl when i’m pleased, and wag my tail when i’m angry.\n",
            "therefore i’m mad.” “i call it purring, not growling,” said alice.\n",
            "“call it what you like,” said the cat.\n",
            "“do you play croquet with the queen to-day?” “i should like it very much,” said alice, “but i haven’t been invited yet.” “you’ll see me there,” said the cat, and vanished.\n",
            "alice was not much surprised at this, she was getting so used to queer things happening.\n",
            "while she was looking at the place where it had been, it suddenly appeared again.\n",
            "“by-the-bye, what became of the baby?” said the cat.\n",
            "“i’d nearly forgotten to ask.” “it turned into a pig,” alice quietly said, just as if it had come back in a natural way.\n",
            "“i thought it would,” said the cat, and vanished again.\n",
            "alice waited a little, half expecting to see it again, but it did not appear, and after a minute or two she walked on in the direction in which the march hare was said to live.\n",
            "“i’ve seen hatters before,” she said to herself; “the march hare will be much the most interesting, and perhaps as this is may it won’t be raving mad—at least not so mad as it was in march.” as she said this, she looked up, and there was the cat again, sitting on a branch of a tree.\n",
            "“did you say pig, or fig?” said the cat.\n",
            "“i said pig,” replied alice; “and i wish you wouldn’t keep appearing and vanishing so suddenly: you make one quite giddy.” “all right,” said the cat; and this time it vanished quite slowly, beginning with the end of the tail, and ending with the grin, which remained some time after the rest of it had gone.\n",
            "“well!\n",
            "i’ve often seen a cat without a grin,” thought alice; “but a grin without a cat!\n",
            "it’s the most curious thing i ever saw in my life!” she had not gone much farther before she came in sight of the house of the march hare: she thought it must be the right house, because the chimneys were shaped like ears and the roof was thatched with fur.\n",
            "it was so large a house, that she did not like to go nearer till she had nibbled some more of the lefthand bit of mushroom, and raised herself to about two feet high: even then she walked up towards it rather timidly, saying to herself “suppose it should be raving mad after all!\n",
            "i almost wish i’d gone to see the hatter instead!” chapter vii.\n",
            "a mad tea-party there was a table set out under a tree in front of the house, and the march hare and the hatter were having tea at it: a dormouse was sitting between them, fast asleep, and the other two were using it as a cushion, resting their elbows on it, and talking over its head.\n",
            "“very uncomfortable for the dormouse,” thought alice; “only, as it’s asleep, i suppose it doesn’t mind.” the table was a large one, but the three were all crowded together at one corner of it: “no room!\n",
            "no room!” they cried out when they saw alice coming.\n",
            "“there’s plenty of room!” said alice indignantly, and she sat down in a large arm-chair at one end of the table.\n",
            "“have some wine,” the march hare said in an encouraging tone.\n",
            "alice looked all round the table, but there was nothing on it but tea.\n",
            "“i don’t see any wine,” she remarked.\n",
            "“there isn’t any,” said the march hare.\n",
            "“then it wasn’t very civil of you to offer it,” said alice angrily.\n",
            "“it wasn’t very civil of you to sit down without being invited,” said the march hare.\n",
            "“i didn’t know it was your table,” said alice; “it’s laid for a great many more than three.” “your hair wants cutting,” said the hatter.\n",
            "he had been looking at alice for some time with great curiosity, and this was his first speech.\n",
            "“you should learn not to make personal remarks,” alice said with some severity; “it’s very rude.” the hatter opened his eyes very wide on hearing this; but all he said was, “why is a raven like a writing-desk?” “come, we shall have some fun now!” thought alice.\n",
            "“i’m glad they’ve begun asking riddles.—i believe i can guess that,” she added aloud.\n",
            "“do you mean that you think you can find out the answer to it?” said the march hare.\n",
            "“exactly so,” said alice.\n",
            "“then you should say what you mean,” the march hare went on.\n",
            "“i do,” alice hastily replied; “at least—at least i mean what i say—that’s the same thing, you know.” “not the same thing a bit!” said the hatter.\n",
            "“you might just as well say that ‘i see what i eat’ is the same thing as ‘i eat what i see’!” “you might just as well say,” added the march hare, “that ‘i like what i get’ is the same thing as ‘i get what i like’!” “you might just as well say,” added the dormouse, who seemed to be talking in his sleep, “that ‘i breathe when i sleep’ is the same thing as ‘i sleep when i breathe’!” “it is the same thing with you,” said the hatter, and here the conversation dropped, and the party sat silent for a minute, while alice thought over all she could remember about ravens and writing-desks, which wasn’t much.\n",
            "the hatter was the first to break the silence.\n",
            "“what day of the month is it?” he said, turning to alice: he had taken his watch out of his pocket, and was looking at it uneasily, shaking it every now and then, and holding it to his ear.\n",
            "alice considered a little, and then said “the fourth.” “two days wrong!” sighed the hatter.\n",
            "“i told you butter wouldn’t suit the works!” he added looking angrily at the march hare.\n",
            "“it was the best butter,” the march hare meekly replied.\n",
            "“yes, but some crumbs must have got in as well,” the hatter grumbled: “you shouldn’t have put it in with the bread-knife.” the march hare took the watch and looked at it gloomily: then he dipped it into his cup of tea, and looked at it again: but he could think of nothing better to say than his first remark, “it was the best butter, you know.” alice had been looking over his shoulder with some curiosity.\n",
            "“what a funny watch!” she remarked.\n",
            "“it tells the day of the month, and doesn’t tell what o’clock it is!” “why should it?” muttered the hatter.\n",
            "“does your watch tell you what year it is?” “of course not,” alice replied very readily: “but that’s because it stays the same year for such a long time together.” “which is just the case with mine,” said the hatter.\n",
            "alice felt dreadfully puzzled.\n",
            "the hatter’s remark seemed to have no sort of meaning in it, and yet it was certainly english.\n",
            "“i don’t quite understand you,” she said, as politely as she could.\n",
            "“the dormouse is asleep again,” said the hatter, and he poured a little hot tea upon its nose.\n",
            "the dormouse shook its head impatiently, and said, without opening its eyes, “of course, of course; just what i was going to remark myself.” “have you guessed the riddle yet?” the hatter said, turning to alice again.\n",
            "“no, i give it up,” alice replied: “what’s the answer?” “i haven’t the slightest idea,” said the hatter.\n",
            "“nor i,” said the march hare.\n",
            "alice sighed wearily.\n",
            "“i think you might do something better with the time,” she said, “than waste it in asking riddles that have no answers.” “if you knew time as well as i do,” said the hatter, “you wouldn’t talk about wasting it.\n",
            "it’s him.” “i don’t know what you mean,” said alice.\n",
            "“of course you don’t!” the hatter said, tossing his head contemptuously.\n",
            "“i dare say you never even spoke to time!” “perhaps not,” alice cautiously replied: “but i know i have to beat time when i learn music.” “ah!\n",
            "that accounts for it,” said the hatter.\n",
            "“he won’t stand beating.\n",
            "now, if you only kept on good terms with him, he’d do almost anything you liked with the clock.\n",
            "for instance, suppose it were nine o’clock in the morning, just time to begin lessons: you’d only have to whisper a hint to time, and round goes the clock in a twinkling!\n",
            "half-past one, time for dinner!” (“i only wish it was,” the march hare said to itself in a whisper.)\n",
            "“that would be grand, certainly,” said alice thoughtfully: “but then—i shouldn’t be hungry for it, you know.” “not at first, perhaps,” said the hatter: “but you could keep it to half-past one as long as you liked.” “is that the way you manage?” alice asked.\n",
            "the hatter shook his head mournfully.\n",
            "“not i!” he replied.\n",
            "“we quarrelled last march—just before he went mad, you know—” (pointing with his tea spoon at the march hare,) “—it was at the great concert given by the queen of hearts, and i had to sing ‘twinkle, twinkle, little bat!\n",
            "how i wonder what you’re at!’ you know the song, perhaps?” “i’ve heard something like it,” said alice.\n",
            "“it goes on, you know,” the hatter continued, “in this way:— ‘up above the world you fly, like a tea-tray in the sky.\n",
            "twinkle, twinkle—’” here the dormouse shook itself, and began singing in its sleep “twinkle, twinkle, twinkle, twinkle—” and went on so long that they had to pinch it to make it stop.\n",
            "“well, i’d hardly finished the first verse,” said the hatter, “when the queen jumped up and bawled out, ‘he’s murdering the time!\n",
            "off with his head!’” “how dreadfully savage!” exclaimed alice.\n",
            "“and ever since that,” the hatter went on in a mournful tone, “he won’t do a thing i ask!\n",
            "it’s always six o’clock now.” a bright idea came into alice’s head.\n",
            "“is that the reason so many tea-things are put out here?” she asked.\n",
            "“yes, that’s it,” said the hatter with a sigh: “it’s always tea-time, and we’ve no time to wash the things between whiles.” “then you keep moving round, i suppose?” said alice.\n",
            "“exactly so,” said the hatter: “as the things get used up.” “but what happens when you come to the beginning again?” alice ventured to ask.\n",
            "“suppose we change the subject,” the march hare interrupted, yawning.\n",
            "“i’m getting tired of this.\n",
            "i vote the young lady tells us a story.” “i’m afraid i don’t know one,” said alice, rather alarmed at the proposal.\n",
            "“then the dormouse shall!” they both cried.\n",
            "“wake up, dormouse!” and they pinched it on both sides at once.\n",
            "the dormouse slowly opened his eyes.\n",
            "“i wasn’t asleep,” he said in a hoarse, feeble voice: “i heard every word you fellows were saying.” “tell us a story!” said the march hare.\n",
            "“yes, please do!” pleaded alice.\n",
            "“and be quick about it,” added the hatter, “or you’ll be asleep again before it’s done.” “once upon a time there were three little sisters,” the dormouse began in a great hurry; “and their names were elsie, lacie, and tillie; and they lived at the bottom of a well—” “what did they live on?” said alice, who always took a great interest in questions of eating and drinking.\n",
            "“they lived on treacle,” said the dormouse, after thinking a minute or two.\n",
            "“they couldn’t have done that, you know,” alice gently remarked; “they’d have been ill.” “so they were,” said the dormouse; “very ill.” alice tried to fancy to herself what such an extraordinary ways of living would be like, but it puzzled her too much, so she went on: “but why did they live at the bottom of a well?” “take some more tea,” the march hare said to alice, very earnestly.\n",
            "“i’ve had nothing yet,” alice replied in an offended tone, “so i can’t take more.” “you mean you can’t take less,” said the hatter: “it’s very easy to take more than nothing.” “nobody asked your opinion,” said alice.\n",
            "“who’s making personal remarks now?” the hatter asked triumphantly.\n",
            "alice did not quite know what to say to this: so she helped herself to some tea and bread-and-butter, and then turned to the dormouse, and repeated her question.\n",
            "“why did they live at the bottom of a well?” the dormouse again took a minute or two to think about it, and then said, “it was a treacle-well.” “there’s no such thing!” alice was beginning very angrily, but the hatter and the march hare went “sh!\n",
            "sh!” and the dormouse sulkily remarked, “if you can’t be civil, you’d better finish the story for yourself.” “no, please go on!” alice said very humbly; “i won’t interrupt again.\n",
            "i dare say there may be one.” “one, indeed!” said the dormouse indignantly.\n",
            "however, he consented to go on.\n",
            "“and so these three little sisters—they were learning to draw, you know—” “what did they draw?” said alice, quite forgetting her promise.\n",
            "“treacle,” said the dormouse, without considering at all this time.\n",
            "“i want a clean cup,” interrupted the hatter: “let’s all move one place on.” he moved on as he spoke, and the dormouse followed him: the march hare moved into the dormouse’s place, and alice rather unwillingly took the place of the march hare.\n",
            "the hatter was the only one who got any advantage from the change: and alice was a good deal worse off than before, as the march hare had just upset the milk-jug into his plate.\n",
            "alice did not wish to offend the dormouse again, so she began very cautiously: “but i don’t understand.\n",
            "where did they draw the treacle from?” “you can draw water out of a water-well,” said the hatter; “so i should think you could draw treacle out of a treacle-well—eh, stupid?” “but they were in the well,” alice said to the dormouse, not choosing to notice this last remark.\n",
            "“of course they were,” said the dormouse; “—well in.” this answer so confused poor alice, that she let the dormouse go on for some time without interrupting it.\n",
            "“they were learning to draw,” the dormouse went on, yawning and rubbing its eyes, for it was getting very sleepy; “and they drew all manner of things—everything that begins with an m—” “why with an m?” said alice.\n",
            "“why not?” said the march hare.\n",
            "alice was silent.\n",
            "the dormouse had closed its eyes by this time, and was going off into a doze; but, on being pinched by the hatter, it woke up again with a little shriek, and went on: “—that begins with an m, such as mouse-traps, and the moon, and memory, and muchness—you know you say things are “much of a muchness”—did you ever see such a thing as a drawing of a muchness?” “really, now you ask me,” said alice, very much confused, “i don’t think—” “then you shouldn’t talk,” said the hatter.\n",
            "this piece of rudeness was more than alice could bear: she got up in great disgust, and walked off; the dormouse fell asleep instantly, and neither of the others took the least notice of her going, though she looked back once or twice, half hoping that they would call after her: the last time she saw them, they were trying to put the dormouse into the teapot.\n",
            "“at any rate i’ll never go there again!” said alice as she picked her way through the wood.\n",
            "“it’s the stupidest tea-party i ever was at in all my life!” just as she said this, she noticed that one of the trees had a door leading right into it.\n",
            "“that’s very curious!” she thought.\n",
            "“but everything’s curious today.\n",
            "i think i may as well go in at once.” and in she went.\n",
            "once more she found herself in the long hall, and close to the little glass table.\n",
            "“now, i’ll manage better this time,” she said to herself, and began by taking the little golden key, and unlocking the door that led into the garden.\n",
            "then she went to work nibbling at the mushroom (she had kept a piece of it in her pocket) till she was about a foot high: then she walked down the little passage: and then—she found herself at last in the beautiful garden, among the bright flower-beds and the cool fountains.\n",
            "chapter viii.\n",
            "the queen’s croquet-ground a large rose-tree stood near the entrance of the garden: the roses growing on it were white, but there were three gardeners at it, busily painting them red.\n",
            "alice thought this a very curious thing, and she went nearer to watch them, and just as she came up to them she heard one of them say, “look out now, five!\n",
            "don’t go splashing paint over me like that!” “i couldn’t help it,” said five, in a sulky tone; “seven jogged my elbow.” on which seven looked up and said, “that’s right, five!\n",
            "always lay the blame on others!” “you’d better not talk!” said five.\n",
            "“i heard the queen say only yesterday you deserved to be beheaded!” “what for?” said the one who had spoken first.\n",
            "“that’s none of your business, two!” said seven.\n",
            "“yes, it is his business!” said five, “and i’ll tell him—it was for bringing the cook tulip-roots instead of onions.” seven flung down his brush, and had just begun “well, of all the unjust things—” when his eye chanced to fall upon alice, as she stood watching them, and he checked himself suddenly: the others looked round also, and all of them bowed low.\n",
            "“would you tell me,” said alice, a little timidly, “why you are painting those roses?” five and seven said nothing, but looked at two.\n",
            "two began in a low voice, “why the fact is, you see, miss, this here ought to have been a red rose-tree, and we put a white one in by mistake; and if the queen was to find it out, we should all have our heads cut off, you know.\n",
            "so you see, miss, we’re doing our best, afore she comes, to—” at this moment five, who had been anxiously looking across the garden, called out “the queen!\n",
            "the queen!” and the three gardeners instantly threw themselves flat upon their faces.\n",
            "there was a sound of many footsteps, and alice looked round, eager to see the queen.\n",
            "first came ten soldiers carrying clubs; these were all shaped like the three gardeners, oblong and flat, with their hands and feet at the corners: next the ten courtiers; these were ornamented all over with diamonds, and walked two and two, as the soldiers did.\n",
            "after these came the royal children; there were ten of them, and the little dears came jumping merrily along hand in hand, in couples: they were all ornamented with hearts.\n",
            "next came the guests, mostly kings and queens, and among them alice recognised the white rabbit: it was talking in a hurried nervous manner, smiling at everything that was said, and went by without noticing her.\n",
            "then followed the knave of hearts, carrying the king’s crown on a crimson velvet cushion; and, last of all this grand procession, came the king and queen of hearts.\n",
            "alice was rather doubtful whether she ought not to lie down on her face like the three gardeners, but she could not remember ever having heard of such a rule at processions; “and besides, what would be the use of a procession,” thought she, “if people had all to lie down upon their faces, so that they couldn’t see it?” so she stood still where she was, and waited.\n",
            "when the procession came opposite to alice, they all stopped and looked at her, and the queen said severely “who is this?” she said it to the knave of hearts, who only bowed and smiled in reply.\n",
            "“idiot!” said the queen, tossing her head impatiently; and, turning to alice, she went on, “what’s your name, child?” “my name is alice, so please your majesty,” said alice very politely; but she added, to herself, “why, they’re only a pack of cards, after all.\n",
            "i needn’t be afraid of them!” “and who are these?” said the queen, pointing to the three gardeners who were lying round the rose-tree; for, you see, as they were lying on their faces, and the pattern on their backs was the same as the rest of the pack, she could not tell whether they were gardeners, or soldiers, or courtiers, or three of her own children.\n",
            "“how should i know?” said alice, surprised at her own courage.\n",
            "“it’s no business of mine.” the queen turned crimson with fury, and, after glaring at her for a moment like a wild beast, screamed “off with her head!\n",
            "off—” “nonsense!” said alice, very loudly and decidedly, and the queen was silent.\n",
            "the king laid his hand upon her arm, and timidly said “consider, my dear: she is only a child!” the queen turned angrily away from him, and said to the knave “turn them over!” the knave did so, very carefully, with one foot.\n",
            "“get up!” said the queen, in a shrill, loud voice, and the three gardeners instantly jumped up, and began bowing to the king, the queen, the royal children, and everybody else.\n",
            "“leave off that!” screamed the queen.\n",
            "“you make me giddy.” and then, turning to the rose-tree, she went on, “what have you been doing here?” “may it please your majesty,” said two, in a very humble tone, going down on one knee as he spoke, “we were trying—” “i see!” said the queen, who had meanwhile been examining the roses.\n",
            "“off with their heads!” and the procession moved on, three of the soldiers remaining behind to execute the unfortunate gardeners, who ran to alice for protection.\n",
            "“you shan’t be beheaded!” said alice, and she put them into a large flower-pot that stood near.\n",
            "the three soldiers wandered about for a minute or two, looking for them, and then quietly marched off after the others.\n",
            "“are their heads off?” shouted the queen.\n",
            "“their heads are gone, if it please your majesty!” the soldiers shouted in reply.\n",
            "“that’s right!” shouted the queen.\n",
            "“can you play croquet?” the soldiers were silent, and looked at alice, as the question was evidently meant for her.\n",
            "“yes!” shouted alice.\n",
            "“come on, then!” roared the queen, and alice joined the procession, wondering very much what would happen next.\n",
            "“it’s—it’s a very fine day!” said a timid voice at her side.\n",
            "she was walking by the white rabbit, who was peeping anxiously into her face.\n",
            "“very,” said alice: “—where’s the duchess?” “hush!\n",
            "hush!” said the rabbit in a low, hurried tone.\n",
            "he looked anxiously over his shoulder as he spoke, and then raised himself upon tiptoe, put his mouth close to her ear, and whispered “she’s under sentence of execution.” “what for?” said alice.\n",
            "“did you say ‘what a pity!’?” the rabbit asked.\n",
            "“no, i didn’t,” said alice: “i don’t think it’s at all a pity.\n",
            "i said ‘what for?’” “she boxed the queen’s ears—” the rabbit began.\n",
            "alice gave a little scream of laughter.\n",
            "“oh, hush!” the rabbit whispered in a frightened tone.\n",
            "“the queen will hear you!\n",
            "you see, she came rather late, and the queen said—” “get to your places!” shouted the queen in a voice of thunder, and people began running about in all directions, tumbling up against each other; however, they got settled down in a minute or two, and the game began.\n",
            "alice thought she had never seen such a curious croquet-ground in her life; it was all ridges and furrows; the balls were live hedgehogs, the mallets live flamingoes, and the soldiers had to double themselves up and to stand on their hands and feet, to make the arches.\n",
            "the chief difficulty alice found at first was in managing her flamingo: she succeeded in getting its body tucked away, comfortably enough, under her arm, with its legs hanging down, but generally, just as she had got its neck nicely straightened out, and was going to give the hedgehog a blow with its head, it would twist itself round and look up in her face, with such a puzzled expression that she could not help bursting out laughing: and when she had got its head down, and was going to begin again, it was very provoking to find that the hedgehog had unrolled itself, and was in the act of crawling away: besides all this, there was generally a ridge or furrow in the way wherever she wanted to send the hedgehog to, and, as the doubled-up soldiers were always getting up and walking off to other parts of the ground, alice soon came to the conclusion that it was a very difficult game indeed.\n",
            "the players all played at once without waiting for turns, quarrelling all the while, and fighting for the hedgehogs; and in a very short time the queen was in a furious passion, and went stamping about, and shouting “off with his head!” or “off with her head!” about once in a minute.\n",
            "alice began to feel very uneasy: to be sure, she had not as yet had any dispute with the queen, but she knew that it might happen any minute, “and then,” thought she, “what would become of me?\n",
            "they’re dreadfully fond of beheading people here; the great wonder is, that there’s any one left alive!” she was looking about for some way of escape, and wondering whether she could get away without being seen, when she noticed a curious appearance in the air: it puzzled her very much at first, but, after watching it a minute or two, she made it out to be a grin, and she said to herself “it’s the cheshire cat: now i shall have somebody to talk to.” “how are you getting on?” said the cat, as soon as there was mouth enough for it to speak with.\n",
            "alice waited till the eyes appeared, and then nodded.\n",
            "“it’s no use speaking to it,” she thought, “till its ears have come, or at least one of them.” in another minute the whole head appeared, and then alice put down her flamingo, and began an account of the game, feeling very glad she had someone to listen to her.\n",
            "the cat seemed to think that there was enough of it now in sight, and no more of it appeared.\n",
            "“i don’t think they play at all fairly,” alice began, in rather a complaining tone, “and they all quarrel so dreadfully one can’t hear oneself speak—and they don’t seem to have any rules in particular; at least, if there are, nobody attends to them—and you’ve no idea how confusing it is all the things being alive; for instance, there’s the arch i’ve got to go through next walking about at the other end of the ground—and i should have croqueted the queen’s hedgehog just now, only it ran away when it saw mine coming!” “how do you like the queen?” said the cat in a low voice.\n",
            "“not at all,” said alice: “she’s so extremely—” just then she noticed that the queen was close behind her, listening: so she went on, “—likely to win, that it’s hardly worth while finishing the game.” the queen smiled and passed on.\n",
            "“who are you talking to?” said the king, going up to alice, and looking at the cat’s head with great curiosity.\n",
            "“it’s a friend of mine—a cheshire cat,” said alice: “allow me to introduce it.” “i don’t like the look of it at all,” said the king: “however, it may kiss my hand if it likes.” “i’d rather not,” the cat remarked.\n",
            "“don’t be impertinent,” said the king, “and don’t look at me like that!” he got behind alice as he spoke.\n",
            "“a cat may look at a king,” said alice.\n",
            "“i’ve read that in some book, but i don’t remember where.” “well, it must be removed,” said the king very decidedly, and he called the queen, who was passing at the moment, “my dear!\n",
            "i wish you would have this cat removed!” the queen had only one way of settling all difficulties, great or small.\n",
            "“off with his head!” she said, without even looking round.\n",
            "“i’ll fetch the executioner myself,” said the king eagerly, and he hurried off.\n",
            "alice thought she might as well go back, and see how the game was going on, as she heard the queen’s voice in the distance, screaming with passion.\n",
            "she had already heard her sentence three of the players to be executed for having missed their turns, and she did not like the look of things at all, as the game was in such confusion that she never knew whether it was her turn or not.\n",
            "so she went in search of her hedgehog.\n",
            "the hedgehog was engaged in a fight with another hedgehog, which seemed to alice an excellent opportunity for croqueting one of them with the other: the only difficulty was, that her flamingo was gone across to the other side of the garden, where alice could see it trying in a helpless sort of way to fly up into a tree.\n",
            "by the time she had caught the flamingo and brought it back, the fight was over, and both the hedgehogs were out of sight: “but it doesn’t matter much,” thought alice, “as all the arches are gone from this side of the ground.” so she tucked it away under her arm, that it might not escape again, and went back for a little more conversation with her friend.\n",
            "when she got back to the cheshire cat, she was surprised to find quite a large crowd collected round it: there was a dispute going on between the executioner, the king, and the queen, who were all talking at once, while all the rest were quite silent, and looked very uncomfortable.\n",
            "the moment alice appeared, she was appealed to by all three to settle the question, and they repeated their arguments to her, though, as they all spoke at once, she found it very hard indeed to make out exactly what they said.\n",
            "the executioner’s argument was, that you couldn’t cut off a head unless there was a body to cut it off from: that he had never had to do such a thing before, and he wasn’t going to begin at his time of life.\n",
            "the king’s argument was, that anything that had a head could be beheaded, and that you weren’t to talk nonsense.\n",
            "the queen’s argument was, that if something wasn’t done about it in less than no time she’d have everybody executed, all round.\n",
            "(it was this last remark that had made the whole party look so grave and anxious.)\n",
            "alice could think of nothing else to say but “it belongs to the duchess: you’d better ask her about it.” “she’s in prison,” the queen said to the executioner: “fetch her here.” and the executioner went off like an arrow.\n",
            "the cat’s head began fading away the moment he was gone, and, by the time he had come back with the duchess, it had entirely disappeared; so the king and the executioner ran wildly up and down looking for it, while the rest of the party went back to the game.\n",
            "chapter ix.\n",
            "the mock turtle’s story “you can’t think how glad i am to see you again, you dear old thing!” said the duchess, as she tucked her arm affectionately into alice’s, and they walked off together.\n",
            "alice was very glad to find her in such a pleasant temper, and thought to herself that perhaps it was only the pepper that had made her so savage when they met in the kitchen.\n",
            "“when i’m a duchess,” she said to herself, (not in a very hopeful tone though), “i won’t have any pepper in my kitchen at all.\n",
            "soup does very well without—maybe it’s always pepper that makes people hot-tempered,” she went on, very much pleased at having found out a new kind of rule, “and vinegar that makes them sour—and camomile that makes them bitter—and—and barley-sugar and such things that make children sweet-tempered.\n",
            "i only wish people knew that: then they wouldn’t be so stingy about it, you know—” she had quite forgotten the duchess by this time, and was a little startled when she heard her voice close to her ear.\n",
            "“you’re thinking about something, my dear, and that makes you forget to talk.\n",
            "i can’t tell you just now what the moral of that is, but i shall remember it in a bit.” “perhaps it hasn’t one,” alice ventured to remark.\n",
            "“tut, tut, child!” said the duchess.\n",
            "“everything’s got a moral, if only you can find it.” and she squeezed herself up closer to alice’s side as she spoke.\n",
            "alice did not much like keeping so close to her: first, because the duchess was very ugly; and secondly, because she was exactly the right height to rest her chin upon alice’s shoulder, and it was an uncomfortably sharp chin.\n",
            "however, she did not like to be rude, so she bore it as well as she could.\n",
            "“the game’s going on rather better now,” she said, by way of keeping up the conversation a little.\n",
            "“’tis so,” said the duchess: “and the moral of that is—‘oh, ’tis love, ’tis love, that makes the world go round!’” “somebody said,” alice whispered, “that it’s done by everybody minding their own business!” “ah, well!\n",
            "it means much the same thing,” said the duchess, digging her sharp little chin into alice’s shoulder as she added, “and the moral of that is—‘take care of the sense, and the sounds will take care of themselves.’” “how fond she is of finding morals in things!” alice thought to herself.\n",
            "“i dare say you’re wondering why i don’t put my arm round your waist,” the duchess said after a pause: “the reason is, that i’m doubtful about the temper of your flamingo.\n",
            "shall i try the experiment?” “he might bite,” alice cautiously replied, not feeling at all anxious to have the experiment tried.\n",
            "“very true,” said the duchess: “flamingoes and mustard both bite.\n",
            "and the moral of that is—‘birds of a feather flock together.’” “only mustard isn’t a bird,” alice remarked.\n",
            "“right, as usual,” said the duchess: “what a clear way you have of putting things!” “it’s a mineral, i think,” said alice.\n",
            "“of course it is,” said the duchess, who seemed ready to agree to everything that alice said; “there’s a large mustard-mine near here.\n",
            "and the moral of that is—‘the more there is of mine, the less there is of yours.’” “oh, i know!” exclaimed alice, who had not attended to this last remark, “it’s a vegetable.\n",
            "it doesn’t look like one, but it is.” “i quite agree with you,” said the duchess; “and the moral of that is—‘be what you would seem to be’—or if you’d like it put more simply—‘never imagine yourself not to be otherwise than what it might appear to others that what you were or might have been was not otherwise than what you had been would have appeared to them to be otherwise.’” “i think i should understand that better,” alice said very politely, “if i had it written down: but i can’t quite follow it as you say it.” “that’s nothing to what i could say if i chose,” the duchess replied, in a pleased tone.\n",
            "“pray don’t trouble yourself to say it any longer than that,” said alice.\n",
            "“oh, don’t talk about trouble!” said the duchess.\n",
            "“i make you a present of everything i’ve said as yet.” “a cheap sort of present!” thought alice.\n",
            "“i’m glad they don’t give birthday presents like that!” but she did not venture to say it out loud.\n",
            "“thinking again?” the duchess asked, with another dig of her sharp little chin.\n",
            "“i’ve a right to think,” said alice sharply, for she was beginning to feel a little worried.\n",
            "“just about as much right,” said the duchess, “as pigs have to fly; and the m—” but here, to alice’s great surprise, the duchess’s voice died away, even in the middle of her favourite word ‘moral,’ and the arm that was linked into hers began to tremble.\n",
            "alice looked up, and there stood the queen in front of them, with her arms folded, frowning like a thunderstorm.\n",
            "“a fine day, your majesty!” the duchess began in a low, weak voice.\n",
            "“now, i give you fair warning,” shouted the queen, stamping on the ground as she spoke; “either you or your head must be off, and that in about half no time!\n",
            "take your choice!” the duchess took her choice, and was gone in a moment.\n",
            "“let’s go on with the game,” the queen said to alice; and alice was too much frightened to say a word, but slowly followed her back to the croquet-ground.\n",
            "the other guests had taken advantage of the queen’s absence, and were resting in the shade: however, the moment they saw her, they hurried back to the game, the queen merely remarking that a moment’s delay would cost them their lives.\n",
            "all the time they were playing the queen never left off quarrelling with the other players, and shouting “off with his head!” or “off with her head!” those whom she sentenced were taken into custody by the soldiers, who of course had to leave off being arches to do this, so that by the end of half an hour or so there were no arches left, and all the players, except the king, the queen, and alice, were in custody and under sentence of execution.\n",
            "then the queen left off, quite out of breath, and said to alice, “have you seen the mock turtle yet?” “no,” said alice.\n",
            "“i don’t even know what a mock turtle is.” “it’s the thing mock turtle soup is made from,” said the queen.\n",
            "“i never saw one, or heard of one,” said alice.\n",
            "“come on, then,” said the queen, “and he shall tell you his history,” as they walked off together, alice heard the king say in a low voice, to the company generally, “you are all pardoned.” “come, that’s a good thing!” she said to herself, for she had felt quite unhappy at the number of executions the queen had ordered.\n",
            "they very soon came upon a gryphon, lying fast asleep in the sun.\n",
            "(if you don’t know what a gryphon is, look at the picture.)\n",
            "“up, lazy thing!” said the queen, “and take this young lady to see the mock turtle, and to hear his history.\n",
            "i must go back and see after some executions i have ordered;” and she walked off, leaving alice alone with the gryphon.\n",
            "alice did not quite like the look of the creature, but on the whole she thought it would be quite as safe to stay with it as to go after that savage queen: so she waited.\n",
            "the gryphon sat up and rubbed its eyes: then it watched the queen till she was out of sight: then it chuckled.\n",
            "“what fun!” said the gryphon, half to itself, half to alice.\n",
            "“what is the fun?” said alice.\n",
            "“why, she,” said the gryphon.\n",
            "“it’s all her fancy, that: they never executes nobody, you know.\n",
            "come on!” “everybody says ‘come on!’ here,” thought alice, as she went slowly after it: “i never was so ordered about in all my life, never!” they had not gone far before they saw the mock turtle in the distance, sitting sad and lonely on a little ledge of rock, and, as they came nearer, alice could hear him sighing as if his heart would break.\n",
            "she pitied him deeply.\n",
            "“what is his sorrow?” she asked the gryphon, and the gryphon answered, very nearly in the same words as before, “it’s all his fancy, that: he hasn’t got no sorrow, you know.\n",
            "come on!” so they went up to the mock turtle, who looked at them with large eyes full of tears, but said nothing.\n",
            "“this here young lady,” said the gryphon, “she wants for to know your history, she do.” “i’ll tell it her,” said the mock turtle in a deep, hollow tone: “sit down, both of you, and don’t speak a word till i’ve finished.” so they sat down, and nobody spoke for some minutes.\n",
            "alice thought to herself, “i don’t see how he can ever finish, if he doesn’t begin.” but she waited patiently.\n",
            "“once,” said the mock turtle at last, with a deep sigh, “i was a real turtle.” these words were followed by a very long silence, broken only by an occasional exclamation of “hjckrrh!” from the gryphon, and the constant heavy sobbing of the mock turtle.\n",
            "alice was very nearly getting up and saying, “thank you, sir, for your interesting story,” but she could not help thinking there must be more to come, so she sat still and said nothing.\n",
            "“when we were little,” the mock turtle went on at last, more calmly, though still sobbing a little now and then, “we went to school in the sea.\n",
            "the master was an old turtle—we used to call him tortoise—” “why did you call him tortoise, if he wasn’t one?” alice asked.\n",
            "“we called him tortoise because he taught us,” said the mock turtle angrily: “really you are very dull!” “you ought to be ashamed of yourself for asking such a simple question,” added the gryphon; and then they both sat silent and looked at poor alice, who felt ready to sink into the earth.\n",
            "at last the gryphon said to the mock turtle, “drive on, old fellow!\n",
            "don’t be all day about it!” and he went on in these words: “yes, we went to school in the sea, though you mayn’t believe it—” “i never said i didn’t!” interrupted alice.\n",
            "“you did,” said the mock turtle.\n",
            "“hold your tongue!” added the gryphon, before alice could speak again.\n",
            "the mock turtle went on.\n",
            "“we had the best of educations—in fact, we went to school every day—” “i’ve been to a day-school, too,” said alice; “you needn’t be so proud as all that.” “with extras?” asked the mock turtle a little anxiously.\n",
            "“yes,” said alice, “we learned french and music.” “and washing?” said the mock turtle.\n",
            "“certainly not!” said alice indignantly.\n",
            "“ah!\n",
            "then yours wasn’t a really good school,” said the mock turtle in a tone of great relief.\n",
            "“now at ours they had at the end of the bill, ‘french, music, and washing—extra.’” “you couldn’t have wanted it much,” said alice; “living at the bottom of the sea.” “i couldn’t afford to learn it.” said the mock turtle with a sigh.\n",
            "“i only took the regular course.” “what was that?” inquired alice.\n",
            "“reeling and writhing, of course, to begin with,” the mock turtle replied; “and then the different branches of arithmetic—ambition, distraction, uglification, and derision.” “i never heard of ‘uglification,’” alice ventured to say.\n",
            "“what is it?” the gryphon lifted up both its paws in surprise.\n",
            "“what!\n",
            "never heard of uglifying!” it exclaimed.\n",
            "“you know what to beautify is, i suppose?” “yes,” said alice doubtfully: “it means—to—make—anything—prettier.” “well, then,” the gryphon went on, “if you don’t know what to uglify is, you are a simpleton.” alice did not feel encouraged to ask any more questions about it, so she turned to the mock turtle, and said “what else had you to learn?” “well, there was mystery,” the mock turtle replied, counting off the subjects on his flappers, “—mystery, ancient and modern, with seaography: then drawling—the drawling-master was an old conger-eel, that used to come once a week: he taught us drawling, stretching, and fainting in coils.” “what was that like?” said alice.\n",
            "“well, i can’t show it you myself,” the mock turtle said: “i’m too stiff.\n",
            "and the gryphon never learnt it.” “hadn’t time,” said the gryphon: “i went to the classics master, though.\n",
            "he was an old crab, he was.” “i never went to him,” the mock turtle said with a sigh: “he taught laughing and grief, they used to say.” “so he did, so he did,” said the gryphon, sighing in his turn; and both creatures hid their faces in their paws.\n",
            "“and how many hours a day did you do lessons?” said alice, in a hurry to change the subject.\n",
            "“ten hours the first day,” said the mock turtle: “nine the next, and so on.” “what a curious plan!” exclaimed alice.\n",
            "“that’s the reason they’re called lessons,” the gryphon remarked: “because they lessen from day to day.” this was quite a new idea to alice, and she thought it over a little before she made her next remark.\n",
            "“then the eleventh day must have been a holiday?” “of course it was,” said the mock turtle.\n",
            "“and how did you manage on the twelfth?” alice went on eagerly.\n",
            "“that’s enough about lessons,” the gryphon interrupted in a very decided tone: “tell her something about the games now.” chapter x.\n",
            "the lobster quadrille the mock turtle sighed deeply, and drew the back of one flapper across his eyes.\n",
            "he looked at alice, and tried to speak, but for a minute or two sobs choked his voice.\n",
            "“same as if he had a bone in his throat,” said the gryphon: and it set to work shaking him and punching him in the back.\n",
            "at last the mock turtle recovered his voice, and, with tears running down his cheeks, he went on again:— “you may not have lived much under the sea—” (“i haven’t,” said alice)—“and perhaps you were never even introduced to a lobster—” (alice began to say “i once tasted—” but checked herself hastily, and said “no, never”) “—so you can have no idea what a delightful thing a lobster quadrille is!” “no, indeed,” said alice.\n",
            "“what sort of a dance is it?” “why,” said the gryphon, “you first form into a line along the sea-shore—” “two lines!” cried the mock turtle.\n",
            "“seals, turtles, salmon, and so on; then, when you’ve cleared all the jelly-fish out of the way—” “that generally takes some time,” interrupted the gryphon.\n",
            "“—you advance twice—” “each with a lobster as a partner!” cried the gryphon.\n",
            "“of course,” the mock turtle said: “advance twice, set to partners—” “—change lobsters, and retire in same order,” continued the gryphon.\n",
            "“then, you know,” the mock turtle went on, “you throw the—” “the lobsters!” shouted the gryphon, with a bound into the air.\n",
            "“—as far out to sea as you can—” “swim after them!” screamed the gryphon.\n",
            "“turn a somersault in the sea!” cried the mock turtle, capering wildly about.\n",
            "“change lobsters again!” yelled the gryphon at the top of its voice.\n",
            "“back to land again, and that’s all the first figure,” said the mock turtle, suddenly dropping his voice; and the two creatures, who had been jumping about like mad things all this time, sat down again very sadly and quietly, and looked at alice.\n",
            "“it must be a very pretty dance,” said alice timidly.\n",
            "“would you like to see a little of it?” said the mock turtle.\n",
            "“very much indeed,” said alice.\n",
            "“come, let’s try the first figure!” said the mock turtle to the gryphon.\n",
            "“we can do without lobsters, you know.\n",
            "which shall sing?” “oh, you sing,” said the gryphon.\n",
            "“i’ve forgotten the words.” so they began solemnly dancing round and round alice, every now and then treading on her toes when they passed too close, and waving their forepaws to mark the time, while the mock turtle sang this, very slowly and sadly:— “will you walk a little faster?” said a whiting to a snail.\n",
            "“there’s a porpoise close behind us, and he’s treading on my tail.\n",
            "see how eagerly the lobsters and the turtles all advance!\n",
            "they are waiting on the shingle—will you come and join the dance?\n",
            "will you, won’t you, will you, won’t you, will you join the dance?\n",
            "will you, won’t you, will you, won’t you, won’t you join the dance?\n",
            "“you can really have no notion how delightful it will be when they take us up and throw us, with the lobsters, out to sea!” but the snail replied “too far, too far!” and gave a look askance— said he thanked the whiting kindly, but he would not join the dance.\n",
            "would not, could not, would not, could not, would not join the dance.\n",
            "would not, could not, would not, could not, could not join the dance.\n",
            "“what matters it how far we go?” his scaly friend replied.\n",
            "“there is another shore, you know, upon the other side.\n",
            "the further off from england the nearer is to france— then turn not pale, beloved snail, but come and join the dance.\n",
            "will you, won’t you, will you, won’t you, will you join the dance?\n",
            "will you, won’t you, will you, won’t you, won’t you join the dance?” “thank you, it’s a very interesting dance to watch,” said alice, feeling very glad that it was over at last: “and i do so like that curious song about the whiting!” “oh, as to the whiting,” said the mock turtle, “they—you’ve seen them, of course?” “yes,” said alice, “i’ve often seen them at dinn—” she checked herself hastily.\n",
            "“i don’t know where dinn may be,” said the mock turtle, “but if you’ve seen them so often, of course you know what they’re like.” “i believe so,” alice replied thoughtfully.\n",
            "“they have their tails in their mouths—and they’re all over crumbs.” “you’re wrong about the crumbs,” said the mock turtle: “crumbs would all wash off in the sea.\n",
            "but they have their tails in their mouths; and the reason is—” here the mock turtle yawned and shut his eyes.—“tell her about the reason and all that,” he said to the gryphon.\n",
            "“the reason is,” said the gryphon, “that they would go with the lobsters to the dance.\n",
            "so they got thrown out to sea.\n",
            "so they had to fall a long way.\n",
            "so they got their tails fast in their mouths.\n",
            "so they couldn’t get them out again.\n",
            "that’s all.” “thank you,” said alice, “it’s very interesting.\n",
            "i never knew so much about a whiting before.” “i can tell you more than that, if you like,” said the gryphon.\n",
            "“do you know why it’s called a whiting?” “i never thought about it,” said alice.\n",
            "“why?” “it does the boots and shoes,” the gryphon replied very solemnly.\n",
            "alice was thoroughly puzzled.\n",
            "“does the boots and shoes!” she repeated in a wondering tone.\n",
            "“why, what are your shoes done with?” said the gryphon.\n",
            "“i mean, what makes them so shiny?” alice looked down at them, and considered a little before she gave her answer.\n",
            "“they’re done with blacking, i believe.” “boots and shoes under the sea,” the gryphon went on in a deep voice, “are done with a whiting.\n",
            "now you know.” “and what are they made of?” alice asked in a tone of great curiosity.\n",
            "“soles and eels, of course,” the gryphon replied rather impatiently: “any shrimp could have told you that.” “if i’d been the whiting,” said alice, whose thoughts were still running on the song, “i’d have said to the porpoise, ‘keep back, please: we don’t want you with us!’” “they were obliged to have him with them,” the mock turtle said: “no wise fish would go anywhere without a porpoise.” “wouldn’t it really?” said alice in a tone of great surprise.\n",
            "“of course not,” said the mock turtle: “why, if a fish came to me, and told me he was going a journey, i should say ‘with what porpoise?’” “don’t you mean ‘purpose’?” said alice.\n",
            "“i mean what i say,” the mock turtle replied in an offended tone.\n",
            "and the gryphon added “come, let’s hear some of your adventures.” “i could tell you my adventures—beginning from this morning,” said alice a little timidly: “but it’s no use going back to yesterday, because i was a different person then.” “explain all that,” said the mock turtle.\n",
            "“no, no!\n",
            "the adventures first,” said the gryphon in an impatient tone: “explanations take such a dreadful time.” so alice began telling them her adventures from the time when she first saw the white rabbit.\n",
            "she was a little nervous about it just at first, the two creatures got so close to her, one on each side, and opened their eyes and mouths so very wide, but she gained courage as she went on.\n",
            "her listeners were perfectly quiet till she got to the part about her repeating “you are old, father william,” to the caterpillar, and the words all coming different, and then the mock turtle drew a long breath, and said “that’s very curious.” “it’s all about as curious as it can be,” said the gryphon.\n",
            "“it all came different!” the mock turtle repeated thoughtfully.\n",
            "“i should like to hear her try and repeat something now.\n",
            "tell her to begin.” he looked at the gryphon as if he thought it had some kind of authority over alice.\n",
            "“stand up and repeat ‘’tis the voice of the sluggard,’” said the gryphon.\n",
            "“how the creatures order one about, and make one repeat lessons!” thought alice; “i might as well be at school at once.” however, she got up, and began to repeat it, but her head was so full of the lobster quadrille, that she hardly knew what she was saying, and the words came very queer indeed:— “’tis the voice of the lobster; i heard him declare, “you have baked me too brown, i must sugar my hair.” as a duck with its eyelids, so he with his nose trims his belt and his buttons, and turns out his toes.” [later editions continued as follows when the sands are all dry, he is gay as a lark, and will talk in contemptuous tones of the shark, but, when the tide rises and sharks are around, his voice has a timid and tremulous sound.]\n",
            "“that’s different from what i used to say when i was a child,” said the gryphon.\n",
            "“well, i never heard it before,” said the mock turtle; “but it sounds uncommon nonsense.” alice said nothing; she had sat down with her face in her hands, wondering if anything would ever happen in a natural way again.\n",
            "“i should like to have it explained,” said the mock turtle.\n",
            "“she can’t explain it,” said the gryphon hastily.\n",
            "“go on with the next verse.” “but about his toes?” the mock turtle persisted.\n",
            "“how could he turn them out with his nose, you know?” “it’s the first position in dancing.” alice said; but was dreadfully puzzled by the whole thing, and longed to change the subject.\n",
            "“go on with the next verse,” the gryphon repeated impatiently: “it begins ‘i passed by his garden.’” alice did not dare to disobey, though she felt sure it would all come wrong, and she went on in a trembling voice:— “i passed by his garden, and marked, with one eye, how the owl and the panther were sharing a pie—” [later editions continued as follows the panther took pie-crust, and gravy, and meat, while the owl had the dish as its share of the treat.\n",
            "when the pie was all finished, the owl, as a boon, was kindly permitted to pocket the spoon: while the panther received knife and fork with a growl, and concluded the banquet—] “what is the use of repeating all that stuff,” the mock turtle interrupted, “if you don’t explain it as you go on?\n",
            "it’s by far the most confusing thing i ever heard!” “yes, i think you’d better leave off,” said the gryphon: and alice was only too glad to do so.\n",
            "“shall we try another figure of the lobster quadrille?” the gryphon went on.\n",
            "“or would you like the mock turtle to sing you a song?” “oh, a song, please, if the mock turtle would be so kind,” alice replied, so eagerly that the gryphon said, in a rather offended tone, “hm!\n",
            "no accounting for tastes!\n",
            "sing her ‘turtle soup,’ will you, old fellow?” the mock turtle sighed deeply, and began, in a voice sometimes choked with sobs, to sing this:— “beautiful soup, so rich and green, waiting in a hot tureen!\n",
            "who for such dainties would not stoop?\n",
            "soup of the evening, beautiful soup!\n",
            "soup of the evening, beautiful soup!\n",
            "beau—ootiful soo—oop!\n",
            "beau—ootiful soo—oop!\n",
            "soo—oop of the e—e—evening, beautiful, beautiful soup!\n",
            "“beautiful soup!\n",
            "who cares for fish, game, or any other dish?\n",
            "who would not give all else for two p ennyworth only of beautiful soup?\n",
            "pennyworth only of beautiful soup?\n",
            "beau—ootiful soo—oop!\n",
            "beau—ootiful soo—oop!\n",
            "soo—oop of the e—e—evening, beautiful, beauti—ful soup!” “chorus again!” cried the gryphon, and the mock turtle had just begun to repeat it, when a cry of “the trial’s beginning!” was heard in the distance.\n",
            "“come on!” cried the gryphon, and, taking alice by the hand, it hurried off, without waiting for the end of the song.\n",
            "“what trial is it?” alice panted as she ran; but the gryphon only answered “come on!” and ran the faster, while more and more faintly came, carried on the breeze that followed them, the melancholy words:— “soo—oop of the e—e—evening, beautiful, beautiful soup!” chapter xi.\n",
            "who stole the tarts?\n",
            "the king and queen of hearts were seated on their throne when they arrived, with a great crowd assembled about them—all sorts of little birds and beasts, as well as the whole pack of cards: the knave was standing before them, in chains, with a soldier on each side to guard him; and near the king was the white rabbit, with a trumpet in one hand, and a scroll of parchment in the other.\n",
            "in the very middle of the court was a table, with a large dish of tarts upon it: they looked so good, that it made alice quite hungry to look at them—“i wish they’d get the trial done,” she thought, “and hand round the refreshments!” but there seemed to be no chance of this, so she began looking at everything about her, to pass away the time.\n",
            "alice had never been in a court of justice before, but she had read about them in books, and she was quite pleased to find that she knew the name of nearly everything there.\n",
            "“that’s the judge,” she said to herself, “because of his great wig.” the judge, by the way, was the king; and as he wore his crown over the wig, (look at the frontispiece if you want to see how he did it,) he did not look at all comfortable, and it was certainly not becoming.\n",
            "“and that’s the jury-box,” thought alice, “and those twelve creatures,” (she was obliged to say “creatures,” you see, because some of them were animals, and some were birds,) “i suppose they are the jurors.” she said this last word two or three times over to herself, being rather proud of it: for she thought, and rightly too, that very few little girls of her age knew the meaning of it at all.\n",
            "however, “jury-men” would have done just as well.\n",
            "the twelve jurors were all writing very busily on slates.\n",
            "“what are they doing?” alice whispered to the gryphon.\n",
            "“they can’t have anything to put down yet, before the trial’s begun.” “they’re putting down their names,” the gryphon whispered in reply, “for fear they should forget them before the end of the trial.” “stupid things!” alice began in a loud, indignant voice, but she stopped hastily, for the white rabbit cried out, “silence in the court!” and the king put on his spectacles and looked anxiously round, to make out who was talking.\n",
            "alice could see, as well as if she were looking over their shoulders, that all the jurors were writing down “stupid things!” on their slates, and she could even make out that one of them didn’t know how to spell “stupid,” and that he had to ask his neighbour to tell him.\n",
            "“a nice muddle their slates’ll be in before the trial’s over!” thought alice.\n",
            "one of the jurors had a pencil that squeaked.\n",
            "this of course, alice could not stand, and she went round the court and got behind him, and very soon found an opportunity of taking it away.\n",
            "she did it so quickly that the poor little juror (it was bill, the lizard) could not make out at all what had become of it; so, after hunting all about for it, he was obliged to write with one finger for the rest of the day; and this was of very little use, as it left no mark on the slate.\n",
            "“herald, read the accusation!” said the king.\n",
            "on this the white rabbit blew three blasts on the trumpet, and then unrolled the parchment scroll, and read as follows:— “the queen of hearts, she made some tarts, all on a summer day: the knave of hearts, he stole those tarts, and took them quite away!” “consider your verdict,” the king said to the jury.\n",
            "“not yet, not yet!” the rabbit hastily interrupted.\n",
            "“there’s a great deal to come before that!” “call the first witness,” said the king; and the white rabbit blew three blasts on the trumpet, and called out, “first witness!” the first witness was the hatter.\n",
            "he came in with a teacup in one hand and a piece of bread-and-butter in the other.\n",
            "“i beg pardon, your majesty,” he began, “for bringing these in: but i hadn’t quite finished my tea when i was sent for.” “you ought to have finished,” said the king.\n",
            "“when did you begin?” the hatter looked at the march hare, who had followed him into the court, arm-in-arm with the dormouse.\n",
            "“fourteenth of march, i think it was,” he said.\n",
            "“fifteenth,” said the march hare.\n",
            "“sixteenth,” added the dormouse.\n",
            "“write that down,” the king said to the jury, and the jury eagerly wrote down all three dates on their slates, and then added them up, and reduced the answer to shillings and pence.\n",
            "“take off your hat,” the king said to the hatter.\n",
            "“it isn’t mine,” said the hatter.\n",
            "“stolen!” the king exclaimed, turning to the jury, who instantly made a memorandum of the fact.\n",
            "“i keep them to sell,” the hatter added as an explanation; “i’ve none of my own.\n",
            "i’m a hatter.” here the queen put on her spectacles, and began staring at the hatter, who turned pale and fidgeted.\n",
            "“give your evidence,” said the king; “and don’t be nervous, or i’ll have you executed on the spot.” this did not seem to encourage the witness at all: he kept shifting from one foot to the other, looking uneasily at the queen, and in his confusion he bit a large piece out of his teacup instead of the bread-and-butter.\n",
            "just at this moment alice felt a very curious sensation, which puzzled her a good deal until she made out what it was: she was beginning to grow larger again, and she thought at first she would get up and leave the court; but on second thoughts she decided to remain where she was as long as there was room for her.\n",
            "“i wish you wouldn’t squeeze so.” said the dormouse, who was sitting next to her.\n",
            "“i can hardly breathe.” “i can’t help it,” said alice very meekly: “i’m growing.” “you’ve no right to grow here,” said the dormouse.\n",
            "“don’t talk nonsense,” said alice more boldly: “you know you’re growing too.” “yes, but i grow at a reasonable pace,” said the dormouse: “not in that ridiculous fashion.” and he got up very sulkily and crossed over to the other side of the court.\n",
            "all this time the queen had never left off staring at the hatter, and, just as the dormouse crossed the court, she said to one of the officers of the court, “bring me the list of the singers in the last concert!” on which the wretched hatter trembled so, that he shook both his shoes off.\n",
            "“give your evidence,” the king repeated angrily, “or i’ll have you executed, whether you’re nervous or not.” “i’m a poor man, your majesty,” the hatter began, in a trembling voice, “—and i hadn’t begun my tea—not above a week or so—and what with the bread-and-butter getting so thin—and the twinkling of the tea—” “the twinkling of the what?” said the king.\n",
            "“it began with the tea,” the hatter replied.\n",
            "“of course twinkling begins with a t!” said the king sharply.\n",
            "“do you take me for a dunce?\n",
            "go on!” “i’m a poor man,” the hatter went on, “and most things twinkled after that—only the march hare said—” “i didn’t!” the march hare interrupted in a great hurry.\n",
            "“you did!” said the hatter.\n",
            "“i deny it!” said the march hare.\n",
            "“he denies it,” said the king: “leave out that part.” “well, at any rate, the dormouse said—” the hatter went on, looking anxiously round to see if he would deny it too: but the dormouse denied nothing, being fast asleep.\n",
            "“after that,” continued the hatter, “i cut some more bread-and-butter—” “but what did the dormouse say?” one of the jury asked.\n",
            "“that i can’t remember,” said the hatter.\n",
            "“you must remember,” remarked the king, “or i’ll have you executed.” the miserable hatter dropped his teacup and bread-and-butter, and went down on one knee.\n",
            "“i’m a poor man, your majesty,” he began.\n",
            "“you’re a very poor speaker,” said the king.\n",
            "here one of the guinea-pigs cheered, and was immediately suppressed by the officers of the court.\n",
            "(as that is rather a hard word, i will just explain to you how it was done.\n",
            "they had a large canvas bag, which tied up at the mouth with strings: into this they slipped the guinea-pig, head first, and then sat upon it.)\n",
            "“i’m glad i’ve seen that done,” thought alice.\n",
            "“i’ve so often read in the newspapers, at the end of trials, “there was some attempts at applause, which was immediately suppressed by the officers of the court,” and i never understood what it meant till now.” “if that’s all you know about it, you may stand down,” continued the king.\n",
            "“i can’t go no lower,” said the hatter: “i’m on the floor, as it is.” “then you may sit down,” the king replied.\n",
            "here the other guinea-pig cheered, and was suppressed.\n",
            "“come, that finished the guinea-pigs!” thought alice.\n",
            "“now we shall get on better.” “i’d rather finish my tea,” said the hatter, with an anxious look at the queen, who was reading the list of singers.\n",
            "“you may go,” said the king, and the hatter hurriedly left the court, without even waiting to put his shoes on.\n",
            "“—and just take his head off outside,” the queen added to one of the officers: but the hatter was out of sight before the officer could get to the door.\n",
            "“call the next witness!” said the king.\n",
            "the next witness was the duchess’s cook.\n",
            "she carried the pepper-box in her hand, and alice guessed who it was, even before she got into the court, by the way the people near the door began sneezing all at once.\n",
            "“give your evidence,” said the king.\n",
            "“shan’t,” said the cook.\n",
            "the king looked anxiously at the white rabbit, who said in a low voice, “your majesty must cross-examine this witness.” “well, if i must, i must,” the king said, with a melancholy air, and, after folding his arms and frowning at the cook till his eyes were nearly out of sight, he said in a deep voice, “what are tarts made of?” “pepper, mostly,” said the cook.\n",
            "“treacle,” said a sleepy voice behind her.\n",
            "“collar that dormouse,” the queen shrieked out.\n",
            "“behead that dormouse!\n",
            "turn that dormouse out of court!\n",
            "suppress him!\n",
            "pinch him!\n",
            "off with his whiskers!” for some minutes the whole court was in confusion, getting the dormouse turned out, and, by the time they had settled down again, the cook had disappeared.\n",
            "“never mind!” said the king, with an air of great relief.\n",
            "“call the next witness.” and he added in an undertone to the queen, “really, my dear, you must cross-examine the next witness.\n",
            "it quite makes my forehead ache!” alice watched the white rabbit as he fumbled over the list, feeling very curious to see what the next witness would be like, “—for they haven’t got much evidence yet,” she said to herself.\n",
            "imagine her surprise, when the white rabbit read out, at the top of his shrill little voice, the name “alice!” chapter xii.\n",
            "alice’s evidence “here!” cried alice, quite forgetting in the flurry of the moment how large she had grown in the last few minutes, and she jumped up in such a hurry that she tipped over the jury-box with the edge of her skirt, upsetting all the jurymen on to the heads of the crowd below, and there they lay sprawling about, reminding her very much of a globe of goldfish she had accidentally upset the week before.\n",
            "“oh, i beg your pardon!” she exclaimed in a tone of great dismay, and began picking them up again as quickly as she could, for the accident of the goldfish kept running in her head, and she had a vague sort of idea that they must be collected at once and put back into the jury-box, or they would die.\n",
            "“the trial cannot proceed,” said the king in a very grave voice, “until all the jurymen are back in their proper places—all,” he repeated with great emphasis, looking hard at alice as he said so.\n",
            "alice looked at the jury-box, and saw that, in her haste, she had put the lizard in head downwards, and the poor little thing was waving its tail about in a melancholy way, being quite unable to move.\n",
            "she soon got it out again, and put it right; “not that it signifies much,” she said to herself; “i should think it would be quite as much use in the trial one way up as the other.” as soon as the jury had a little recovered from the shock of being upset, and their slates and pencils had been found and handed back to them, they set to work very diligently to write out a history of the accident, all except the lizard, who seemed too much overcome to do anything but sit with its mouth open, gazing up into the roof of the court.\n",
            "“what do you know about this business?” the king said to alice.\n",
            "“nothing,” said alice.\n",
            "“nothing whatever?” persisted the king.\n",
            "“nothing whatever,” said alice.\n",
            "“that’s very important,” the king said, turning to the jury.\n",
            "they were just beginning to write this down on their slates, when the white rabbit interrupted: “unimportant, your majesty means, of course,” he said in a very respectful tone, but frowning and making faces at him as he spoke.\n",
            "“unimportant, of course, i meant,” the king hastily said, and went on to himself in an undertone, “important—unimportant—unimportant—important—” as if he were trying which word sounded best.\n",
            "some of the jury wrote it down “important,” and some “unimportant.” alice could see this, as she was near enough to look over their slates; “but it doesn’t matter a bit,” she thought to herself.\n",
            "at this moment the king, who had been for some time busily writing in his note-book, cackled out “silence!” and read out from his book, “rule forty-two.\n",
            "all persons more than a mile high to leave the court.” everybody looked at alice.\n",
            "“i’m not a mile high,” said alice.\n",
            "“you are,” said the king.\n",
            "“nearly two miles high,” added the queen.\n",
            "“well, i shan’t go, at any rate,” said alice: “besides, that’s not a regular rule: you invented it just now.” “it’s the oldest rule in the book,” said the king.\n",
            "“then it ought to be number one,” said alice.\n",
            "the king turned pale, and shut his note-book hastily.\n",
            "“consider your verdict,” he said to the jury, in a low, trembling voice.\n",
            "“there’s more evidence to come yet, please your majesty,” said the white rabbit, jumping up in a great hurry; “this paper has just been picked up.” “what’s in it?” said the queen.\n",
            "“i haven’t opened it yet,” said the white rabbit, “but it seems to be a letter, written by the prisoner to—to somebody.” “it must have been that,” said the king, “unless it was written to nobody, which isn’t usual, you know.” “who is it directed to?” said one of the jurymen.\n",
            "“it isn’t directed at all,” said the white rabbit; “in fact, there’s nothing written on the outside.” he unfolded the paper as he spoke, and added “it isn’t a letter, after all: it’s a set of verses.” “are they in the prisoner’s handwriting?” asked another of the jurymen.\n",
            "“no, they’re not,” said the white rabbit, “and that’s the queerest thing about it.” (the jury all looked puzzled.)\n",
            "“he must have imitated somebody else’s hand,” said the king.\n",
            "(the jury all brightened up again.)\n",
            "“please your majesty,” said the knave, “i didn’t write it, and they can’t prove i did: there’s no name signed at the end.” “if you didn’t sign it,” said the king, “that only makes the matter worse.\n",
            "you must have meant some mischief, or else you’d have signed your name like an honest man.” there was a general clapping of hands at this: it was the first really clever thing the king had said that day.\n",
            "“that proves his guilt,” said the queen.\n",
            "“it proves nothing of the sort!” said alice.\n",
            "“why, you don’t even know what they’re about!” “read them,” said the king.\n",
            "the white rabbit put on his spectacles.\n",
            "“where shall i begin, please your majesty?” he asked.\n",
            "“begin at the beginning,” the king said gravely, “and go on till you come to the end: then stop.” these were the verses the white rabbit read:— “they told me you had been to her, and mentioned me to him: she gave me a good character, but said i could not swim.\n",
            "he sent them word i had not gone (we know it to be true): if she should push the matter on, what would become of you?\n",
            "i gave her one, they gave him two, you gave us three or more; they all returned from him to you, though they were mine before.\n",
            "if i or she should chance to be involved in this affair, he trusts to you to set them free, exactly as we were.\n",
            "my notion was that you had been (before she had this fit) an obstacle that came between him, and ourselves, and it.\n",
            "don’t let him know she liked them best, for this must ever be a secret, kept from all the rest, between yourself and me.” “that’s the most important piece of evidence we’ve heard yet,” said the king, rubbing his hands; “so now let the jury—” “if any one of them can explain it,” said alice, (she had grown so large in the last few minutes that she wasn’t a bit afraid of interrupting him,) “i’ll give him sixpence.\n",
            "i don’t believe there’s an atom of meaning in it.” the jury all wrote down on their slates, “she doesn’t believe there’s an atom of meaning in it,” but none of them attempted to explain the paper.\n",
            "“if there’s no meaning in it,” said the king, “that saves a world of trouble, you know, as we needn’t try to find any.\n",
            "and yet i don’t know,” he went on, spreading out the verses on his knee, and looking at them with one eye; “i seem to see some meaning in them, after all.\n",
            "“—said i could not swim—” you can’t swim, can you?” he added, turning to the knave.\n",
            "the knave shook his head sadly.\n",
            "“do i look like it?” he said.\n",
            "(which he certainly did not, being made entirely of cardboard.)\n",
            "“all right, so far,” said the king, and he went on muttering over the verses to himself: “‘we know it to be true—’ that’s the jury, of course—‘i gave her one, they gave him two—’ why, that must be what he did with the tarts, you know—” “but, it goes on ‘they all returned from him to you,’” said alice.\n",
            "“why, there they are!” said the king triumphantly, pointing to the tarts on the table.\n",
            "“nothing can be clearer than that.\n",
            "then again—‘before she had this fit—’ you never had fits, my dear, i think?” he said to the queen.\n",
            "“never!” said the queen furiously, throwing an inkstand at the lizard as she spoke.\n",
            "(the unfortunate little bill had left off writing on his slate with one finger, as he found it made no mark; but he now hastily began again, using the ink, that was trickling down his face, as long as it lasted.)\n",
            "“then the words don’t fit you,” said the king, looking round the court with a smile.\n",
            "there was a dead silence.\n",
            "“it’s a pun!” the king added in an offended tone, and everybody laughed, “let the jury consider their verdict,” the king said, for about the twentieth time that day.\n",
            "“no, no!” said the queen.\n",
            "“sentence first—verdict afterwards.” “stuff and nonsense!” said alice loudly.\n",
            "“the idea of having the sentence first!” “hold your tongue!” said the queen, turning purple.\n",
            "“i won’t!” said alice.\n",
            "“off with her head!” the queen shouted at the top of her voice.\n",
            "nobody moved.\n",
            "“who cares for you?” said alice, (she had grown to her full size by this time.)\n",
            "“you’re nothing but a pack of cards!” at this the whole pack rose up into the air, and came flying down upon her: she gave a little scream, half of fright and half of anger, and tried to beat them off, and found herself lying on the bank, with her head in the lap of her sister, who was gently brushing away some dead leaves that had fluttered down from the trees upon her face.\n",
            "“wake up, alice dear!” said her sister; “why, what a long sleep you’ve had!” “oh, i’ve had such a curious dream!” said alice, and she told her sister, as well as she could remember them, all these strange adventures of hers that you have just been reading about; and when she had finished, her sister kissed her, and said, “it was a curious dream, dear, certainly: but now run in to your tea; it’s getting late.” so alice got up and ran off, thinking while she ran, as well she might, what a wonderful dream it had been.\n",
            "but her sister sat still just as she left her, leaning her head on her hand, watching the setting sun, and thinking of little alice and all her wonderful adventures, till she too began dreaming after a fashion, and this was her dream:— first, she dreamed of little alice herself, and once again the tiny hands were clasped upon her knee, and the bright eager eyes were looking up into hers—she could hear the very tones of her voice, and see that queer little toss of her head to keep back the wandering hair that would always get into her eyes—and still as she listened, or seemed to listen, the whole place around her became alive with the strange creatures of her little sister’s dream.\n",
            "the long grass rustled at her feet as the white rabbit hurried by—the frightened mouse splashed his way through the neighbouring pool—she could hear the rattle of the teacups as the march hare and his friends shared their never-ending meal, and the shrill voice of the queen ordering off her unfortunate guests to execution—once more the pig-baby was sneezing on the duchess’s knee, while plates and dishes crashed around it—once more the shriek of the gryphon, the squeaking of the lizard’s slate-pencil, and the choking of the suppressed guinea-pigs, filled the air, mixed up with the distant sobs of the miserable mock turtle.\n",
            "so she sat on, with closed eyes, and half believed herself in wonderland, though she knew she had but to open them again, and all would change to dull reality—the grass would be only rustling in the wind, and the pool rippling to the waving of the reeds—the rattling teacups would change to tinkling sheep-bells, and the queen’s shrill cries to the voice of the shepherd boy—and the sneeze of the baby, the shriek of the gryphon, and all the other queer noises, would change (she knew) to the confused clamour of the busy farm-yard—while the lowing of the cattle in the distance would take the place of the mock turtle’s heavy sobs.\n",
            "lastly, she pictured to herself how this same little sister of hers would, in the after-time, be herself a grown woman; and how she would keep, through all her riper years, the simple and loving heart of her childhood: and how she would gather about her other little children, and make their eyes bright and eager with many a strange tale, perhaps even with the dream of wonderland of long ago: and how she would feel with all their simple sorrows, and find a pleasure in all their simple joys, remembering her own child-life, and the happy summer days.\n",
            "the end\n"
          ],
          "name": "stdout"
        }
      ]
    },
    {
      "cell_type": "code",
      "metadata": {
        "id": "Aw2eZOuEHimV",
        "outputId": "d9741126-2ee5-4b52-c7f9-035a53ab5ee0",
        "colab": {
          "base_uri": "https://localhost:8080/"
        }
      },
      "source": [
        "temp_tokenizer = RegexpTokenizer(r'\\w+')\n",
        "words=temp_tokenizer.tokenize(raw_text)\n",
        "unique=set(words)\n",
        "print(\"Number of unique words after preprocessing: \",len(unique))"
      ],
      "execution_count": 4,
      "outputs": [
        {
          "output_type": "stream",
          "text": [
            "Number of unique words after preprocessing:  2568\n"
          ],
          "name": "stdout"
        }
      ]
    },
    {
      "cell_type": "code",
      "metadata": {
        "id": "eug68GOecM8Z"
      },
      "source": [
        "# Hyperparameters of the model\n",
        "vocab_size = 2570 # choose based on statistics\n",
        "oov_tok = '<OOV>'\n",
        "embedding_dim = 100\n",
        "padding_type='post'\n",
        "trunc_type='post'"
      ],
      "execution_count": 5,
      "outputs": []
    },
    {
      "cell_type": "code",
      "metadata": {
        "id": "bWNBOlJ5cQym"
      },
      "source": [
        "# tokenize sentences\n",
        "tokenizer = Tokenizer(num_words = vocab_size, oov_token=oov_tok)\n",
        "tokenizer.fit_on_texts([raw_text])\n",
        "word_index = tokenizer.word_index"
      ],
      "execution_count": 6,
      "outputs": []
    },
    {
      "cell_type": "code",
      "metadata": {
        "id": "LNRJDbFcdHbO"
      },
      "source": [
        "seq_length = 50\n",
        "tokens = tokenizer.texts_to_sequences([raw_text])[0]"
      ],
      "execution_count": 7,
      "outputs": []
    },
    {
      "cell_type": "code",
      "metadata": {
        "id": "JCfE9ULKVpkt",
        "outputId": "e5884f6f-4878-468e-9d80-cf9e8b52b463",
        "colab": {
          "base_uri": "https://localhost:8080/"
        }
      },
      "source": [
        "print(word_index)"
      ],
      "execution_count": 8,
      "outputs": [
        {
          "output_type": "stream",
          "text": [
            "{'<OOV>': 1, 'the': 2, '”': 3, 'and': 4, 'to': 5, 'a': 6, 'she': 7, 'of': 8, 'it': 9, 'said': 10, 'alice': 11, 'in': 12, 'was': 13, 'you': 14, 'i': 15, 'that': 16, 'as': 17, 'her': 18, 'at': 19, 'on': 20, 'with': 21, 'had': 22, 'all': 23, 'be': 24, 'for': 25, 'so': 26, 'very': 27, 'not': 28, 'this': 29, 'little': 30, 'but': 31, '“i': 32, 'out': 33, 'they': 34, 'he': 35, 'down': 36, 'what': 37, 'up': 38, 'is': 39, 'one': 40, 'his': 41, 'about': 42, 'were': 43, 'like': 44, 'went': 45, 'herself': 46, 'them': 47, 'again': 48, 'know': 49, 'then': 50, 'would': 51, 'could': 52, 'have': 53, 'no': 54, 'thought': 55, 'when': 56, 'if': 57, 'do': 58, 'time': 59, 'or': 60, 'there': 61, 'queen': 62, 'into': 63, 'me': 64, 'see': 65, 'off': 66, 'king': 67, 'your': 68, 'did': 69, 'began': 70, 'its': 71, 'by': 72, 'an': 73, 'my': 74, 'mock': 75, '“and': 76, 'quite': 77, 'hatter': 78, 'turtle': 79, 'gryphon': 80, 'way': 81, 'who': 82, 'don’t': 83, 'their': 84, 'think': 85, 'much': 86, 'say': 87, 'some': 88, 'thing': 89, 'just': 90, 'first': 91, 'go': 92, 'now': 93, 'more': 94, 'rabbit': 95, 'head': 96, 'voice': 97, 'how': 98, 'are': 99, 'looked': 100, 'here': 101, 'which': 102, 'got': 103, 'only': 104, 'must': 105, 'get': 106, 'never': 107, '“you': 108, 'after': 109, 'round': 110, 'him': 111, 'over': 112, 'such': 113, 'came': 114, 'tone': 115, 'great': 116, 'other': 117, '“but': 118, 'duchess': 119, 'dormouse': 120, 'mouse': 121, 'been': 122, 'any': 123, 'back': 124, 'well': 125, 'before': 126, 'i’m': 127, 'two': 128, '“what': 129, 'from': 130, 'cat': 131, 'large': 132, 'can': 133, 'last': 134, 'march': 135, 'long': 136, 'looking': 137, 'put': 138, 'right': 139, 'it’s': 140, 'hare': 141, 'nothing': 142, 'once': 143, 'made': 144, 'white': 145, 'next': 146, '“it': 147, 'will': 148, 'heard': 149, 'moment': 150, 'found': 151, 'tell': 152, 'replied': 153, 'day': 154, 'eyes': 155, 'dear': 156, 'look': 157, 'come': 158, 'things': 159, 'might': 160, 'door': 161, 'seemed': 162, 'going': 163, 'good': 164, 'should': 165, 'three': 166, 'can’t': 167, 'caterpillar': 168, 'make': 169, 'upon': 170, 'poor': 171, 'too': 172, 'rather': 173, 'soon': 174, 'away': 175, 'course': 176, 'took': 177, 'without': 178, 'i’ll': 179, 'while': 180, 'won’t': 181, '“oh': 182, 'shall': 183, '“well': 184, 'felt': 185, 'than': 186, 'half': 187, 'same': 188, '“it’s': 189, 'added': 190, 'getting': 191, 'another': 192, 'ever': 193, 'yet': 194, '“why': 195, 'words': 196, 'wish': 197, 'find': 198, 'minute': 199, '“if': 200, '“the': 201, 'i’ve': 202, 'sort': 203, 'hand': 204, 'cried': 205, 'sure': 206, '“i’m': 207, 'jury': 208, 'feet': 209, 'take': 210, 'tried': 211, 'however': 212, 'curious': 213, 'being': 214, 'till': 215, 'old': 216, 'use': 217, 'wonder': 218, 'anything': 219, 'even': 220, 'house': 221, 'end': 222, 'table': 223, 'something': 224, 'soup': 225, 'court': 226, 'why': 227, 'that’s': 228, 'you’re': 229, 'tea': 230, 'question': 231, 'side': 232, 'sat': 233, 'enough': 234, '“how': 235, 'we': 236, 'asked': 237, 'ran': 238, 'under': 239, 'talking': 240, 'eat': 241, 'bit': 242, 'turned': 243, 'high': 244, 'indeed': 245, 'there’s': 246, 'hastily': 247, 'doesn’t': 248, 'spoke': 249, '’”': 250, '“that’s': 251, 'oh': 252, 'near': 253, 'idea': 254, 'please': 255, 'air': 256, 'saying': 257, 'low': 258, 'garden': 259, 'knew': 260, '“come': 261, 'gave': 262, 'am': 263, '—': 264, 'done': 265, '“that': 266, 'called': 267, 'arm': 268, 'hear': 269, 'itself': 270, 'ought': 271, 'seen': 272, 'saw': 273, 'through': 274, 'didn’t': 275, 'perhaps': 276, 'remember': 277, 'face': 278, 'left': 279, 'anxiously': 280, 'set': 281, 'these': 282, 'talk': 283, 'us': 284, 'better': 285, 'both': 286, '“i’ve': 287, 'mad': 288, 'beginning': 289, 'suddenly': 290, 'close': 291, 'let': 292, 'still': 293, 'people': 294, 'cats': 295, 'behind': 296, 'trying': 297, 'certainly': 298, '“no': 299, 'size': 300, 'grow': 301, 'far': 302, 'kept': 303, 'sea': 304, 'dodo': 305, 'whole': 306, 'room': 307, 'gone': 308, 'footman': 309, 'baby': 310, 'cook': 311, 'dance': 312, 'chapter': 313, 'wouldn’t': 314, 'many': 315, 'among': 316, 'afraid': 317, 'every': 318, 'begin': 319, 'because': 320, 'finished': 321, 'best': 322, 'game': 323, 'hardly': 324, 'life': 325, 'speak': 326, 'deal': 327, 'queer': 328, 'try': 329, 'used': 330, 'hands': 331, 'change': 332, 'suppose': 333, 'always': 334, 'silence': 335, '“of': 336, 'turning': 337, '“yes': 338, 'bill': 339, '“then': 340, 'may': 341, 'pigeon': 342, 'majesty': 343, 'book': 344, 'whether': 345, 'hurried': 346, 'though': 347, 'glad': 348, 'ask': 349, 'dinah': 350, 'alice’s': 351, 'hurry': 352, 'waited': 353, 'minutes': 354, 'tears': 355, 'child': 356, 'makes': 357, 'growing': 358, '“a': 359, '’': 360, '“not': 361, '“we': 362, 'where': 363, 'wasn’t': 364, 'beautiful': 365, 'pig': 366, 'sitting': 367, 'having': 368, 'own': 369, 'mind': 370, 'lessons': 371, 'heads': 372, 'word': 373, 'name': 374, 'else': 375, 'sight': 376, 'walked': 377, 'glass': 378, 'small': 379, 'opened': 380, 'those': 381, 'really': 382, 'bottle': 383, 'read': 384, 'children': 385, 'pool': 386, 'foot': 387, 'yourself': 388, 'gloves': 389, 'fan': 390, 'everything': 391, 'thinking': 392, 'nearly': 393, 'offended': 394, 'party': 395, 'rest': 396, 'mean': 397, 'mouth': 398, 'repeated': 399, 'they’re': 400, 'remarked': 401, 'remark': 402, 'soldiers': 403, 'witness': 404, 'either': 405, 'couldn’t': 406, 'answer': 407, 'matter': 408, '“now': 409, 'hall': 410, 'key': 411, 'rate': 412, 'few': 413, 'waiting': 414, 'box': 415, 'croquet': 416, 'against': 417, 'want': 418, 'give': 419, '“they': 420, 'help': 421, 'different': 422, 'tail': 423, 'conversation': 424, 'birds': 425, 'creatures': 426, 'continued': 427, 'believe': 428, 'angrily': 429, 'shook': 430, 'reason': 431, 'together': 432, 'shouted': 433, 'keep': 434, 'turn': 435, 'timidly': 436, 'puzzled': 437, 'tree': 438, 'interrupted': 439, 'knave': 440, 'join': 441, 'sister': 442, 'feel': 443, 'making': 444, 'watch': 445, 'slowly': 446, 'happen': 447, 'coming': 448, 'noticed': 449, 'top': 450, 'four': 451, 'opportunity': 452, 'seem': 453, '“do': 454, 'dry': 455, 'bright': 456, 'fact': 457, '“in': 458, 'followed': 459, 'lying': 460, 'work': 461, 'ready': 462, 'hard': 463, 'changed': 464, 'mine': 465, 'five': 466, 'live': 467, 'play': 468, 'beg': 469, 'our': 470, 'you’d': 471, 'eagerly': 472, 'meaning': 473, 'explain': 474, 'running': 475, 'story': 476, 'window': 477, 'least': 478, 'place': 479, 'appeared': 480, 'mushroom': 481, 'haven’t': 482, 'most': 483, 'fish': 484, '“there’s': 485, 'asleep': 486, 'butter': 487, 'hearts': 488, 'gardeners': 489, '“off': 490, 'whiting': 491, 'tired': 492, 'hot': 493, 'pocket': 494, 'world': 495, 'deep': 496, 'fall': 497, 'listen': 498, 'it’ll': 499, 'manage': 500, 'begun': 501, 'dream': 502, 'middle': 503, 'wondering': 504, 'golden': 505, 'open': 506, 'larger': 507, 'happened': 508, 'neck': 509, 'feeling': 510, '“for': 511, 'leave': 512, 'generally': 513, 'eye': 514, 'surprised': 515, 'shoes': 516, 'myself': 517, 'kind': 518, 'distance': 519, 'hair': 520, 'goes': 521, 'learn': 522, 'frightened': 523, 'chin': 524, 'hadn’t': 525, 'history': 526, '“as': 527, '“are': 528, 'lory': 529, 'has': 530, 'trial': 531, 'others': 532, '“he': 533, 'i’d': 534, 'stood': 535, 'does': 536, 'grown': 537, 'business': 538, '“so': 539, 'wood': 540, 'trees': 541, 'each': 542, 'isn’t': 543, 'serpent': 544, 'draw': 545, 'silent': 546, 'pepper': 547, 'ground': 548, 'nose': 549, 'pleased': 550, 'song': 551, '‘i': 552, 'bread': 553, 'queen’s': 554, 'hedgehog': 555, 'moral': 556, 'lobsters': 557, 'tarts': 558, 'slates': 559, 'evidence': 560, 'trouble': 561, 'late': 562, 'fell': 563, 'somebody': 564, 'nice': 565, 'written': 566, 'leaves': 567, 'jumped': 568, 'roof': 569, 'inches': 570, 'marked': 571, 'hold': 572, 'forgotten': 573, 'almost': 574, 'english': 575, '“or': 576, 'nonsense': 577, 'stop': 578, 'himself': 579, 'times': 580, 'repeat': 581, 'grin': 582, 'understand': 583, 'william': 584, 'pardon': 585, '“don’t': 586, 'trembling': 587, 'subject': 588, '“there': 589, 'sit': 590, 'race': 591, 'politely': 592, 'melancholy': 593, 'liked': 594, 'exactly': 595, 'piece': 596, 'sir': 597, '“you’re': 598, 'nobody': 599, 'executed': 600, 'broken': 601, 'chimney': 602, 'full': 603, 'loud': 604, 'sharp': 605, 'guinea': 606, 'pigs': 607, 'puppy': 608, 'arms': 609, '“who': 610, 'father': 611, 'youth': 612, 'sneezing': 613, 'between': 614, 'told': 615, 'ear': 616, 'cheshire': 617, 'everybody': 618, 'dreadfully': 619, 'writing': 620, 'sing': 621, 'exclaimed': 622, 'school': 623, 'lobster': 624, 'soo—oop': 625, 'sleepy': 626, 'across': 627, 'curiosity': 628, 'passed': 629, 'home': 630, 'aloud': 631, 'walk': 632, 'new': 633, 'asking': 634, 'night': 635, 'sometimes': 636, 'walking': 637, 'sadly': 638, 'along': 639, 'shut': 640, 'simple': 641, 'cut': 642, 'finger': 643, 'ten': 644, 'nervous': 645, 'altogether': 646, 'fancy': 647, 'remembered': 648, '“to': 649, 'happens': 650, 'shan’t': 651, 'pair': 652, 'kid': 653, 'dropped': 654, 'usual': 655, 'morning': 656, 'seven': 657, 'wrong': 658, 'sounded': 659, 'strange': 660, 'seems': 661, 'stay': 662, 'sudden': 663, 'water': 664, 'case': 665, 'number': 666, 'swam': 667, 'nearer': 668, '“would': 669, 'speaking': 670, 'sentence': 671, 'shrill': 672, 'angry': 673, 'fetch': 674, 'crowded': 675, 'notice': 676, '“one': 677, 'chorus': 678, 'dare': 679, 'confusion': 680, 'call': 681, 'reply': 682, 'finish': 683, 'impatiently': 684, 'sighed': 685, 'temper': 686, 'young': 687, 'moved': 688, 'doing': 689, 'direction': 690, 'interesting': 691, 'become': 692, '“when': 693, 'write': 694, 'shouldn’t': 695, 'taking': 696, 'shriek': 697, 'drew': 698, 'sky': 699, 'instantly': 700, '“i’ll': 701, 'surprise': 702, 'lizard': 703, 'height': 704, 'quietly': 705, 'hookah': 706, 'man': 707, 'stand': 708, 'often': 709, 'eggs': 710, 'sleep': 711, 'you’ve': 712, 'meant': 713, 'waving': 714, '“very': 715, 'treacle': 716, 'rose': 717, 'faces': 718, 'procession': 719, 'pack': 720, 'knee': 721, 'whispered': 722, 'flamingo': 723, 'executioner': 724, 'adventures': 725, 'hole': 726, 'twice': 727, 'pictures': 728, 'worth': 729, 'natural': 730, 'sides': 731, 'fear': 732, 'managed': 733, 'they’ll': 734, 'likely': 735, 'fallen': 736, 'earth': 737, 'several': 738, 'sound': 739, 'girl': 740, 'bats': 741, 'passage': 742, 'ears': 743, 'except': 744, 'tiny': 745, 'alas': 746, 'second': 747, 'led': 748, 'shoulders': 749, '“which': 750, 'paper': 751, 'taught': 752, 'deeply': 753, 'drink': 754, 'ventured': 755, 'reach': 756, 'sharply': 757, 'severely': 758, 'person': 759, 'care': 760, 'nine': 761, 'until': 762, 'savage': 763, 'violently': 764, 'age': 765, 'mabel': 766, 'she’s': 767, 'puzzling': 768, 'twelve': 769, 'capital': 770, 'alone': 771, 'shrinking': 772, 'escape': 773, 'fire': 774, 'paws': 775, 'says': 776, 'pale': 777, 'you’ll': 778, 'animals': 779, 'duck': 780, 'tale': 781, 'uncomfortable': 782, 'argument': 783, 'important': 784, 'wanted': 785, 'frowning': 786, 'means': 787, 'solemnly': 788, 'prizes': 789, 'pointing': 790, 'confused': 791, '“only': 792, 'thimble': 793, 'short': 794, 'bowed': 795, 'judge': 796, 'breath': 797, '“please': 798, '“ah': 799, 'tongue': 800, 'since': 801, 'vanished': 802, 'ann': 803, 'run': 804, 'chance': 805, 'ordered': 806, 'answered': 807, 'outside': 808, '“sure': 809, 'yer': 810, 'honour': 811, 'sounds': 812, 'hearing': 813, 'master': 814, 'fellow': 815, 'dead': 816, 'doubt': 817, 'lay': 818, 'crowd': 819, 'held': 820, '“is': 821, 'plan': 822, 'difficulty': 823, 'stick': 824, 'grass': 825, 'perfectly': 826, 'none': 827, 'questions': 828, 'decidedly': 829, 'thoughtfully': 830, 'green': 831, 'screamed': 832, 'indignantly': 833, 'taken': 834, 'otherwise': 835, 'dish': 836, 'days': 837, 'kitchen': 838, 'jumping': 839, 'carried': 840, 'hours': 841, 'busily': 842, 'beat': 843, 'wow': 844, 'verse': 845, 'creature': 846, 'grunted': 847, 'less': 848, '“call': 849, '“i’d': 850, 'fast': 851, 'shoulder': 852, 'twinkling': 853, 'know—”': 854, 'twinkle': 855, 'sigh': 856, 'bottom': 857, 'begins': 858, 'rule': 859, '“she': 860, 'arches': 861, 'players': 862, 'quadrille': 863, 'sobs': 864, 'porpoise': 865, 'beau—ootiful': 866, 'jurors': 867, 'officers': 868, 'suppressed': 869, 'jurymen': 870, '“nothing': 871, 'verses': 872, 'peeped': 873, 'reading': 874, 'considering': 875, 'stupid': 876, 'dark': 877, 'filled': 878, 'past': 879, 'stairs': 880, 'true': 881, 'miles': 882, 'somewhere': 883, 'think—”': 884, 'knowledge': 885, 'grand': 886, 'funny': 887, 'listening': 888, 'she’ll': 889, 'miss': 890, 'hope': 891, 'mice': 892, 'catch': 893, 'bat': 894, 'hurt': 895, 'lost': 896, 'corner': 897, 'whiskers': 898, 'longer': 899, 'hanging': 900, 'delight': 901, 'telescope': 902, 'impossible': 903, 'hoping': 904, 'rules': 905, '“drink': 906, 'red': 907, 'knife': 908, 'certain': 909, 'later': 910, 'finding': 911, 'further': 912, 'candle': 913, 'decided': 914, 'possibly': 915, 'legs': 916, 'fond': 917, 'cake': 918, 'smaller': 919, 'holding': 920, 'remained': 921, 'expecting': 922, 'dull': 923, 'opening': 924, 'dears': 925, 'boots': 926, 'directions': 927, 'love': 928, 'cry': 929, 'pattering': 930, 'muttering': 931, 'timid': 932, 'yesterday': 933, 'sorts': 934, 'besides': 935, 'let’s': 936, 'doth': 937, 'crossed': 938, 'hoarse': 939, 'spread': 940, 'gently': 941, 'putting': 942, 'rabbit’s': 943, 'guess': 944, 'cause': 945, 'worse': 946, 'slipped': 947, 'general': 948, 'digging': 949, '“perhaps': 950, 'french': 951, 'notion': 952, 'lesson': 953, 'show': 954, 'dogs': 955, 'throw': 956, 'passion': 957, '“let': 958, 'shore': 959, 'eaglet': 960, 'caucus': 961, 'fur': 962, 'cross': 963, 'sulky': 964, '“did': 965, 'frog': 966, 'crown': 967, 'move': 968, 'pressed': 969, 'handed': 970, 'gravely': 971, 'speech': 972, 'cheered': 973, 'grave': 974, 'solemn': 975, 'noise': 976, 'choked': 977, 'whisper': 978, 'sad': 979, 'sighing': 980, 'met': 981, 'attending': 982, 'pleaded': 983, 'easily': 984, 'joined': 985, 'pity': 986, 'crab': 987, '“hold': 988, 'particular': 989, 'venture': 990, 'carefully': 991, 'remarking': 992, 'suit': 993, 'mentioned': 994, 'guessed': 995, 'hunting': 996, 'swim': 997, 'mary': 998, 'mistake': 999, 'plate': 1000, 'knocking': 1001, 'real': 1002, 'they’d': 1003, 'floor': 1004, 'effect': 1005, 'elbow': 1006, 'whatever': 1007, '“at': 1008, 'stopped': 1009, 'forgetting': 1010, 'crash': 1011, '“here': 1012, 'bill’s': 1013, '’em': 1014, 'below': 1015, 'kick': 1016, 'above': 1017, '“this': 1018, 'sense': 1019, 'moving': 1020, 'cakes': 1021, 'paw': 1022, 'hungry': 1023, 'picked': 1024, 'edge': 1025, 'immediately': 1026, 'folded': 1027, '“because': 1028, 'confusing': 1029, '“all': 1030, 'brought': 1031, 'remarks': 1032, 'stuff': 1033, 'free': 1034, 'shaking': 1035, 'succeeded': 1036, 'serpents': 1037, 'girls': 1038, 'yours': 1039, 'settled': 1040, 'pieces': 1041, 'nibbling': 1042, 'bringing': 1043, 'livery': 1044, 'considered': 1045, 'loudly': 1046, 'letter': 1047, 'order': 1048, 'staring': 1049, 'howling': 1050, 'instance': 1051, 'repeating': 1052, 'nursing': 1053, 'courage': 1054, 'grinned': 1055, 'growl': 1056, 'faster': 1057, 'advantage': 1058, '“just': 1059, 'tossing': 1060, 'caught': 1061, 'shaped': 1062, 'proper': 1063, '“they’re': 1064, 'sobbing': 1065, 'instead': 1066, '“have': 1067, 'civil': 1068, 'fun': 1069, 'crumbs': 1070, 'o’clock': 1071, '“what’s': 1072, 'cautiously': 1073, 'music': 1074, 'fly': 1075, 'lady': 1076, 'lived': 1077, 'upset': 1078, '“really': 1079, 'roses': 1080, 'beheaded': 1081, 'watching': 1082, 'checked': 1083, 'themselves': 1084, 'eager': 1085, 'guests': 1086, 'cards': 1087, 'needn’t': 1088, '“consider': 1089, 'unfortunate': 1090, '“she’s': 1091, 'said—”': 1092, 'hedgehogs': 1093, 'tucked': 1094, 'turns': 1095, 'alive': 1096, 'friend': 1097, 'anxious': 1098, 'mustard': 1099, 'duchess’s': 1100, 'hers': 1101, '“thank': 1102, 'week': 1103, 'figure': 1104, 'toes': 1105, 'mark': 1106, 'snail': 1107, 'tails': 1108, 'mouths': 1109, 'obliged': 1110, 'follows': 1111, 'around': 1112, 'owl': 1113, 'panther': 1114, 'e—e—evening': 1115, 'trial’s': 1116, 'trumpet': 1117, '“stupid': 1118, 'spectacles': 1119, 'slate': 1120, 'verdict': 1121, 'teacup': 1122, 'wrote': 1123, '“give': 1124, 'list': 1125, '“unimportant': 1126, 'bank': 1127, 'conversations': 1128, 'pleasure': 1129, 'picking': 1130, 'remarkable': 1131, 'nor': 1132, 'afterwards': 1133, 'occurred': 1134, 'waistcoat': 1135, 'started': 1136, 'hedge': 1137, 'straight': 1138, 'dipped': 1139, 'falling': 1140, 'plenty': 1141, 'cupboards': 1142, 'shelves': 1143, 'jar': 1144, 'underneath': 1145, '“after': 1146, 'tumbling': 1147, 'thousand': 1148, 'learnt': 1149, 'showing': 1150, 'latitude': 1151, 'longitude': 1152, 'presently': 1153, 'milk': 1154, 'earnestly': 1155, 'thump': 1156, 'wind': 1157, 'row': 1158, 'doors': 1159, 'legged': 1160, 'locks': 1161, 'longed': 1162, 'beds': 1163, 'flowers': 1164, 'cool': 1165, 'fountains': 1166, 'shutting': 1167, 'label': 1168, 'beautifully': 1169, 'wise': 1170, 'wild': 1171, 'beasts': 1172, 'unpleasant': 1173, 'friends': 1174, 'burn': 1175, 'usually': 1176, '“poison': 1177, 'sooner': 1178, 'taste': 1179, 'mixed': 1180, 'brightened': 1181, 'lovely': 1182, 'crying': 1183, 'advice': 1184, 'bring': 1185, 'playing': 1186, 'forgot': 1187, 'bye': 1188, 'sending': 1189, 'presents': 1190, 'struck': 1191, 'ashamed': 1192, 'trotting': 1193, 'ringlets': 1194, 'knows': 1195, 'and—oh': 1196, 'six': 1197, 'twenty': 1198, 'paris': 1199, 'lap': 1200, 'neatly': 1201, 'claws': 1202, 'smiling': 1203, 'jaws': 1204, '‘come': 1205, 'rapidly': 1206, 'narrow': 1207, 'declare': 1208, 'bad': 1209, 'salt': 1210, 'railway': 1211, 'conclusion': 1212, 'wherever': 1213, 'splashing': 1214, 'swimming': 1215, 'wink': 1216, 'conqueror': 1217, 'clear': 1218, 'ago': 1219, 'ma': 1220, 'fright': 1221, 'feelings': 1222, 'quiet': 1223, 'purring': 1224, 'nicely': 1225, 'washing': 1226, 'catching': 1227, 'dog': 1228, 'brown': 1229, 'dinner': 1230, 'them—and': 1231, 'belongs': 1232, 'useful': 1233, 'sorrowful': 1234, 'assembled': 1235, 'wet': 1236, 'older': 1237, 'allow': 1238, 'knowing': 1239, 'authority': 1240, '“sit': 1241, 'ring': 1242, 'whose': 1243, 'morcar': 1244, 'earls': 1245, 'mercia': 1246, 'proceed': 1247, 'archbishop': 1248, '“found': 1249, '‘it’': 1250, 'hurriedly': 1251, 'meet': 1252, 'offer': 1253, '“speak': 1254, 'what’s': 1255, 'smile': 1256, 'easy': 1257, 'hour': 1258, 'panting': 1259, 'won': 1260, 'forehead': 1261, 'position': 1262, '“everybody': 1263, 'voices': 1264, 'comfits': 1265, 'luckily': 1266, 'absurd': 1267, 'simply': 1268, 'caused': 1269, 'law': 1270, 'wasting': 1271, '‘i’ll': 1272, 'fury': 1273, 'humbly': 1274, 'bend': 1275, 'knot': 1276, 'bird': 1277, 'sensation': 1278, 'throat': 1279, '“nobody': 1280, 'lonely': 1281, 'footsteps': 1282, 'ferrets': 1283, 'nowhere': 1284, 'quick': 1285, 'messages': 1286, 'directly': 1287, 'nurse': 1288, 'ordering': 1289, 'drunk': 1290, 'stoop': 1291, 'curled': 1292, 'unhappy': 1293, 'fancied': 1294, '“shall': 1295, 'books': 1296, '“fetch': 1297, 'trembled': 1298, 'proved': 1299, 'snatch': 1300, 'concluded': 1301, 'cucumber': 1302, 'pat': 1303, 'apples': 1304, 'goose': 1305, 'bear': 1306, 'feeble': 1307, 'squeaking': 1308, 'comes': 1309, 'barrowful': 1310, 'shower': 1311, 'pebbles': 1312, 'rattling': 1313, 'hit': 1314, '“you’d': 1315, 'delighted': 1316, 'giving': 1317, 'rush': 1318, 'safe': 1319, 'wandered': 1320, 'excellent': 1321, 'smallest': 1322, 'bark': 1323, 'stretching': 1324, 'coaxing': 1325, 'thistle': 1326, 'stretched': 1327, 'tiptoe': 1328, 'smoking': 1329, 'addressed': 1330, 'encouraging': 1331, '“explain': 1332, 'contemptuously': 1333, 'anger': 1334, 'unfolded': 1335, 'busy': 1336, 'somersault': 1337, 'pray': 1338, 'sell': 1339, 'weak': 1340, 'lasted': 1341, 'eel': 1342, 'clever': 1343, 'changing': 1344, 'wretched': 1345, '“you’ll': 1346, 'patiently': 1347, 'chose': 1348, 'yawned': 1349, 'merely': 1350, 'taller': 1351, 'shorter': 1352, 'difficult': 1353, 'broke': 1354, 'nibbled': 1355, 'violent': 1356, 'blow': 1357, 'lefthand': 1358, 'alarm': 1359, 'follow': 1360, 'distant': 1361, 'wandering': 1362, 'beating': 1363, '“serpent': 1364, 'roots': 1365, 'doubtfully': 1366, 'changes': 1367, 'telling': 1368, 'tasted': 1369, 'matters': 1370, 'entangled': 1371, 'branches': 1372, 'lives': 1373, 'invitation': 1374, 'laughed': 1375, 'secondly': 1376, 'inside': 1377, 'extraordinary': 1378, 'constant': 1379, '“till': 1380, 'dreadful': 1381, 'muttered': 1382, 'leaning': 1383, 'stirring': 1384, 'cauldron': 1385, 'moment’s': 1386, 'pause': 1387, 'sneeze': 1388, 'introduce': 1389, 'throwing': 1390, 'plates': 1391, 'dishes': 1392, 'already': 1393, 'takes': 1394, 'hint': 1395, 'singing': 1396, 'line': 1397, 'boy': 1398, 'sneezes': 1399, '“wow': 1400, 'sang': 1401, 'thoroughly': 1402, 'threw': 1403, 'missed': 1404, 'twist': 1405, 'also': 1406, 'neither': 1407, 'ugly': 1408, 'startled': 1409, '“—so': 1410, 'explanation': 1411, 'denied': 1412, '“lives': 1413, 'invited': 1414, 'became': 1415, 'appear': 1416, 'raving': 1417, 'giddy': 1418, 'ending': 1419, 'raised': 1420, '“suppose': 1421, 'front': 1422, 'using': 1423, 'cushion': 1424, 'resting': 1425, 'wine': 1426, 'laid': 1427, '“your': 1428, 'wants': 1429, 'personal': 1430, 'rude': 1431, 'wide': 1432, 'riddles': 1433, '“exactly': 1434, 'breathe': 1435, 'break': 1436, 'month': 1437, 'uneasily': 1438, '“two': 1439, 'meekly': 1440, 'cup': 1441, 'tells': 1442, '“does': 1443, 'year': 1444, 'clock': 1445, 'spoon': 1446, 'concert': 1447, 'pinch': 1448, 'we’ve': 1449, 'wash': 1450, 'yawning': 1451, '“wake': 1452, 'pinched': 1453, '“tell': 1454, '“once': 1455, 'names': 1456, 'ill': 1457, '“take': 1458, 'triumphantly': 1459, 'sulkily': 1460, 'learning': 1461, '“treacle': 1462, '“let’s': 1463, 'interrupting': 1464, 'rubbing': 1465, 'manner': 1466, 'm—”': 1467, 'm': 1468, 'closed': 1469, 'flower': 1470, 'painting': 1471, 'flat': 1472, 'carrying': 1473, 'courtiers': 1474, 'ornamented': 1475, 'royal': 1476, 'mostly': 1477, 'king’s': 1478, 'crimson': 1479, 'doubtful': 1480, 'lie': 1481, 'smiled': 1482, '“my': 1483, '“turn': 1484, '“get': 1485, '“leave': 1486, 'fine': 1487, 'hush': 1488, 'execution': 1489, '‘what': 1490, 'scream': 1491, 'body': 1492, 'laughing': 1493, 'unrolled': 1494, 'quarrelling': 1495, 'stamping': 1496, 'shouting': 1497, 'dispute': 1498, 'cat’s': 1499, 'removed': 1500, 'fight': 1501, 'collected': 1502, 'entirely': 1503, 'disappeared': 1504, 'wildly': 1505, 'turtle’s': 1506, 'tempered': 1507, 'sugar': 1508, 'forget': 1509, 'hasn’t': 1510, 'keeping': 1511, '“’tis': 1512, '’tis': 1513, 'experiment': 1514, 'bite': 1515, 'agree': 1516, 'imagine': 1517, 'present': 1518, 'choice': 1519, 'custody': 1520, 'executions': 1521, 'sun': 1522, 'watched': 1523, 'heart': 1524, 'sorrow': 1525, 'heavy': 1526, 'tortoise': 1527, 'proud': 1528, 'relief': 1529, 'regular': 1530, 'drawling': 1531, 'recovered': 1532, 'delightful': 1533, 'turtles': 1534, 'advance': 1535, 'dancing': 1536, 'treading': 1537, 'kindly': 1538, 'thoughts': 1539, 'part': 1540, 'editions': 1541, 'tones': 1542, '“go': 1543, 'persisted': 1544, 'pie': 1545, '“beautiful': 1546, 'evening': 1547, 'cares': 1548, 'stole': 1549, 'scroll': 1550, 'parchment': 1551, 'wig': 1552, '“silence': 1553, 'pencil': 1554, 'quickly': 1555, 'blew': 1556, 'blasts': 1557, 'summer': 1558, 'sent': 1559, 'fashion': 1560, 'singers': 1561, '“—and': 1562, 'deny': 1563, 'miserable': 1564, 'examine': 1565, '“never': 1566, 'undertone': 1567, 'goldfish': 1568, 'accident': 1569, 'note': 1570, 'mile': 1571, 'directed': 1572, 'signed': 1573, 'proves': 1574, 'returned': 1575, 'fit': 1576, 'atom': 1577, 'wonderful': 1578, 'teacups': 1579, 'wonderland': 1580, '“without': 1581, 'daisy': 1582, 'chain': 1583, 'daisies': 1584, 'pink': 1585, 'wondered': 1586, 'actually': 1587, 'flashed': 1588, 'burning': 1589, 'field': 1590, 'fortunately': 1591, 'pop': 1592, 'tunnel': 1593, 'stopping': 1594, 'maps': 1595, 'hung': 1596, 'pegs': 1597, 'labelled': 1598, '“orange': 1599, 'marmalade”': 1600, 'disappointment': 1601, 'empty': 1602, 'drop': 1603, 'killing': 1604, 'brave': 1605, 'centre': 1606, 'schoolroom': 1607, 'practice': 1608, '“—yes': 1609, 'distance—but': 1610, 'downward': 1611, 'antipathies': 1612, '“—but': 1613, 'country': 1614, 'ma’am': 1615, 'zealand': 1616, 'australia': 1617, 'curtsey': 1618, 'spoke—fancy': 1619, 'curtseying': 1620, 'ignorant': 1621, '“dinah’ll': 1622, 'saucer': 1623, 'dreamy': 1624, 'dozing': 1625, 'truth': 1626, 'heap': 1627, 'sticks': 1628, 'overhead': 1629, 'hurrying': 1630, 'lit': 1631, 'lamps': 1632, 'locked': 1633, 'solid': 1634, 'belong': 1635, 'curtain': 1636, 'fifteen': 1637, 'lock': 1638, 'fitted': 1639, 'rat': 1640, 'knelt': 1641, 'loveliest': 1642, 'wander': 1643, 'doorway': 1644, 'lately': 1645, 'telescopes': 1646, 'printed': 1647, 'letters': 1648, '‘poison’': 1649, 'not”': 1650, 'histories': 1651, 'burnt': 1652, 'eaten': 1653, 'poker': 1654, 'bleeds': 1655, 'disagree': 1656, 'flavour': 1657, 'cherry': 1658, 'tart': 1659, 'custard': 1660, 'pine': 1661, 'apple': 1662, 'roast': 1663, 'turkey': 1664, 'toffee': 1665, 'buttered': 1666, 'toast': 1667, 'shrink': 1668, 'flame': 1669, 'blown': 1670, 'plainly': 1671, 'climb': 1672, 'slippery': 1673, 'advise': 1674, 'seldom': 1675, 'scolded': 1676, 'cheated': 1677, 'pretending': 1678, 'pretend': 1679, 'respectable': 1680, '“eat': 1681, 'me”': 1682, 'currants': 1683, 'creep': 1684, 'ate': 1685, 'eats': 1686, 'common': 1687, 'ii': 1688, '“curiouser': 1689, 'curiouser': 1690, 'largest': 1691, 'stockings': 1692, 'able': 1693, '—but': 1694, 'christmas': 1695, 'planning': 1696, 'carrier': 1697, 'one’s': 1698, 'odd': 1699, 'esq': 1700, 'hearthrug': 1701, 'fender': 1702, 'hopeless': 1703, 'shedding': 1704, 'gallons': 1705, 'reaching': 1706, 'dried': 1707, 'returning': 1708, 'splendidly': 1709, 'dressed': 1710, 'desperate': 1711, 'sir—”': 1712, 'skurried': 1713, 'darkness': 1714, 'fanning': 1715, '“dear': 1716, 'ah': 1717, 'puzzle': 1718, 'ada': 1719, 'thirteen': 1720, 'is—oh': 1721, 'multiplication': 1722, 'signify': 1723, 'geography': 1724, 'london': 1725, 'rome': 1726, 'rome—no': 1727, '‘how': 1728, 'little—’”': 1729, 'crocodile': 1730, 'improve': 1731, 'shining': 1732, 'pour': 1733, 'waters': 1734, 'nile': 1735, 'scale': 1736, 'cheerfully': 1737, 'welcome': 1738, 'fishes': 1739, 'poky': 1740, 'toys': 1741, '‘who': 1742, 'else’—but': 1743, 'burst': 1744, 'measure': 1745, 'avoid': 1746, 'existence': 1747, 'speed': 1748, 'splash': 1749, 'somehow': 1750, 'seaside': 1751, 'coast': 1752, 'bathing': 1753, 'machines': 1754, 'sand': 1755, 'wooden': 1756, 'spades': 1757, 'lodging': 1758, 'houses': 1759, 'station': 1760, 'wept': 1761, 'punished': 1762, 'drowned': 1763, 'walrus': 1764, 'hippopotamus': 1765, 'harm': 1766, '“o': 1767, 'o': 1768, 'brother’s': 1769, 'latin': 1770, 'grammar': 1771, 'mouse—of': 1772, 'mouse—to': 1773, 'mouse—a': 1774, 'mouse—o': 1775, 'inquisitively': 1776, 'daresay': 1777, '“où': 1778, 'est': 1779, 'chatte': 1780, 'leap': 1781, 'quiver': 1782, 'animal’s': 1783, 'passionate': 1784, 'soothing': 1785, 'lazily': 1786, 'sits': 1787, 'licking': 1788, 'face—and': 1789, 'soft': 1790, 'nurse—and': 1791, 'mice—oh': 1792, 'bristling': 1793, 'family': 1794, 'hated': 1795, 'nasty': 1796, 'vulgar': 1797, 'you—are': 1798, 'fond—of—of': 1799, 'eyed': 1800, 'terrier': 1801, 'curly': 1802, 'things—i': 1803, 'farmer': 1804, 'hundred': 1805, 'pounds': 1806, 'kills': 1807, 'rats': 1808, 'commotion': 1809, 'softly': 1810, '“mouse': 1811, 'hate': 1812, 'iii': 1813, 'bank—the': 1814, 'draggled': 1815, 'feathers': 1816, 'clinging': 1817, 'dripping': 1818, 'consultation': 1819, 'familiarly': 1820, 'known': 1821, 'positively': 1822, 'refused': 1823, 'fixed': 1824, 'cold': 1825, '“ahem': 1826, 'driest': 1827, '‘william': 1828, 'favoured': 1829, 'pope': 1830, 'submitted': 1831, 'leaders': 1832, 'accustomed': 1833, 'usurpation': 1834, 'conquest': 1835, 'edwin': 1836, 'northumbria—’”': 1837, '“ugh': 1838, 'shiver': 1839, '“—i': 1840, '‘edwin': 1841, 'northumbria': 1842, 'declared': 1843, 'stigand': 1844, 'patriotic': 1845, 'canterbury': 1846, 'advisable—’”': 1847, 'crossly': 1848, 'worm': 1849, '“‘—found': 1850, 'advisable': 1851, 'edgar': 1852, 'atheling': 1853, 'william’s': 1854, 'conduct': 1855, 'moderate': 1856, 'insolence': 1857, 'normans—’': 1858, 'rising': 1859, 'meeting': 1860, 'adjourn': 1861, 'immediate': 1862, 'adoption': 1863, 'energetic': 1864, 'remedies—”': 1865, 'bent': 1866, 'hide': 1867, 'tittered': 1868, 'audibly': 1869, '“was': 1870, 'paused': 1871, 'inclined': 1872, 'winter': 1873, 'circle': 1874, 'exact': 1875, 'shape': 1876, 'placed': 1877, 'shakespeare': 1878, 'calling': 1879, '“prizes': 1880, 'despair': 1881, 'pulled': 1882, 'prize': 1883, '“hand': 1884, 'presented': 1885, 'acceptance': 1886, 'elegant': 1887, 'laugh': 1888, 'complained': 1889, 'theirs': 1890, 'ones': 1891, 'patted': 1892, 'begged': 1893, 'promised': 1894, 'hate—c': 1895, 'd': 1896, '“mine': 1897, 'mouse’s': 1898, '“fury': 1899, '‘let': 1900, 'prosecute': 1901, '—come': 1902, 'denial': 1903, 'cur': 1904, '‘such': 1905, 'cunning': 1906, 'condemn': 1907, 'death': 1908, 'fifth': 1909, 'undo': 1910, 'insult': 1911, 'growled': 1912, 'quicker': 1913, 'daughter': 1914, 'lose': 1915, 'snappishly': 1916, 'patience': 1917, 'oyster': 1918, 'addressing': 1919, '“she’d': 1920, 'pet': 1921, '“dinah’s': 1922, 'magpie': 1923, 'wrapping': 1924, 'canary': 1925, 'bed': 1926, 'various': 1927, 'pretexts': 1928, 'spirited': 1929, 'iv': 1930, 'sends': 1931, 'naturedly': 1932, 'seen—everything': 1933, 'completely': 1934, 'pointed': 1935, 'housemaid': 1936, 'he’ll': 1937, 'finds': 1938, 'gloves—that': 1939, 'neat': 1940, 'brass': 1941, '“w': 1942, 'engraved': 1943, 'upstairs': 1944, 'lest': 1945, 'dinah’ll': 1946, 'fancying': 1947, '“‘miss': 1948, '‘coming': 1949, 'tidy': 1950, 'hoped': 1951, 'pairs': 1952, 'nevertheless': 1953, 'uncorked': 1954, 'lips': 1955, '“whenever': 1956, 'expected': 1957, 'pressing': 1958, 'ceiling': 1959, 'save': 1960, 'enough—i': 1961, 'more—as': 1962, 'door—i': 1963, 'kneel': 1964, 'resource': 1965, 'magic': 1966, 'grew': 1967, 'pleasanter': 1968, 'rabbits': 1969, 'hole—and': 1970, 'yet—and': 1971, 'yet—it’s': 1972, 'fairy': 1973, 'tales': 1974, 'one—but': 1975, 'that’ll': 1976, 'comfort': 1977, 'way—never': 1978, 'woman—but': 1979, 'then—always': 1980, 'foolish': 1981, '“mary': 1982, 'inwards': 1983, 'attempt': 1984, 'failure': 1985, 'possible': 1986, 'frame': 1987, 'voice—the': 1988, 'rabbit’s—“pat': 1989, '“digging': 1990, 'pronounced': 1991, '“arrum': 1992, '“an': 1993, 'fills': 1994, 'whispers': 1995, 'coward': 1996, 'shrieks': 1997, 'frames': 1998, 'pulling': 1999, 'rumbling': 2000, 'cartwheels': 2001, '“where’s': 2002, 'ladder': 2003, '—why': 2004, 'other—bill': 2005, 'lad': 2006, '—here': 2007, 'corner—no': 2008, 'tie': 2009, 'first—they': 2010, 'yet—oh': 2011, 'particular—here': 2012, 'rope—will': 2013, '—mind': 2014, 'loose': 2015, 'slate—oh': 2016, '—“now': 2017, '—it': 2018, 'fancy—who’s': 2019, '—nay': 2020, '—that': 2021, '—bill’s': 2022, 'down—here': 2023, '“shy': 2024, 'fireplace': 2025, 'animal': 2026, 'scratching': 2027, 'scrambling': 2028, 'along—“catch': 2029, 'voices—“hold': 2030, 'head—brandy': 2031, 'now—don’t': 2032, 'choke': 2033, 'him—how': 2034, 'know—no': 2035, 'thank': 2036, 'ye': 2037, 'now—but': 2038, 'flustered': 2039, 'you—all': 2040, 'jack': 2041, 'rocket': 2042, 'produced': 2043, 'swallowed': 2044, 'thick': 2045, 'arranged': 2046, 'peering': 2047, 'enormous': 2048, 'feebly': 2049, 'touch': 2050, '“poor': 2051, 'whistle': 2052, 'terribly': 2053, 'spite': 2054, 'whereupon': 2055, 'yelp': 2056, 'rushed': 2057, 'worry': 2058, 'dodged': 2059, 'tumbled': 2060, 'heels': 2061, 'cart': 2062, 'horse': 2063, 'trampled': 2064, 'series': 2065, 'charges': 2066, 'forwards': 2067, 'barking': 2068, 'hoarsely': 2069, 'puppy’s': 2070, 'faint': 2071, 'leant': 2072, 'buttercup': 2073, 'fanned': 2074, 'teaching': 2075, 'tricks': 2076, 'if—if': 2077, 'see—how': 2078, 'blades': 2079, 'circumstances': 2080, 'v': 2081, 'languid': 2082, 'shyly': 2083, '“i—i': 2084, 'present—at': 2085, 'sternly': 2086, 'clearly': 2087, 'sizes': 2088, 'chrysalis—you': 2089, 'know—and': 2090, 'butterfly': 2091, 'irritated': 2092, 'caterpillar’s': 2093, 'state': 2094, 'promising': 2095, '“keep': 2096, 'swallowing': 2097, 'wait': 2098, 'puffed': 2099, 'used—and': 2100, '“can’t': 2101, 'bee': 2102, '“repeat': 2103, 'incessantly': 2104, 'head—': 2105, 'son': 2106, 'feared': 2107, 'injure': 2108, 'brain': 2109, 'uncommonly': 2110, 'fat': 2111, 'door—': 2112, 'sage': 2113, 'grey': 2114, 'limbs': 2115, 'supple': 2116, 'ointment—one': 2117, 'shilling': 2118, 'box—': 2119, 'couple': 2120, 'tougher': 2121, 'suet': 2122, 'bones': 2123, 'beak—': 2124, 'argued': 2125, 'wife': 2126, 'muscular': 2127, 'strength': 2128, 'jaw': 2129, 'steady': 2130, 'balanced': 2131, 'nose—': 2132, 'awfully': 2133, 'airs': 2134, '“some': 2135, 'altered': 2136, 'contradicted': 2137, 'losing': 2138, 'content': 2139, '“three': 2140, 'rearing': 2141, 'upright': 2142, 'piteous': 2143, 'crawled': 2144, 'closely': 2145, 'swallow': 2146, 'morsel': 2147, 'head’s': 2148, 'immense': 2149, 'length': 2150, 'rise': 2151, 'stalk': 2152, 'result': 2153, 'curving': 2154, 'graceful': 2155, 'zigzag': 2156, 'dive': 2157, 'tops': 2158, 'hiss': 2159, 'flown': 2160, 'wings': 2161, 'subdued': 2162, 'sob': 2163, 'banks': 2164, 'hedges': 2165, 'pleasing': 2166, 'hatching': 2167, 'weeks': 2168, 'sorry': 2169, 'annoyed': 2170, 'highest': 2171, 'raising': 2172, 'needs': 2173, 'wriggling': 2174, 'ugh': 2175, 'a—i’m': 2176, 'a—”': 2177, 'invent': 2178, '“i—i’m': 2179, 'deepest': 2180, 'contempt': 2181, 'denying': 2182, 'egg': 2183, 'truthful': 2184, 'adding': 2185, 'raw': 2186, 'nest': 2187, 'crouched': 2188, 'untwist': 2189, 'garden—how': 2190, '“whoever': 2191, '“it’ll': 2192, 'frighten': 2193, 'wits': 2194, 'righthand': 2195, 'vi': 2196, 'wood—': 2197, 'judging': 2198, '—and': 2199, 'rapped': 2200, 'knuckles': 2201, 'footmen': 2202, 'powdered': 2203, 'crept': 2204, 'producing': 2205, '“from': 2206, 'curls': 2207, 'stupidly': 2208, 'knocked': 2209, 'reasons': 2210, 'within—a': 2211, 'kettle': 2212, 'knock': 2213, 'uncivil': 2214, '“his': 2215, '—how': 2216, 'tomorrow—”': 2217, 'skimming': 2218, 'footman’s': 2219, 'grazed': 2220, '“—or': 2221, 'maybe': 2222, 'louder': 2223, 'argue': 2224, 'drive': 2225, 'crazy': 2226, 'variations': 2227, '“on': 2228, '“anything': 2229, 'whistling': 2230, 'desperately': 2231, '“he’s': 2232, 'idiotic': 2233, 'smoke': 2234, 'stool': 2235, 'sneezed': 2236, 'occasionally': 2237, 'alternately': 2238, 'hearth': 2239, 'grinning': 2240, 'manners': 2241, 'grins': 2242, 'violence': 2243, 'fix': 2244, 'within': 2245, 'baby—the': 2246, 'irons': 2247, 'saucepans': 2248, 'blows': 2249, 'agony': 2250, 'terror': 2251, 'precious': 2252, 'unusually': 2253, 'saucepan': 2254, 'flew': 2255, 'minded': 2256, 'axis—”': 2257, '“talking': 2258, 'axes': 2259, '“chop': 2260, 'glanced': 2261, '“twenty': 2262, 'i—”': 2263, 'bother': 2264, 'abide': 2265, 'figures': 2266, 'lullaby': 2267, 'shake': 2268, 'roughly': 2269, 'annoy': 2270, 'teases': 2271, 'howled': 2272, 'enjoy': 2273, 'pleases': 2274, 'flinging': 2275, 'frying': 2276, 'pan': 2277, 'star': 2278, 'snorting': 2279, 'steam': 2280, 'engine': 2281, 'doubling': 2282, 'straightening': 2283, 'tight': 2284, 'prevent': 2285, 'undoing': 2286, 'kill': 2287, 'murder': 2288, 'grunt': 2289, 'expressing': 2290, 'snout': 2291, 'extremely': 2292, 'seriously': 2293, 'sobbed': 2294, 'carry': 2295, 'relieved': 2296, 'trot': 2297, 'handsome': 2298, 'them—”': 2299, 'seeing': 2300, 'bough': 2301, 'yards': 2302, 'natured': 2303, 'teeth': 2304, 'treated': 2305, 'respect': 2306, '“cheshire': 2307, 'puss': 2308, 'wider': 2309, 'depends': 2310, 'where—”': 2311, 'visit': 2312, '“we’re': 2313, 'dog’s': 2314, 'grant': 2315, 'growls': 2316, 'wags': 2317, 'wag': 2318, 'therefore': 2319, 'growling': 2320, 'happening': 2321, '“by': 2322, 'hatters': 2323, 'mad—at': 2324, 'branch': 2325, 'fig': 2326, 'appearing': 2327, 'vanishing': 2328, 'farther': 2329, 'chimneys': 2330, 'thatched': 2331, 'towards': 2332, 'vii': 2333, 'elbows': 2334, 'chair': 2335, 'cutting': 2336, 'severity': 2337, 'raven': 2338, 'desk': 2339, 'they’ve': 2340, '—i': 2341, 'least—at': 2342, 'say—that’s': 2343, 'eat’': 2344, 'see’': 2345, 'get’': 2346, 'like’': 2347, 'sleep’': 2348, 'breathe’': 2349, 'ravens': 2350, 'desks': 2351, 'fourth': 2352, 'works': 2353, 'grumbled': 2354, 'gloomily': 2355, 'readily': 2356, 'stays': 2357, 'hatter’s': 2358, 'poured': 2359, 'riddle': 2360, 'slightest': 2361, '“nor': 2362, 'wearily': 2363, '“than': 2364, 'waste': 2365, 'answers': 2366, 'accounts': 2367, 'terms': 2368, 'he’d': 2369, 'then—i': 2370, 'mournfully': 2371, 'quarrelled': 2372, 'march—just': 2373, '“—it': 2374, 'given': 2375, '‘twinkle': 2376, '‘up': 2377, 'tray': 2378, 'twinkle—’”': 2379, '“twinkle': 2380, 'twinkle—”': 2381, 'bawled': 2382, '‘he’s': 2383, 'murdering': 2384, 'mournful': 2385, 'whiles': 2386, 'vote': 2387, 'alarmed': 2388, 'proposal': 2389, 'fellows': 2390, 'sisters': 2391, 'elsie': 2392, 'lacie': 2393, 'tillie': 2394, 'well—”': 2395, 'interest': 2396, 'eating': 2397, 'drinking': 2398, '“they’d': 2399, 'ways': 2400, 'living': 2401, 'opinion': 2402, '“who’s': 2403, 'helped': 2404, '“sh': 2405, 'sh': 2406, 'interrupt': 2407, 'consented': 2408, 'sisters—they': 2409, 'promise': 2410, 'clean': 2411, 'dormouse’s': 2412, 'unwillingly': 2413, 'jug': 2414, 'offend': 2415, 'well—eh': 2416, 'choosing': 2417, '“—well': 2418, 'things—everything': 2419, 'doze': 2420, 'woke': 2421, '“—that': 2422, 'traps': 2423, 'moon': 2424, 'memory': 2425, 'muchness—you': 2426, '“much': 2427, 'muchness”—did': 2428, 'drawing': 2429, 'muchness': 2430, 'rudeness': 2431, 'disgust': 2432, 'teapot': 2433, 'stupidest': 2434, 'leading': 2435, 'everything’s': 2436, 'today': 2437, 'unlocking': 2438, 'then—she': 2439, 'viii': 2440, 'entrance': 2441, '“look': 2442, 'paint': 2443, '“seven': 2444, 'jogged': 2445, 'blame': 2446, 'deserved': 2447, 'spoken': 2448, 'him—it': 2449, 'tulip': 2450, 'onions': 2451, 'flung': 2452, 'brush': 2453, 'unjust': 2454, 'things—”': 2455, 'chanced': 2456, 'we’re': 2457, 'afore': 2458, 'to—”': 2459, 'clubs': 2460, 'oblong': 2461, 'corners': 2462, 'diamonds': 2463, 'merrily': 2464, 'couples': 2465, 'kings': 2466, 'queens': 2467, 'recognised': 2468, 'noticing': 2469, 'velvet': 2470, 'processions': 2471, 'opposite': 2472, '“idiot': 2473, 'pattern': 2474, 'backs': 2475, 'glaring': 2476, 'beast': 2477, 'off—”': 2478, '“nonsense': 2479, 'bowing': 2480, '“may': 2481, 'humble': 2482, 'trying—”': 2483, 'meanwhile': 2484, 'examining': 2485, 'remaining': 2486, 'execute': 2487, 'protection': 2488, 'pot': 2489, 'marched': 2490, '“their': 2491, '“can': 2492, 'evidently': 2493, 'roared': 2494, '“it’s—it’s': 2495, 'peeping': 2496, '“—where’s': 2497, '“hush': 2498, 'boxed': 2499, 'ears—”': 2500, 'laughter': 2501, 'places': 2502, 'thunder': 2503, 'ridges': 2504, 'furrows': 2505, 'balls': 2506, 'mallets': 2507, 'flamingoes': 2508, 'double': 2509, 'chief': 2510, 'managing': 2511, 'comfortably': 2512, 'straightened': 2513, 'expression': 2514, 'bursting': 2515, 'provoking': 2516, 'act': 2517, 'crawling': 2518, 'ridge': 2519, 'furrow': 2520, 'send': 2521, 'doubled': 2522, 'parts': 2523, 'played': 2524, 'fighting': 2525, 'furious': 2526, 'uneasy': 2527, 'beheading': 2528, 'appearance': 2529, 'nodded': 2530, 'account': 2531, 'someone': 2532, 'fairly': 2533, 'complaining': 2534, 'quarrel': 2535, 'oneself': 2536, 'speak—and': 2537, 'attends': 2538, 'arch': 2539, 'ground—and': 2540, 'croqueted': 2541, 'extremely—”': 2542, '“—likely': 2543, 'win': 2544, 'finishing': 2545, 'mine—a': 2546, '“allow': 2547, '“however': 2548, 'kiss': 2549, 'likes': 2550, 'impertinent': 2551, 'passing': 2552, 'settling': 2553, 'difficulties': 2554, 'screaming': 2555, 'search': 2556, 'engaged': 2557, 'croqueting': 2558, 'helpless': 2559, 'appealed': 2560, 'settle': 2561, 'arguments': 2562, 'executioner’s': 2563, 'unless': 2564, 'weren’t': 2565, 'she’d': 2566, 'prison': 2567, 'arrow': 2568, 'fading': 2569, 'ix': 2570, 'affectionately': 2571, 'pleasant': 2572, 'hopeful': 2573, 'without—maybe': 2574, 'vinegar': 2575, 'sour—and': 2576, 'camomile': 2577, 'bitter—and—and': 2578, 'barley': 2579, 'sweet': 2580, 'stingy': 2581, '“tut': 2582, 'tut': 2583, '“everything’s': 2584, 'squeezed': 2585, 'closer': 2586, 'uncomfortably': 2587, 'bore': 2588, 'game’s': 2589, 'is—‘oh': 2590, '“somebody': 2591, 'minding': 2592, 'is—‘take': 2593, 'morals': 2594, 'waist': 2595, '“flamingoes': 2596, 'is—‘birds': 2597, 'feather': 2598, 'flock': 2599, '“right': 2600, 'mineral': 2601, 'is—‘the': 2602, 'attended': 2603, 'vegetable': 2604, 'is—‘be': 2605, 'be’—or': 2606, 'simply—‘never': 2607, '“pray': 2608, 'cheap': 2609, 'birthday': 2610, '“thinking': 2611, 'dig': 2612, 'worried': 2613, 'died': 2614, 'favourite': 2615, '‘moral': 2616, 'linked': 2617, 'tremble': 2618, 'thunderstorm': 2619, 'fair': 2620, 'warning': 2621, '“either': 2622, 'absence': 2623, 'shade': 2624, 'delay': 2625, 'cost': 2626, 'whom': 2627, 'sentenced': 2628, 'company': 2629, 'pardoned': 2630, 'picture': 2631, '“up': 2632, 'lazy': 2633, 'leaving': 2634, 'rubbed': 2635, 'chuckled': 2636, 'executes': 2637, 'ledge': 2638, 'rock': 2639, 'pitied': 2640, 'hollow': 2641, 'occasional': 2642, 'exclamation': 2643, '“hjckrrh': 2644, 'calmly': 2645, 'turtle—we': 2646, 'tortoise—”': 2647, 'sink': 2648, '“drive': 2649, 'mayn’t': 2650, 'it—”': 2651, 'educations—in': 2652, 'day—”': 2653, '“with': 2654, 'extras': 2655, 'learned': 2656, '“certainly': 2657, 'ours': 2658, '‘french': 2659, 'washing—extra': 2660, '“living': 2661, 'afford': 2662, 'inquired': 2663, '“reeling': 2664, 'writhing': 2665, 'arithmetic—ambition': 2666, 'distraction': 2667, 'uglification': 2668, 'derision': 2669, '‘uglification': 2670, 'lifted': 2671, 'uglifying': 2672, 'beautify': 2673, 'means—to—make—anything—prettier': 2674, 'uglify': 2675, 'simpleton': 2676, 'encouraged': 2677, 'mystery': 2678, 'counting': 2679, 'subjects': 2680, 'flappers': 2681, '“—mystery': 2682, 'ancient': 2683, 'modern': 2684, 'seaography': 2685, 'drawling—the': 2686, 'conger': 2687, 'fainting': 2688, 'coils': 2689, 'stiff': 2690, '“hadn’t': 2691, 'classics': 2692, 'grief': 2693, 'hid': 2694, '“ten': 2695, '“nine': 2696, 'lessen': 2697, 'eleventh': 2698, 'holiday': 2699, 'twelfth': 2700, 'games': 2701, 'x': 2702, 'flapper': 2703, '“same': 2704, 'bone': 2705, 'punching': 2706, 'cheeks': 2707, 'sea—”': 2708, '—“and': 2709, 'introduced': 2710, 'lobster—”': 2711, 'tasted—”': 2712, 'never”': 2713, 'form': 2714, 'shore—”': 2715, 'lines': 2716, '“seals': 2717, 'salmon': 2718, 'cleared': 2719, 'jelly': 2720, 'way—”': 2721, '“—you': 2722, 'twice—”': 2723, '“each': 2724, 'partner': 2725, '“advance': 2726, 'partners—”': 2727, '“—change': 2728, 'retire': 2729, 'the—”': 2730, 'bound': 2731, '“—as': 2732, 'can—”': 2733, '“swim': 2734, 'capering': 2735, '“change': 2736, 'yelled': 2737, '“back': 2738, 'land': 2739, 'dropping': 2740, 'pretty': 2741, 'forepaws': 2742, '“will': 2743, 'he’s': 2744, 'shingle—will': 2745, '“too': 2746, 'askance—': 2747, 'thanked': 2748, 'scaly': 2749, 'england': 2750, 'france—': 2751, 'beloved': 2752, '“they—you’ve': 2753, 'dinn—”': 2754, 'dinn': 2755, 'mouths—and': 2756, '“crumbs': 2757, 'is—”': 2758, '—“tell': 2759, 'thrown': 2760, 'shiny': 2761, 'blacking': 2762, '“boots': 2763, '“soles': 2764, 'eels': 2765, '“any': 2766, 'shrimp': 2767, '‘keep': 2768, 'anywhere': 2769, '“wouldn’t': 2770, 'journey': 2771, '‘with': 2772, '‘purpose’': 2773, 'adventures—beginning': 2774, 'impatient': 2775, '“explanations': 2776, 'gained': 2777, 'listeners': 2778, '“stand': 2779, '‘’tis': 2780, 'sluggard': 2781, 'baked': 2782, 'eyelids': 2783, 'trims': 2784, 'belt': 2785, 'buttons': 2786, 'sands': 2787, 'gay': 2788, 'lark': 2789, 'contemptuous': 2790, 'shark': 2791, 'tide': 2792, 'rises': 2793, 'sharks': 2794, 'tremulous': 2795, 'uncommon': 2796, 'explained': 2797, 'disobey': 2798, 'sharing': 2799, 'pie—”': 2800, 'crust': 2801, 'gravy': 2802, 'meat': 2803, 'share': 2804, 'treat': 2805, 'boon': 2806, 'permitted': 2807, 'received': 2808, 'fork': 2809, 'banquet—': 2810, '“hm': 2811, 'accounting': 2812, 'tastes': 2813, '‘turtle': 2814, 'rich': 2815, 'tureen': 2816, 'dainties': 2817, 'p': 2818, 'ennyworth': 2819, 'pennyworth': 2820, 'beauti—ful': 2821, '“chorus': 2822, 'panted': 2823, 'faintly': 2824, 'breeze': 2825, '“soo—oop': 2826, 'xi': 2827, 'seated': 2828, 'throne': 2829, 'arrived': 2830, 'them—all': 2831, 'standing': 2832, 'chains': 2833, 'soldier': 2834, 'guard': 2835, 'them—“i': 2836, 'refreshments': 2837, 'pass': 2838, 'justice': 2839, 'wore': 2840, 'frontispiece': 2841, 'comfortable': 2842, 'becoming': 2843, '“creatures': 2844, 'rightly': 2845, '“jury': 2846, 'men”': 2847, 'indignant': 2848, 'spell': 2849, 'neighbour': 2850, 'muddle': 2851, 'slates’ll': 2852, 'squeaked': 2853, 'juror': 2854, '“herald': 2855, 'accusation': 2856, '“first': 2857, '“fourteenth': 2858, '“fifteenth': 2859, '“sixteenth': 2860, '“write': 2861, 'dates': 2862, 'reduced': 2863, 'shillings': 2864, 'pence': 2865, 'hat': 2866, '“stolen': 2867, 'memorandum': 2868, 'fidgeted': 2869, 'spot': 2870, 'encourage': 2871, 'shifting': 2872, 'remain': 2873, 'squeeze': 2874, '“you’ve': 2875, 'boldly': 2876, 'reasonable': 2877, 'pace': 2878, 'ridiculous': 2879, '“bring': 2880, 'tea—not': 2881, 'so—and': 2882, 'thin—and': 2883, 'tea—”': 2884, 't': 2885, 'dunce': 2886, 'twinkled': 2887, 'that—only': 2888, 'denies': 2889, 'butter—”': 2890, 'speaker': 2891, 'canvas': 2892, 'bag': 2893, 'tied': 2894, 'strings': 2895, 'newspapers': 2896, 'trials': 2897, 'attempts': 2898, 'applause': 2899, 'understood': 2900, 'lower': 2901, 'officer': 2902, '“shan’t': 2903, 'folding': 2904, '“pepper': 2905, '“collar': 2906, 'shrieked': 2907, '“behead': 2908, 'suppress': 2909, 'ache': 2910, 'fumbled': 2911, '“—for': 2912, '“alice': 2913, 'xii': 2914, 'flurry': 2915, 'tipped': 2916, 'skirt': 2917, 'upsetting': 2918, 'sprawling': 2919, 'reminding': 2920, 'globe': 2921, 'accidentally': 2922, 'dismay': 2923, 'vague': 2924, 'die': 2925, 'cannot': 2926, '“until': 2927, 'places—all': 2928, 'emphasis': 2929, 'haste': 2930, 'downwards': 2931, 'unable': 2932, 'signifies': 2933, 'shock': 2934, 'pencils': 2935, 'diligently': 2936, 'overcome': 2937, 'gazing': 2938, 'respectful': 2939, '“important—unimportant—unimportant—important—”': 2940, '“important': 2941, 'cackled': 2942, '“rule': 2943, 'forty': 2944, 'persons': 2945, '“nearly': 2946, '“besides': 2947, 'invented': 2948, 'oldest': 2949, 'prisoner': 2950, 'to—to': 2951, '“unless': 2952, 'prisoner’s': 2953, 'handwriting': 2954, 'queerest': 2955, 'imitated': 2956, 'else’s': 2957, 'prove': 2958, 'sign': 2959, 'mischief': 2960, 'honest': 2961, 'clapping': 2962, 'guilt': 2963, '“read': 2964, '“where': 2965, '“begin': 2966, 'character': 2967, 'push': 2968, 'involved': 2969, 'affair': 2970, 'trusts': 2971, 'obstacle': 2972, 'ourselves': 2973, 'secret': 2974, 'jury—”': 2975, 'sixpence': 2976, 'attempted': 2977, 'saves': 2978, 'spreading': 2979, '“—said': 2980, 'swim—”': 2981, 'cardboard': 2982, '“‘we': 2983, 'true—’': 2984, 'course—‘i': 2985, 'two—’': 2986, '‘they': 2987, 'clearer': 2988, 'again—‘before': 2989, 'fit—’': 2990, 'fits': 2991, 'furiously': 2992, 'inkstand': 2993, 'ink': 2994, 'trickling': 2995, 'pun': 2996, 'consider': 2997, 'twentieth': 2998, '“sentence': 2999, 'first—verdict': 3000, '“stuff': 3001, 'purple': 3002, 'flying': 3003, 'brushing': 3004, 'fluttered': 3005, 'kissed': 3006, 'setting': 3007, 'dreaming': 3008, 'dreamed': 3009, 'clasped': 3010, 'hers—she': 3011, 'toss': 3012, 'eyes—and': 3013, 'listened': 3014, 'sister’s': 3015, 'rustled': 3016, 'by—the': 3017, 'splashed': 3018, 'neighbouring': 3019, 'pool—she': 3020, 'rattle': 3021, 'shared': 3022, 'meal': 3023, 'execution—once': 3024, 'crashed': 3025, 'it—once': 3026, 'lizard’s': 3027, 'choking': 3028, 'believed': 3029, 'reality—the': 3030, 'rustling': 3031, 'rippling': 3032, 'reeds—the': 3033, 'tinkling': 3034, 'sheep': 3035, 'bells': 3036, 'cries': 3037, 'shepherd': 3038, 'boy—and': 3039, 'noises': 3040, 'clamour': 3041, 'farm': 3042, 'yard—while': 3043, 'lowing': 3044, 'cattle': 3045, 'lastly': 3046, 'pictured': 3047, 'woman': 3048, 'riper': 3049, 'years': 3050, 'loving': 3051, 'childhood': 3052, 'gather': 3053, 'sorrows': 3054, 'joys': 3055, 'remembering': 3056, 'happy': 3057}\n"
          ],
          "name": "stdout"
        }
      ]
    },
    {
      "cell_type": "code",
      "metadata": {
        "id": "ykfI4FrwdyJe",
        "outputId": "4987aabd-20b3-40c8-fe10-4f9dc403bfaa",
        "colab": {
          "base_uri": "https://localhost:8080/"
        }
      },
      "source": [
        "dataX = []\n",
        "dataY = []\n",
        "\n",
        "for i in range(0, len(tokens) - seq_length-1 , 1):\n",
        "  seq_in = tokens[i:i + seq_length]\n",
        "  seq_out = tokens[i + seq_length]\n",
        "\n",
        "  if seq_out==1: #Skip samples where target word is OOV\n",
        "    continue\n",
        "    \n",
        "  dataX.append(seq_in)\n",
        "  dataY.append(seq_out)\n",
        " \n",
        "N = len(dataX)\n",
        "print (\"Total training data size: \", N)"
      ],
      "execution_count": 9,
      "outputs": [
        {
          "output_type": "stream",
          "text": [
            "Total training data size:  27081\n"
          ],
          "name": "stdout"
        }
      ]
    },
    {
      "cell_type": "code",
      "metadata": {
        "id": "cJmGr1xId8cO"
      },
      "source": [
        "X = numpy.array(dataX)\n",
        "\n",
        "# one hot encode the output variable\n",
        "y = numpy.array(dataY)\n",
        "y = np_utils.to_categorical(dataY)"
      ],
      "execution_count": 10,
      "outputs": []
    },
    {
      "cell_type": "code",
      "metadata": {
        "id": "8QPApRA-d9JV",
        "outputId": "c8ce3b7b-2bd7-4969-ab90-9709797767d6",
        "colab": {
          "base_uri": "https://localhost:8080/"
        }
      },
      "source": [
        "# with embedding\n",
        "model = keras.Sequential([\n",
        "    keras.layers.Embedding(vocab_size, embedding_dim, input_length=seq_length),\n",
        "    keras.layers.Bidirectional(keras.layers.LSTM(64)),\n",
        "    keras.layers.Dense(vocab_size, activation='softmax')\n",
        "])\n",
        "# compile model\n",
        "model.compile(loss='categorical_crossentropy',\n",
        "              optimizer='adam',\n",
        "              metrics=['accuracy'])\n",
        "\n",
        "# model summary\n",
        "model.summary()"
      ],
      "execution_count": 11,
      "outputs": [
        {
          "output_type": "stream",
          "text": [
            "Model: \"sequential\"\n",
            "_________________________________________________________________\n",
            "Layer (type)                 Output Shape              Param #   \n",
            "=================================================================\n",
            "embedding (Embedding)        (None, 50, 100)           257000    \n",
            "_________________________________________________________________\n",
            "bidirectional (Bidirectional (None, 128)               84480     \n",
            "_________________________________________________________________\n",
            "dense (Dense)                (None, 2570)              331530    \n",
            "=================================================================\n",
            "Total params: 673,010\n",
            "Trainable params: 673,010\n",
            "Non-trainable params: 0\n",
            "_________________________________________________________________\n"
          ],
          "name": "stdout"
        }
      ]
    },
    {
      "cell_type": "code",
      "metadata": {
        "id": "lKCK2jLAglBh"
      },
      "source": [
        "from keras import callbacks \n",
        "earlystopping = callbacks.EarlyStopping(monitor =\"val_loss\",  \n",
        "                                        mode =\"min\", patience = 5,  \n",
        "                                        restore_best_weights = True) "
      ],
      "execution_count": 12,
      "outputs": []
    },
    {
      "cell_type": "code",
      "metadata": {
        "id": "14ClAAYpeCVO",
        "outputId": "d97a576b-c23f-4bc2-c765-e22744edd499",
        "colab": {
          "base_uri": "https://localhost:8080/"
        }
      },
      "source": [
        "# Use validation split of 0.2 while training\n",
        "model.fit(X, y, epochs=25, batch_size=128,  validation_split=0.2,callbacks =[earlystopping]) "
      ],
      "execution_count": 13,
      "outputs": [
        {
          "output_type": "stream",
          "text": [
            "Epoch 1/25\n",
            "170/170 [==============================] - 3s 20ms/step - loss: 6.4390 - accuracy: 0.0497 - val_loss: 6.0122 - val_accuracy: 0.0833\n",
            "Epoch 2/25\n",
            "170/170 [==============================] - 3s 15ms/step - loss: 5.9814 - accuracy: 0.0535 - val_loss: 5.9149 - val_accuracy: 0.0840\n",
            "Epoch 3/25\n",
            "170/170 [==============================] - 3s 15ms/step - loss: 5.8647 - accuracy: 0.0563 - val_loss: 5.8705 - val_accuracy: 0.0951\n",
            "Epoch 4/25\n",
            "170/170 [==============================] - 3s 15ms/step - loss: 5.7375 - accuracy: 0.0704 - val_loss: 5.7840 - val_accuracy: 0.1078\n",
            "Epoch 5/25\n",
            "170/170 [==============================] - 3s 15ms/step - loss: 5.5834 - accuracy: 0.0933 - val_loss: 5.7035 - val_accuracy: 0.1198\n",
            "Epoch 6/25\n",
            "170/170 [==============================] - 3s 15ms/step - loss: 5.4428 - accuracy: 0.1041 - val_loss: 5.6660 - val_accuracy: 0.1241\n",
            "Epoch 7/25\n",
            "170/170 [==============================] - 3s 15ms/step - loss: 5.3105 - accuracy: 0.1148 - val_loss: 5.6140 - val_accuracy: 0.1325\n",
            "Epoch 8/25\n",
            "170/170 [==============================] - 3s 15ms/step - loss: 5.1760 - accuracy: 0.1258 - val_loss: 5.5680 - val_accuracy: 0.1377\n",
            "Epoch 9/25\n",
            "170/170 [==============================] - 3s 15ms/step - loss: 5.0472 - accuracy: 0.1403 - val_loss: 5.5391 - val_accuracy: 0.1425\n",
            "Epoch 10/25\n",
            "170/170 [==============================] - 3s 15ms/step - loss: 4.9231 - accuracy: 0.1510 - val_loss: 5.5105 - val_accuracy: 0.1482\n",
            "Epoch 11/25\n",
            "170/170 [==============================] - 3s 15ms/step - loss: 4.8062 - accuracy: 0.1615 - val_loss: 5.5043 - val_accuracy: 0.1481\n",
            "Epoch 12/25\n",
            "170/170 [==============================] - 3s 16ms/step - loss: 4.6936 - accuracy: 0.1707 - val_loss: 5.4931 - val_accuracy: 0.1510\n",
            "Epoch 13/25\n",
            "170/170 [==============================] - 3s 15ms/step - loss: 4.5805 - accuracy: 0.1804 - val_loss: 5.5009 - val_accuracy: 0.1501\n",
            "Epoch 14/25\n",
            "170/170 [==============================] - 3s 15ms/step - loss: 4.4686 - accuracy: 0.1867 - val_loss: 5.5071 - val_accuracy: 0.1510\n",
            "Epoch 15/25\n",
            "170/170 [==============================] - 3s 15ms/step - loss: 4.3575 - accuracy: 0.1965 - val_loss: 5.5172 - val_accuracy: 0.1525\n",
            "Epoch 16/25\n",
            "170/170 [==============================] - 3s 15ms/step - loss: 4.2496 - accuracy: 0.2020 - val_loss: 5.5269 - val_accuracy: 0.1532\n",
            "Epoch 17/25\n",
            "170/170 [==============================] - 3s 15ms/step - loss: 4.1443 - accuracy: 0.2100 - val_loss: 5.5364 - val_accuracy: 0.1565\n"
          ],
          "name": "stdout"
        },
        {
          "output_type": "execute_result",
          "data": {
            "text/plain": [
              "<tensorflow.python.keras.callbacks.History at 0x7fc278007ef0>"
            ]
          },
          "metadata": {
            "tags": []
          },
          "execution_count": 13
        }
      ]
    },
    {
      "cell_type": "code",
      "metadata": {
        "id": "mg9WSEwYeMAH"
      },
      "source": [
        "word_map=tokenizer.word_index\n",
        "reverse_word_map = {v:k for k,v in word_map.items()} ## Create word to idx map using tokenizer.word_index"
      ],
      "execution_count": 14,
      "outputs": []
    },
    {
      "cell_type": "code",
      "metadata": {
        "id": "P0lkrNdPm7Ng",
        "outputId": "66757b19-7e44-4ced-f56a-d5d673468712",
        "colab": {
          "base_uri": "https://localhost:8080/"
        }
      },
      "source": [
        "print(reverse_word_map)"
      ],
      "execution_count": 15,
      "outputs": [
        {
          "output_type": "stream",
          "text": [
            "{1: '<OOV>', 2: 'the', 3: '”', 4: 'and', 5: 'to', 6: 'a', 7: 'she', 8: 'of', 9: 'it', 10: 'said', 11: 'alice', 12: 'in', 13: 'was', 14: 'you', 15: 'i', 16: 'that', 17: 'as', 18: 'her', 19: 'at', 20: 'on', 21: 'with', 22: 'had', 23: 'all', 24: 'be', 25: 'for', 26: 'so', 27: 'very', 28: 'not', 29: 'this', 30: 'little', 31: 'but', 32: '“i', 33: 'out', 34: 'they', 35: 'he', 36: 'down', 37: 'what', 38: 'up', 39: 'is', 40: 'one', 41: 'his', 42: 'about', 43: 'were', 44: 'like', 45: 'went', 46: 'herself', 47: 'them', 48: 'again', 49: 'know', 50: 'then', 51: 'would', 52: 'could', 53: 'have', 54: 'no', 55: 'thought', 56: 'when', 57: 'if', 58: 'do', 59: 'time', 60: 'or', 61: 'there', 62: 'queen', 63: 'into', 64: 'me', 65: 'see', 66: 'off', 67: 'king', 68: 'your', 69: 'did', 70: 'began', 71: 'its', 72: 'by', 73: 'an', 74: 'my', 75: 'mock', 76: '“and', 77: 'quite', 78: 'hatter', 79: 'turtle', 80: 'gryphon', 81: 'way', 82: 'who', 83: 'don’t', 84: 'their', 85: 'think', 86: 'much', 87: 'say', 88: 'some', 89: 'thing', 90: 'just', 91: 'first', 92: 'go', 93: 'now', 94: 'more', 95: 'rabbit', 96: 'head', 97: 'voice', 98: 'how', 99: 'are', 100: 'looked', 101: 'here', 102: 'which', 103: 'got', 104: 'only', 105: 'must', 106: 'get', 107: 'never', 108: '“you', 109: 'after', 110: 'round', 111: 'him', 112: 'over', 113: 'such', 114: 'came', 115: 'tone', 116: 'great', 117: 'other', 118: '“but', 119: 'duchess', 120: 'dormouse', 121: 'mouse', 122: 'been', 123: 'any', 124: 'back', 125: 'well', 126: 'before', 127: 'i’m', 128: 'two', 129: '“what', 130: 'from', 131: 'cat', 132: 'large', 133: 'can', 134: 'last', 135: 'march', 136: 'long', 137: 'looking', 138: 'put', 139: 'right', 140: 'it’s', 141: 'hare', 142: 'nothing', 143: 'once', 144: 'made', 145: 'white', 146: 'next', 147: '“it', 148: 'will', 149: 'heard', 150: 'moment', 151: 'found', 152: 'tell', 153: 'replied', 154: 'day', 155: 'eyes', 156: 'dear', 157: 'look', 158: 'come', 159: 'things', 160: 'might', 161: 'door', 162: 'seemed', 163: 'going', 164: 'good', 165: 'should', 166: 'three', 167: 'can’t', 168: 'caterpillar', 169: 'make', 170: 'upon', 171: 'poor', 172: 'too', 173: 'rather', 174: 'soon', 175: 'away', 176: 'course', 177: 'took', 178: 'without', 179: 'i’ll', 180: 'while', 181: 'won’t', 182: '“oh', 183: 'shall', 184: '“well', 185: 'felt', 186: 'than', 187: 'half', 188: 'same', 189: '“it’s', 190: 'added', 191: 'getting', 192: 'another', 193: 'ever', 194: 'yet', 195: '“why', 196: 'words', 197: 'wish', 198: 'find', 199: 'minute', 200: '“if', 201: '“the', 202: 'i’ve', 203: 'sort', 204: 'hand', 205: 'cried', 206: 'sure', 207: '“i’m', 208: 'jury', 209: 'feet', 210: 'take', 211: 'tried', 212: 'however', 213: 'curious', 214: 'being', 215: 'till', 216: 'old', 217: 'use', 218: 'wonder', 219: 'anything', 220: 'even', 221: 'house', 222: 'end', 223: 'table', 224: 'something', 225: 'soup', 226: 'court', 227: 'why', 228: 'that’s', 229: 'you’re', 230: 'tea', 231: 'question', 232: 'side', 233: 'sat', 234: 'enough', 235: '“how', 236: 'we', 237: 'asked', 238: 'ran', 239: 'under', 240: 'talking', 241: 'eat', 242: 'bit', 243: 'turned', 244: 'high', 245: 'indeed', 246: 'there’s', 247: 'hastily', 248: 'doesn’t', 249: 'spoke', 250: '’”', 251: '“that’s', 252: 'oh', 253: 'near', 254: 'idea', 255: 'please', 256: 'air', 257: 'saying', 258: 'low', 259: 'garden', 260: 'knew', 261: '“come', 262: 'gave', 263: 'am', 264: '—', 265: 'done', 266: '“that', 267: 'called', 268: 'arm', 269: 'hear', 270: 'itself', 271: 'ought', 272: 'seen', 273: 'saw', 274: 'through', 275: 'didn’t', 276: 'perhaps', 277: 'remember', 278: 'face', 279: 'left', 280: 'anxiously', 281: 'set', 282: 'these', 283: 'talk', 284: 'us', 285: 'better', 286: 'both', 287: '“i’ve', 288: 'mad', 289: 'beginning', 290: 'suddenly', 291: 'close', 292: 'let', 293: 'still', 294: 'people', 295: 'cats', 296: 'behind', 297: 'trying', 298: 'certainly', 299: '“no', 300: 'size', 301: 'grow', 302: 'far', 303: 'kept', 304: 'sea', 305: 'dodo', 306: 'whole', 307: 'room', 308: 'gone', 309: 'footman', 310: 'baby', 311: 'cook', 312: 'dance', 313: 'chapter', 314: 'wouldn’t', 315: 'many', 316: 'among', 317: 'afraid', 318: 'every', 319: 'begin', 320: 'because', 321: 'finished', 322: 'best', 323: 'game', 324: 'hardly', 325: 'life', 326: 'speak', 327: 'deal', 328: 'queer', 329: 'try', 330: 'used', 331: 'hands', 332: 'change', 333: 'suppose', 334: 'always', 335: 'silence', 336: '“of', 337: 'turning', 338: '“yes', 339: 'bill', 340: '“then', 341: 'may', 342: 'pigeon', 343: 'majesty', 344: 'book', 345: 'whether', 346: 'hurried', 347: 'though', 348: 'glad', 349: 'ask', 350: 'dinah', 351: 'alice’s', 352: 'hurry', 353: 'waited', 354: 'minutes', 355: 'tears', 356: 'child', 357: 'makes', 358: 'growing', 359: '“a', 360: '’', 361: '“not', 362: '“we', 363: 'where', 364: 'wasn’t', 365: 'beautiful', 366: 'pig', 367: 'sitting', 368: 'having', 369: 'own', 370: 'mind', 371: 'lessons', 372: 'heads', 373: 'word', 374: 'name', 375: 'else', 376: 'sight', 377: 'walked', 378: 'glass', 379: 'small', 380: 'opened', 381: 'those', 382: 'really', 383: 'bottle', 384: 'read', 385: 'children', 386: 'pool', 387: 'foot', 388: 'yourself', 389: 'gloves', 390: 'fan', 391: 'everything', 392: 'thinking', 393: 'nearly', 394: 'offended', 395: 'party', 396: 'rest', 397: 'mean', 398: 'mouth', 399: 'repeated', 400: 'they’re', 401: 'remarked', 402: 'remark', 403: 'soldiers', 404: 'witness', 405: 'either', 406: 'couldn’t', 407: 'answer', 408: 'matter', 409: '“now', 410: 'hall', 411: 'key', 412: 'rate', 413: 'few', 414: 'waiting', 415: 'box', 416: 'croquet', 417: 'against', 418: 'want', 419: 'give', 420: '“they', 421: 'help', 422: 'different', 423: 'tail', 424: 'conversation', 425: 'birds', 426: 'creatures', 427: 'continued', 428: 'believe', 429: 'angrily', 430: 'shook', 431: 'reason', 432: 'together', 433: 'shouted', 434: 'keep', 435: 'turn', 436: 'timidly', 437: 'puzzled', 438: 'tree', 439: 'interrupted', 440: 'knave', 441: 'join', 442: 'sister', 443: 'feel', 444: 'making', 445: 'watch', 446: 'slowly', 447: 'happen', 448: 'coming', 449: 'noticed', 450: 'top', 451: 'four', 452: 'opportunity', 453: 'seem', 454: '“do', 455: 'dry', 456: 'bright', 457: 'fact', 458: '“in', 459: 'followed', 460: 'lying', 461: 'work', 462: 'ready', 463: 'hard', 464: 'changed', 465: 'mine', 466: 'five', 467: 'live', 468: 'play', 469: 'beg', 470: 'our', 471: 'you’d', 472: 'eagerly', 473: 'meaning', 474: 'explain', 475: 'running', 476: 'story', 477: 'window', 478: 'least', 479: 'place', 480: 'appeared', 481: 'mushroom', 482: 'haven’t', 483: 'most', 484: 'fish', 485: '“there’s', 486: 'asleep', 487: 'butter', 488: 'hearts', 489: 'gardeners', 490: '“off', 491: 'whiting', 492: 'tired', 493: 'hot', 494: 'pocket', 495: 'world', 496: 'deep', 497: 'fall', 498: 'listen', 499: 'it’ll', 500: 'manage', 501: 'begun', 502: 'dream', 503: 'middle', 504: 'wondering', 505: 'golden', 506: 'open', 507: 'larger', 508: 'happened', 509: 'neck', 510: 'feeling', 511: '“for', 512: 'leave', 513: 'generally', 514: 'eye', 515: 'surprised', 516: 'shoes', 517: 'myself', 518: 'kind', 519: 'distance', 520: 'hair', 521: 'goes', 522: 'learn', 523: 'frightened', 524: 'chin', 525: 'hadn’t', 526: 'history', 527: '“as', 528: '“are', 529: 'lory', 530: 'has', 531: 'trial', 532: 'others', 533: '“he', 534: 'i’d', 535: 'stood', 536: 'does', 537: 'grown', 538: 'business', 539: '“so', 540: 'wood', 541: 'trees', 542: 'each', 543: 'isn’t', 544: 'serpent', 545: 'draw', 546: 'silent', 547: 'pepper', 548: 'ground', 549: 'nose', 550: 'pleased', 551: 'song', 552: '‘i', 553: 'bread', 554: 'queen’s', 555: 'hedgehog', 556: 'moral', 557: 'lobsters', 558: 'tarts', 559: 'slates', 560: 'evidence', 561: 'trouble', 562: 'late', 563: 'fell', 564: 'somebody', 565: 'nice', 566: 'written', 567: 'leaves', 568: 'jumped', 569: 'roof', 570: 'inches', 571: 'marked', 572: 'hold', 573: 'forgotten', 574: 'almost', 575: 'english', 576: '“or', 577: 'nonsense', 578: 'stop', 579: 'himself', 580: 'times', 581: 'repeat', 582: 'grin', 583: 'understand', 584: 'william', 585: 'pardon', 586: '“don’t', 587: 'trembling', 588: 'subject', 589: '“there', 590: 'sit', 591: 'race', 592: 'politely', 593: 'melancholy', 594: 'liked', 595: 'exactly', 596: 'piece', 597: 'sir', 598: '“you’re', 599: 'nobody', 600: 'executed', 601: 'broken', 602: 'chimney', 603: 'full', 604: 'loud', 605: 'sharp', 606: 'guinea', 607: 'pigs', 608: 'puppy', 609: 'arms', 610: '“who', 611: 'father', 612: 'youth', 613: 'sneezing', 614: 'between', 615: 'told', 616: 'ear', 617: 'cheshire', 618: 'everybody', 619: 'dreadfully', 620: 'writing', 621: 'sing', 622: 'exclaimed', 623: 'school', 624: 'lobster', 625: 'soo—oop', 626: 'sleepy', 627: 'across', 628: 'curiosity', 629: 'passed', 630: 'home', 631: 'aloud', 632: 'walk', 633: 'new', 634: 'asking', 635: 'night', 636: 'sometimes', 637: 'walking', 638: 'sadly', 639: 'along', 640: 'shut', 641: 'simple', 642: 'cut', 643: 'finger', 644: 'ten', 645: 'nervous', 646: 'altogether', 647: 'fancy', 648: 'remembered', 649: '“to', 650: 'happens', 651: 'shan’t', 652: 'pair', 653: 'kid', 654: 'dropped', 655: 'usual', 656: 'morning', 657: 'seven', 658: 'wrong', 659: 'sounded', 660: 'strange', 661: 'seems', 662: 'stay', 663: 'sudden', 664: 'water', 665: 'case', 666: 'number', 667: 'swam', 668: 'nearer', 669: '“would', 670: 'speaking', 671: 'sentence', 672: 'shrill', 673: 'angry', 674: 'fetch', 675: 'crowded', 676: 'notice', 677: '“one', 678: 'chorus', 679: 'dare', 680: 'confusion', 681: 'call', 682: 'reply', 683: 'finish', 684: 'impatiently', 685: 'sighed', 686: 'temper', 687: 'young', 688: 'moved', 689: 'doing', 690: 'direction', 691: 'interesting', 692: 'become', 693: '“when', 694: 'write', 695: 'shouldn’t', 696: 'taking', 697: 'shriek', 698: 'drew', 699: 'sky', 700: 'instantly', 701: '“i’ll', 702: 'surprise', 703: 'lizard', 704: 'height', 705: 'quietly', 706: 'hookah', 707: 'man', 708: 'stand', 709: 'often', 710: 'eggs', 711: 'sleep', 712: 'you’ve', 713: 'meant', 714: 'waving', 715: '“very', 716: 'treacle', 717: 'rose', 718: 'faces', 719: 'procession', 720: 'pack', 721: 'knee', 722: 'whispered', 723: 'flamingo', 724: 'executioner', 725: 'adventures', 726: 'hole', 727: 'twice', 728: 'pictures', 729: 'worth', 730: 'natural', 731: 'sides', 732: 'fear', 733: 'managed', 734: 'they’ll', 735: 'likely', 736: 'fallen', 737: 'earth', 738: 'several', 739: 'sound', 740: 'girl', 741: 'bats', 742: 'passage', 743: 'ears', 744: 'except', 745: 'tiny', 746: 'alas', 747: 'second', 748: 'led', 749: 'shoulders', 750: '“which', 751: 'paper', 752: 'taught', 753: 'deeply', 754: 'drink', 755: 'ventured', 756: 'reach', 757: 'sharply', 758: 'severely', 759: 'person', 760: 'care', 761: 'nine', 762: 'until', 763: 'savage', 764: 'violently', 765: 'age', 766: 'mabel', 767: 'she’s', 768: 'puzzling', 769: 'twelve', 770: 'capital', 771: 'alone', 772: 'shrinking', 773: 'escape', 774: 'fire', 775: 'paws', 776: 'says', 777: 'pale', 778: 'you’ll', 779: 'animals', 780: 'duck', 781: 'tale', 782: 'uncomfortable', 783: 'argument', 784: 'important', 785: 'wanted', 786: 'frowning', 787: 'means', 788: 'solemnly', 789: 'prizes', 790: 'pointing', 791: 'confused', 792: '“only', 793: 'thimble', 794: 'short', 795: 'bowed', 796: 'judge', 797: 'breath', 798: '“please', 799: '“ah', 800: 'tongue', 801: 'since', 802: 'vanished', 803: 'ann', 804: 'run', 805: 'chance', 806: 'ordered', 807: 'answered', 808: 'outside', 809: '“sure', 810: 'yer', 811: 'honour', 812: 'sounds', 813: 'hearing', 814: 'master', 815: 'fellow', 816: 'dead', 817: 'doubt', 818: 'lay', 819: 'crowd', 820: 'held', 821: '“is', 822: 'plan', 823: 'difficulty', 824: 'stick', 825: 'grass', 826: 'perfectly', 827: 'none', 828: 'questions', 829: 'decidedly', 830: 'thoughtfully', 831: 'green', 832: 'screamed', 833: 'indignantly', 834: 'taken', 835: 'otherwise', 836: 'dish', 837: 'days', 838: 'kitchen', 839: 'jumping', 840: 'carried', 841: 'hours', 842: 'busily', 843: 'beat', 844: 'wow', 845: 'verse', 846: 'creature', 847: 'grunted', 848: 'less', 849: '“call', 850: '“i’d', 851: 'fast', 852: 'shoulder', 853: 'twinkling', 854: 'know—”', 855: 'twinkle', 856: 'sigh', 857: 'bottom', 858: 'begins', 859: 'rule', 860: '“she', 861: 'arches', 862: 'players', 863: 'quadrille', 864: 'sobs', 865: 'porpoise', 866: 'beau—ootiful', 867: 'jurors', 868: 'officers', 869: 'suppressed', 870: 'jurymen', 871: '“nothing', 872: 'verses', 873: 'peeped', 874: 'reading', 875: 'considering', 876: 'stupid', 877: 'dark', 878: 'filled', 879: 'past', 880: 'stairs', 881: 'true', 882: 'miles', 883: 'somewhere', 884: 'think—”', 885: 'knowledge', 886: 'grand', 887: 'funny', 888: 'listening', 889: 'she’ll', 890: 'miss', 891: 'hope', 892: 'mice', 893: 'catch', 894: 'bat', 895: 'hurt', 896: 'lost', 897: 'corner', 898: 'whiskers', 899: 'longer', 900: 'hanging', 901: 'delight', 902: 'telescope', 903: 'impossible', 904: 'hoping', 905: 'rules', 906: '“drink', 907: 'red', 908: 'knife', 909: 'certain', 910: 'later', 911: 'finding', 912: 'further', 913: 'candle', 914: 'decided', 915: 'possibly', 916: 'legs', 917: 'fond', 918: 'cake', 919: 'smaller', 920: 'holding', 921: 'remained', 922: 'expecting', 923: 'dull', 924: 'opening', 925: 'dears', 926: 'boots', 927: 'directions', 928: 'love', 929: 'cry', 930: 'pattering', 931: 'muttering', 932: 'timid', 933: 'yesterday', 934: 'sorts', 935: 'besides', 936: 'let’s', 937: 'doth', 938: 'crossed', 939: 'hoarse', 940: 'spread', 941: 'gently', 942: 'putting', 943: 'rabbit’s', 944: 'guess', 945: 'cause', 946: 'worse', 947: 'slipped', 948: 'general', 949: 'digging', 950: '“perhaps', 951: 'french', 952: 'notion', 953: 'lesson', 954: 'show', 955: 'dogs', 956: 'throw', 957: 'passion', 958: '“let', 959: 'shore', 960: 'eaglet', 961: 'caucus', 962: 'fur', 963: 'cross', 964: 'sulky', 965: '“did', 966: 'frog', 967: 'crown', 968: 'move', 969: 'pressed', 970: 'handed', 971: 'gravely', 972: 'speech', 973: 'cheered', 974: 'grave', 975: 'solemn', 976: 'noise', 977: 'choked', 978: 'whisper', 979: 'sad', 980: 'sighing', 981: 'met', 982: 'attending', 983: 'pleaded', 984: 'easily', 985: 'joined', 986: 'pity', 987: 'crab', 988: '“hold', 989: 'particular', 990: 'venture', 991: 'carefully', 992: 'remarking', 993: 'suit', 994: 'mentioned', 995: 'guessed', 996: 'hunting', 997: 'swim', 998: 'mary', 999: 'mistake', 1000: 'plate', 1001: 'knocking', 1002: 'real', 1003: 'they’d', 1004: 'floor', 1005: 'effect', 1006: 'elbow', 1007: 'whatever', 1008: '“at', 1009: 'stopped', 1010: 'forgetting', 1011: 'crash', 1012: '“here', 1013: 'bill’s', 1014: '’em', 1015: 'below', 1016: 'kick', 1017: 'above', 1018: '“this', 1019: 'sense', 1020: 'moving', 1021: 'cakes', 1022: 'paw', 1023: 'hungry', 1024: 'picked', 1025: 'edge', 1026: 'immediately', 1027: 'folded', 1028: '“because', 1029: 'confusing', 1030: '“all', 1031: 'brought', 1032: 'remarks', 1033: 'stuff', 1034: 'free', 1035: 'shaking', 1036: 'succeeded', 1037: 'serpents', 1038: 'girls', 1039: 'yours', 1040: 'settled', 1041: 'pieces', 1042: 'nibbling', 1043: 'bringing', 1044: 'livery', 1045: 'considered', 1046: 'loudly', 1047: 'letter', 1048: 'order', 1049: 'staring', 1050: 'howling', 1051: 'instance', 1052: 'repeating', 1053: 'nursing', 1054: 'courage', 1055: 'grinned', 1056: 'growl', 1057: 'faster', 1058: 'advantage', 1059: '“just', 1060: 'tossing', 1061: 'caught', 1062: 'shaped', 1063: 'proper', 1064: '“they’re', 1065: 'sobbing', 1066: 'instead', 1067: '“have', 1068: 'civil', 1069: 'fun', 1070: 'crumbs', 1071: 'o’clock', 1072: '“what’s', 1073: 'cautiously', 1074: 'music', 1075: 'fly', 1076: 'lady', 1077: 'lived', 1078: 'upset', 1079: '“really', 1080: 'roses', 1081: 'beheaded', 1082: 'watching', 1083: 'checked', 1084: 'themselves', 1085: 'eager', 1086: 'guests', 1087: 'cards', 1088: 'needn’t', 1089: '“consider', 1090: 'unfortunate', 1091: '“she’s', 1092: 'said—”', 1093: 'hedgehogs', 1094: 'tucked', 1095: 'turns', 1096: 'alive', 1097: 'friend', 1098: 'anxious', 1099: 'mustard', 1100: 'duchess’s', 1101: 'hers', 1102: '“thank', 1103: 'week', 1104: 'figure', 1105: 'toes', 1106: 'mark', 1107: 'snail', 1108: 'tails', 1109: 'mouths', 1110: 'obliged', 1111: 'follows', 1112: 'around', 1113: 'owl', 1114: 'panther', 1115: 'e—e—evening', 1116: 'trial’s', 1117: 'trumpet', 1118: '“stupid', 1119: 'spectacles', 1120: 'slate', 1121: 'verdict', 1122: 'teacup', 1123: 'wrote', 1124: '“give', 1125: 'list', 1126: '“unimportant', 1127: 'bank', 1128: 'conversations', 1129: 'pleasure', 1130: 'picking', 1131: 'remarkable', 1132: 'nor', 1133: 'afterwards', 1134: 'occurred', 1135: 'waistcoat', 1136: 'started', 1137: 'hedge', 1138: 'straight', 1139: 'dipped', 1140: 'falling', 1141: 'plenty', 1142: 'cupboards', 1143: 'shelves', 1144: 'jar', 1145: 'underneath', 1146: '“after', 1147: 'tumbling', 1148: 'thousand', 1149: 'learnt', 1150: 'showing', 1151: 'latitude', 1152: 'longitude', 1153: 'presently', 1154: 'milk', 1155: 'earnestly', 1156: 'thump', 1157: 'wind', 1158: 'row', 1159: 'doors', 1160: 'legged', 1161: 'locks', 1162: 'longed', 1163: 'beds', 1164: 'flowers', 1165: 'cool', 1166: 'fountains', 1167: 'shutting', 1168: 'label', 1169: 'beautifully', 1170: 'wise', 1171: 'wild', 1172: 'beasts', 1173: 'unpleasant', 1174: 'friends', 1175: 'burn', 1176: 'usually', 1177: '“poison', 1178: 'sooner', 1179: 'taste', 1180: 'mixed', 1181: 'brightened', 1182: 'lovely', 1183: 'crying', 1184: 'advice', 1185: 'bring', 1186: 'playing', 1187: 'forgot', 1188: 'bye', 1189: 'sending', 1190: 'presents', 1191: 'struck', 1192: 'ashamed', 1193: 'trotting', 1194: 'ringlets', 1195: 'knows', 1196: 'and—oh', 1197: 'six', 1198: 'twenty', 1199: 'paris', 1200: 'lap', 1201: 'neatly', 1202: 'claws', 1203: 'smiling', 1204: 'jaws', 1205: '‘come', 1206: 'rapidly', 1207: 'narrow', 1208: 'declare', 1209: 'bad', 1210: 'salt', 1211: 'railway', 1212: 'conclusion', 1213: 'wherever', 1214: 'splashing', 1215: 'swimming', 1216: 'wink', 1217: 'conqueror', 1218: 'clear', 1219: 'ago', 1220: 'ma', 1221: 'fright', 1222: 'feelings', 1223: 'quiet', 1224: 'purring', 1225: 'nicely', 1226: 'washing', 1227: 'catching', 1228: 'dog', 1229: 'brown', 1230: 'dinner', 1231: 'them—and', 1232: 'belongs', 1233: 'useful', 1234: 'sorrowful', 1235: 'assembled', 1236: 'wet', 1237: 'older', 1238: 'allow', 1239: 'knowing', 1240: 'authority', 1241: '“sit', 1242: 'ring', 1243: 'whose', 1244: 'morcar', 1245: 'earls', 1246: 'mercia', 1247: 'proceed', 1248: 'archbishop', 1249: '“found', 1250: '‘it’', 1251: 'hurriedly', 1252: 'meet', 1253: 'offer', 1254: '“speak', 1255: 'what’s', 1256: 'smile', 1257: 'easy', 1258: 'hour', 1259: 'panting', 1260: 'won', 1261: 'forehead', 1262: 'position', 1263: '“everybody', 1264: 'voices', 1265: 'comfits', 1266: 'luckily', 1267: 'absurd', 1268: 'simply', 1269: 'caused', 1270: 'law', 1271: 'wasting', 1272: '‘i’ll', 1273: 'fury', 1274: 'humbly', 1275: 'bend', 1276: 'knot', 1277: 'bird', 1278: 'sensation', 1279: 'throat', 1280: '“nobody', 1281: 'lonely', 1282: 'footsteps', 1283: 'ferrets', 1284: 'nowhere', 1285: 'quick', 1286: 'messages', 1287: 'directly', 1288: 'nurse', 1289: 'ordering', 1290: 'drunk', 1291: 'stoop', 1292: 'curled', 1293: 'unhappy', 1294: 'fancied', 1295: '“shall', 1296: 'books', 1297: '“fetch', 1298: 'trembled', 1299: 'proved', 1300: 'snatch', 1301: 'concluded', 1302: 'cucumber', 1303: 'pat', 1304: 'apples', 1305: 'goose', 1306: 'bear', 1307: 'feeble', 1308: 'squeaking', 1309: 'comes', 1310: 'barrowful', 1311: 'shower', 1312: 'pebbles', 1313: 'rattling', 1314: 'hit', 1315: '“you’d', 1316: 'delighted', 1317: 'giving', 1318: 'rush', 1319: 'safe', 1320: 'wandered', 1321: 'excellent', 1322: 'smallest', 1323: 'bark', 1324: 'stretching', 1325: 'coaxing', 1326: 'thistle', 1327: 'stretched', 1328: 'tiptoe', 1329: 'smoking', 1330: 'addressed', 1331: 'encouraging', 1332: '“explain', 1333: 'contemptuously', 1334: 'anger', 1335: 'unfolded', 1336: 'busy', 1337: 'somersault', 1338: 'pray', 1339: 'sell', 1340: 'weak', 1341: 'lasted', 1342: 'eel', 1343: 'clever', 1344: 'changing', 1345: 'wretched', 1346: '“you’ll', 1347: 'patiently', 1348: 'chose', 1349: 'yawned', 1350: 'merely', 1351: 'taller', 1352: 'shorter', 1353: 'difficult', 1354: 'broke', 1355: 'nibbled', 1356: 'violent', 1357: 'blow', 1358: 'lefthand', 1359: 'alarm', 1360: 'follow', 1361: 'distant', 1362: 'wandering', 1363: 'beating', 1364: '“serpent', 1365: 'roots', 1366: 'doubtfully', 1367: 'changes', 1368: 'telling', 1369: 'tasted', 1370: 'matters', 1371: 'entangled', 1372: 'branches', 1373: 'lives', 1374: 'invitation', 1375: 'laughed', 1376: 'secondly', 1377: 'inside', 1378: 'extraordinary', 1379: 'constant', 1380: '“till', 1381: 'dreadful', 1382: 'muttered', 1383: 'leaning', 1384: 'stirring', 1385: 'cauldron', 1386: 'moment’s', 1387: 'pause', 1388: 'sneeze', 1389: 'introduce', 1390: 'throwing', 1391: 'plates', 1392: 'dishes', 1393: 'already', 1394: 'takes', 1395: 'hint', 1396: 'singing', 1397: 'line', 1398: 'boy', 1399: 'sneezes', 1400: '“wow', 1401: 'sang', 1402: 'thoroughly', 1403: 'threw', 1404: 'missed', 1405: 'twist', 1406: 'also', 1407: 'neither', 1408: 'ugly', 1409: 'startled', 1410: '“—so', 1411: 'explanation', 1412: 'denied', 1413: '“lives', 1414: 'invited', 1415: 'became', 1416: 'appear', 1417: 'raving', 1418: 'giddy', 1419: 'ending', 1420: 'raised', 1421: '“suppose', 1422: 'front', 1423: 'using', 1424: 'cushion', 1425: 'resting', 1426: 'wine', 1427: 'laid', 1428: '“your', 1429: 'wants', 1430: 'personal', 1431: 'rude', 1432: 'wide', 1433: 'riddles', 1434: '“exactly', 1435: 'breathe', 1436: 'break', 1437: 'month', 1438: 'uneasily', 1439: '“two', 1440: 'meekly', 1441: 'cup', 1442: 'tells', 1443: '“does', 1444: 'year', 1445: 'clock', 1446: 'spoon', 1447: 'concert', 1448: 'pinch', 1449: 'we’ve', 1450: 'wash', 1451: 'yawning', 1452: '“wake', 1453: 'pinched', 1454: '“tell', 1455: '“once', 1456: 'names', 1457: 'ill', 1458: '“take', 1459: 'triumphantly', 1460: 'sulkily', 1461: 'learning', 1462: '“treacle', 1463: '“let’s', 1464: 'interrupting', 1465: 'rubbing', 1466: 'manner', 1467: 'm—”', 1468: 'm', 1469: 'closed', 1470: 'flower', 1471: 'painting', 1472: 'flat', 1473: 'carrying', 1474: 'courtiers', 1475: 'ornamented', 1476: 'royal', 1477: 'mostly', 1478: 'king’s', 1479: 'crimson', 1480: 'doubtful', 1481: 'lie', 1482: 'smiled', 1483: '“my', 1484: '“turn', 1485: '“get', 1486: '“leave', 1487: 'fine', 1488: 'hush', 1489: 'execution', 1490: '‘what', 1491: 'scream', 1492: 'body', 1493: 'laughing', 1494: 'unrolled', 1495: 'quarrelling', 1496: 'stamping', 1497: 'shouting', 1498: 'dispute', 1499: 'cat’s', 1500: 'removed', 1501: 'fight', 1502: 'collected', 1503: 'entirely', 1504: 'disappeared', 1505: 'wildly', 1506: 'turtle’s', 1507: 'tempered', 1508: 'sugar', 1509: 'forget', 1510: 'hasn’t', 1511: 'keeping', 1512: '“’tis', 1513: '’tis', 1514: 'experiment', 1515: 'bite', 1516: 'agree', 1517: 'imagine', 1518: 'present', 1519: 'choice', 1520: 'custody', 1521: 'executions', 1522: 'sun', 1523: 'watched', 1524: 'heart', 1525: 'sorrow', 1526: 'heavy', 1527: 'tortoise', 1528: 'proud', 1529: 'relief', 1530: 'regular', 1531: 'drawling', 1532: 'recovered', 1533: 'delightful', 1534: 'turtles', 1535: 'advance', 1536: 'dancing', 1537: 'treading', 1538: 'kindly', 1539: 'thoughts', 1540: 'part', 1541: 'editions', 1542: 'tones', 1543: '“go', 1544: 'persisted', 1545: 'pie', 1546: '“beautiful', 1547: 'evening', 1548: 'cares', 1549: 'stole', 1550: 'scroll', 1551: 'parchment', 1552: 'wig', 1553: '“silence', 1554: 'pencil', 1555: 'quickly', 1556: 'blew', 1557: 'blasts', 1558: 'summer', 1559: 'sent', 1560: 'fashion', 1561: 'singers', 1562: '“—and', 1563: 'deny', 1564: 'miserable', 1565: 'examine', 1566: '“never', 1567: 'undertone', 1568: 'goldfish', 1569: 'accident', 1570: 'note', 1571: 'mile', 1572: 'directed', 1573: 'signed', 1574: 'proves', 1575: 'returned', 1576: 'fit', 1577: 'atom', 1578: 'wonderful', 1579: 'teacups', 1580: 'wonderland', 1581: '“without', 1582: 'daisy', 1583: 'chain', 1584: 'daisies', 1585: 'pink', 1586: 'wondered', 1587: 'actually', 1588: 'flashed', 1589: 'burning', 1590: 'field', 1591: 'fortunately', 1592: 'pop', 1593: 'tunnel', 1594: 'stopping', 1595: 'maps', 1596: 'hung', 1597: 'pegs', 1598: 'labelled', 1599: '“orange', 1600: 'marmalade”', 1601: 'disappointment', 1602: 'empty', 1603: 'drop', 1604: 'killing', 1605: 'brave', 1606: 'centre', 1607: 'schoolroom', 1608: 'practice', 1609: '“—yes', 1610: 'distance—but', 1611: 'downward', 1612: 'antipathies', 1613: '“—but', 1614: 'country', 1615: 'ma’am', 1616: 'zealand', 1617: 'australia', 1618: 'curtsey', 1619: 'spoke—fancy', 1620: 'curtseying', 1621: 'ignorant', 1622: '“dinah’ll', 1623: 'saucer', 1624: 'dreamy', 1625: 'dozing', 1626: 'truth', 1627: 'heap', 1628: 'sticks', 1629: 'overhead', 1630: 'hurrying', 1631: 'lit', 1632: 'lamps', 1633: 'locked', 1634: 'solid', 1635: 'belong', 1636: 'curtain', 1637: 'fifteen', 1638: 'lock', 1639: 'fitted', 1640: 'rat', 1641: 'knelt', 1642: 'loveliest', 1643: 'wander', 1644: 'doorway', 1645: 'lately', 1646: 'telescopes', 1647: 'printed', 1648: 'letters', 1649: '‘poison’', 1650: 'not”', 1651: 'histories', 1652: 'burnt', 1653: 'eaten', 1654: 'poker', 1655: 'bleeds', 1656: 'disagree', 1657: 'flavour', 1658: 'cherry', 1659: 'tart', 1660: 'custard', 1661: 'pine', 1662: 'apple', 1663: 'roast', 1664: 'turkey', 1665: 'toffee', 1666: 'buttered', 1667: 'toast', 1668: 'shrink', 1669: 'flame', 1670: 'blown', 1671: 'plainly', 1672: 'climb', 1673: 'slippery', 1674: 'advise', 1675: 'seldom', 1676: 'scolded', 1677: 'cheated', 1678: 'pretending', 1679: 'pretend', 1680: 'respectable', 1681: '“eat', 1682: 'me”', 1683: 'currants', 1684: 'creep', 1685: 'ate', 1686: 'eats', 1687: 'common', 1688: 'ii', 1689: '“curiouser', 1690: 'curiouser', 1691: 'largest', 1692: 'stockings', 1693: 'able', 1694: '—but', 1695: 'christmas', 1696: 'planning', 1697: 'carrier', 1698: 'one’s', 1699: 'odd', 1700: 'esq', 1701: 'hearthrug', 1702: 'fender', 1703: 'hopeless', 1704: 'shedding', 1705: 'gallons', 1706: 'reaching', 1707: 'dried', 1708: 'returning', 1709: 'splendidly', 1710: 'dressed', 1711: 'desperate', 1712: 'sir—”', 1713: 'skurried', 1714: 'darkness', 1715: 'fanning', 1716: '“dear', 1717: 'ah', 1718: 'puzzle', 1719: 'ada', 1720: 'thirteen', 1721: 'is—oh', 1722: 'multiplication', 1723: 'signify', 1724: 'geography', 1725: 'london', 1726: 'rome', 1727: 'rome—no', 1728: '‘how', 1729: 'little—’”', 1730: 'crocodile', 1731: 'improve', 1732: 'shining', 1733: 'pour', 1734: 'waters', 1735: 'nile', 1736: 'scale', 1737: 'cheerfully', 1738: 'welcome', 1739: 'fishes', 1740: 'poky', 1741: 'toys', 1742: '‘who', 1743: 'else’—but', 1744: 'burst', 1745: 'measure', 1746: 'avoid', 1747: 'existence', 1748: 'speed', 1749: 'splash', 1750: 'somehow', 1751: 'seaside', 1752: 'coast', 1753: 'bathing', 1754: 'machines', 1755: 'sand', 1756: 'wooden', 1757: 'spades', 1758: 'lodging', 1759: 'houses', 1760: 'station', 1761: 'wept', 1762: 'punished', 1763: 'drowned', 1764: 'walrus', 1765: 'hippopotamus', 1766: 'harm', 1767: '“o', 1768: 'o', 1769: 'brother’s', 1770: 'latin', 1771: 'grammar', 1772: 'mouse—of', 1773: 'mouse—to', 1774: 'mouse—a', 1775: 'mouse—o', 1776: 'inquisitively', 1777: 'daresay', 1778: '“où', 1779: 'est', 1780: 'chatte', 1781: 'leap', 1782: 'quiver', 1783: 'animal’s', 1784: 'passionate', 1785: 'soothing', 1786: 'lazily', 1787: 'sits', 1788: 'licking', 1789: 'face—and', 1790: 'soft', 1791: 'nurse—and', 1792: 'mice—oh', 1793: 'bristling', 1794: 'family', 1795: 'hated', 1796: 'nasty', 1797: 'vulgar', 1798: 'you—are', 1799: 'fond—of—of', 1800: 'eyed', 1801: 'terrier', 1802: 'curly', 1803: 'things—i', 1804: 'farmer', 1805: 'hundred', 1806: 'pounds', 1807: 'kills', 1808: 'rats', 1809: 'commotion', 1810: 'softly', 1811: '“mouse', 1812: 'hate', 1813: 'iii', 1814: 'bank—the', 1815: 'draggled', 1816: 'feathers', 1817: 'clinging', 1818: 'dripping', 1819: 'consultation', 1820: 'familiarly', 1821: 'known', 1822: 'positively', 1823: 'refused', 1824: 'fixed', 1825: 'cold', 1826: '“ahem', 1827: 'driest', 1828: '‘william', 1829: 'favoured', 1830: 'pope', 1831: 'submitted', 1832: 'leaders', 1833: 'accustomed', 1834: 'usurpation', 1835: 'conquest', 1836: 'edwin', 1837: 'northumbria—’”', 1838: '“ugh', 1839: 'shiver', 1840: '“—i', 1841: '‘edwin', 1842: 'northumbria', 1843: 'declared', 1844: 'stigand', 1845: 'patriotic', 1846: 'canterbury', 1847: 'advisable—’”', 1848: 'crossly', 1849: 'worm', 1850: '“‘—found', 1851: 'advisable', 1852: 'edgar', 1853: 'atheling', 1854: 'william’s', 1855: 'conduct', 1856: 'moderate', 1857: 'insolence', 1858: 'normans—’', 1859: 'rising', 1860: 'meeting', 1861: 'adjourn', 1862: 'immediate', 1863: 'adoption', 1864: 'energetic', 1865: 'remedies—”', 1866: 'bent', 1867: 'hide', 1868: 'tittered', 1869: 'audibly', 1870: '“was', 1871: 'paused', 1872: 'inclined', 1873: 'winter', 1874: 'circle', 1875: 'exact', 1876: 'shape', 1877: 'placed', 1878: 'shakespeare', 1879: 'calling', 1880: '“prizes', 1881: 'despair', 1882: 'pulled', 1883: 'prize', 1884: '“hand', 1885: 'presented', 1886: 'acceptance', 1887: 'elegant', 1888: 'laugh', 1889: 'complained', 1890: 'theirs', 1891: 'ones', 1892: 'patted', 1893: 'begged', 1894: 'promised', 1895: 'hate—c', 1896: 'd', 1897: '“mine', 1898: 'mouse’s', 1899: '“fury', 1900: '‘let', 1901: 'prosecute', 1902: '—come', 1903: 'denial', 1904: 'cur', 1905: '‘such', 1906: 'cunning', 1907: 'condemn', 1908: 'death', 1909: 'fifth', 1910: 'undo', 1911: 'insult', 1912: 'growled', 1913: 'quicker', 1914: 'daughter', 1915: 'lose', 1916: 'snappishly', 1917: 'patience', 1918: 'oyster', 1919: 'addressing', 1920: '“she’d', 1921: 'pet', 1922: '“dinah’s', 1923: 'magpie', 1924: 'wrapping', 1925: 'canary', 1926: 'bed', 1927: 'various', 1928: 'pretexts', 1929: 'spirited', 1930: 'iv', 1931: 'sends', 1932: 'naturedly', 1933: 'seen—everything', 1934: 'completely', 1935: 'pointed', 1936: 'housemaid', 1937: 'he’ll', 1938: 'finds', 1939: 'gloves—that', 1940: 'neat', 1941: 'brass', 1942: '“w', 1943: 'engraved', 1944: 'upstairs', 1945: 'lest', 1946: 'dinah’ll', 1947: 'fancying', 1948: '“‘miss', 1949: '‘coming', 1950: 'tidy', 1951: 'hoped', 1952: 'pairs', 1953: 'nevertheless', 1954: 'uncorked', 1955: 'lips', 1956: '“whenever', 1957: 'expected', 1958: 'pressing', 1959: 'ceiling', 1960: 'save', 1961: 'enough—i', 1962: 'more—as', 1963: 'door—i', 1964: 'kneel', 1965: 'resource', 1966: 'magic', 1967: 'grew', 1968: 'pleasanter', 1969: 'rabbits', 1970: 'hole—and', 1971: 'yet—and', 1972: 'yet—it’s', 1973: 'fairy', 1974: 'tales', 1975: 'one—but', 1976: 'that’ll', 1977: 'comfort', 1978: 'way—never', 1979: 'woman—but', 1980: 'then—always', 1981: 'foolish', 1982: '“mary', 1983: 'inwards', 1984: 'attempt', 1985: 'failure', 1986: 'possible', 1987: 'frame', 1988: 'voice—the', 1989: 'rabbit’s—“pat', 1990: '“digging', 1991: 'pronounced', 1992: '“arrum', 1993: '“an', 1994: 'fills', 1995: 'whispers', 1996: 'coward', 1997: 'shrieks', 1998: 'frames', 1999: 'pulling', 2000: 'rumbling', 2001: 'cartwheels', 2002: '“where’s', 2003: 'ladder', 2004: '—why', 2005: 'other—bill', 2006: 'lad', 2007: '—here', 2008: 'corner—no', 2009: 'tie', 2010: 'first—they', 2011: 'yet—oh', 2012: 'particular—here', 2013: 'rope—will', 2014: '—mind', 2015: 'loose', 2016: 'slate—oh', 2017: '—“now', 2018: '—it', 2019: 'fancy—who’s', 2020: '—nay', 2021: '—that', 2022: '—bill’s', 2023: 'down—here', 2024: '“shy', 2025: 'fireplace', 2026: 'animal', 2027: 'scratching', 2028: 'scrambling', 2029: 'along—“catch', 2030: 'voices—“hold', 2031: 'head—brandy', 2032: 'now—don’t', 2033: 'choke', 2034: 'him—how', 2035: 'know—no', 2036: 'thank', 2037: 'ye', 2038: 'now—but', 2039: 'flustered', 2040: 'you—all', 2041: 'jack', 2042: 'rocket', 2043: 'produced', 2044: 'swallowed', 2045: 'thick', 2046: 'arranged', 2047: 'peering', 2048: 'enormous', 2049: 'feebly', 2050: 'touch', 2051: '“poor', 2052: 'whistle', 2053: 'terribly', 2054: 'spite', 2055: 'whereupon', 2056: 'yelp', 2057: 'rushed', 2058: 'worry', 2059: 'dodged', 2060: 'tumbled', 2061: 'heels', 2062: 'cart', 2063: 'horse', 2064: 'trampled', 2065: 'series', 2066: 'charges', 2067: 'forwards', 2068: 'barking', 2069: 'hoarsely', 2070: 'puppy’s', 2071: 'faint', 2072: 'leant', 2073: 'buttercup', 2074: 'fanned', 2075: 'teaching', 2076: 'tricks', 2077: 'if—if', 2078: 'see—how', 2079: 'blades', 2080: 'circumstances', 2081: 'v', 2082: 'languid', 2083: 'shyly', 2084: '“i—i', 2085: 'present—at', 2086: 'sternly', 2087: 'clearly', 2088: 'sizes', 2089: 'chrysalis—you', 2090: 'know—and', 2091: 'butterfly', 2092: 'irritated', 2093: 'caterpillar’s', 2094: 'state', 2095: 'promising', 2096: '“keep', 2097: 'swallowing', 2098: 'wait', 2099: 'puffed', 2100: 'used—and', 2101: '“can’t', 2102: 'bee', 2103: '“repeat', 2104: 'incessantly', 2105: 'head—', 2106: 'son', 2107: 'feared', 2108: 'injure', 2109: 'brain', 2110: 'uncommonly', 2111: 'fat', 2112: 'door—', 2113: 'sage', 2114: 'grey', 2115: 'limbs', 2116: 'supple', 2117: 'ointment—one', 2118: 'shilling', 2119: 'box—', 2120: 'couple', 2121: 'tougher', 2122: 'suet', 2123: 'bones', 2124: 'beak—', 2125: 'argued', 2126: 'wife', 2127: 'muscular', 2128: 'strength', 2129: 'jaw', 2130: 'steady', 2131: 'balanced', 2132: 'nose—', 2133: 'awfully', 2134: 'airs', 2135: '“some', 2136: 'altered', 2137: 'contradicted', 2138: 'losing', 2139: 'content', 2140: '“three', 2141: 'rearing', 2142: 'upright', 2143: 'piteous', 2144: 'crawled', 2145: 'closely', 2146: 'swallow', 2147: 'morsel', 2148: 'head’s', 2149: 'immense', 2150: 'length', 2151: 'rise', 2152: 'stalk', 2153: 'result', 2154: 'curving', 2155: 'graceful', 2156: 'zigzag', 2157: 'dive', 2158: 'tops', 2159: 'hiss', 2160: 'flown', 2161: 'wings', 2162: 'subdued', 2163: 'sob', 2164: 'banks', 2165: 'hedges', 2166: 'pleasing', 2167: 'hatching', 2168: 'weeks', 2169: 'sorry', 2170: 'annoyed', 2171: 'highest', 2172: 'raising', 2173: 'needs', 2174: 'wriggling', 2175: 'ugh', 2176: 'a—i’m', 2177: 'a—”', 2178: 'invent', 2179: '“i—i’m', 2180: 'deepest', 2181: 'contempt', 2182: 'denying', 2183: 'egg', 2184: 'truthful', 2185: 'adding', 2186: 'raw', 2187: 'nest', 2188: 'crouched', 2189: 'untwist', 2190: 'garden—how', 2191: '“whoever', 2192: '“it’ll', 2193: 'frighten', 2194: 'wits', 2195: 'righthand', 2196: 'vi', 2197: 'wood—', 2198: 'judging', 2199: '—and', 2200: 'rapped', 2201: 'knuckles', 2202: 'footmen', 2203: 'powdered', 2204: 'crept', 2205: 'producing', 2206: '“from', 2207: 'curls', 2208: 'stupidly', 2209: 'knocked', 2210: 'reasons', 2211: 'within—a', 2212: 'kettle', 2213: 'knock', 2214: 'uncivil', 2215: '“his', 2216: '—how', 2217: 'tomorrow—”', 2218: 'skimming', 2219: 'footman’s', 2220: 'grazed', 2221: '“—or', 2222: 'maybe', 2223: 'louder', 2224: 'argue', 2225: 'drive', 2226: 'crazy', 2227: 'variations', 2228: '“on', 2229: '“anything', 2230: 'whistling', 2231: 'desperately', 2232: '“he’s', 2233: 'idiotic', 2234: 'smoke', 2235: 'stool', 2236: 'sneezed', 2237: 'occasionally', 2238: 'alternately', 2239: 'hearth', 2240: 'grinning', 2241: 'manners', 2242: 'grins', 2243: 'violence', 2244: 'fix', 2245: 'within', 2246: 'baby—the', 2247: 'irons', 2248: 'saucepans', 2249: 'blows', 2250: 'agony', 2251: 'terror', 2252: 'precious', 2253: 'unusually', 2254: 'saucepan', 2255: 'flew', 2256: 'minded', 2257: 'axis—”', 2258: '“talking', 2259: 'axes', 2260: '“chop', 2261: 'glanced', 2262: '“twenty', 2263: 'i—”', 2264: 'bother', 2265: 'abide', 2266: 'figures', 2267: 'lullaby', 2268: 'shake', 2269: 'roughly', 2270: 'annoy', 2271: 'teases', 2272: 'howled', 2273: 'enjoy', 2274: 'pleases', 2275: 'flinging', 2276: 'frying', 2277: 'pan', 2278: 'star', 2279: 'snorting', 2280: 'steam', 2281: 'engine', 2282: 'doubling', 2283: 'straightening', 2284: 'tight', 2285: 'prevent', 2286: 'undoing', 2287: 'kill', 2288: 'murder', 2289: 'grunt', 2290: 'expressing', 2291: 'snout', 2292: 'extremely', 2293: 'seriously', 2294: 'sobbed', 2295: 'carry', 2296: 'relieved', 2297: 'trot', 2298: 'handsome', 2299: 'them—”', 2300: 'seeing', 2301: 'bough', 2302: 'yards', 2303: 'natured', 2304: 'teeth', 2305: 'treated', 2306: 'respect', 2307: '“cheshire', 2308: 'puss', 2309: 'wider', 2310: 'depends', 2311: 'where—”', 2312: 'visit', 2313: '“we’re', 2314: 'dog’s', 2315: 'grant', 2316: 'growls', 2317: 'wags', 2318: 'wag', 2319: 'therefore', 2320: 'growling', 2321: 'happening', 2322: '“by', 2323: 'hatters', 2324: 'mad—at', 2325: 'branch', 2326: 'fig', 2327: 'appearing', 2328: 'vanishing', 2329: 'farther', 2330: 'chimneys', 2331: 'thatched', 2332: 'towards', 2333: 'vii', 2334: 'elbows', 2335: 'chair', 2336: 'cutting', 2337: 'severity', 2338: 'raven', 2339: 'desk', 2340: 'they’ve', 2341: '—i', 2342: 'least—at', 2343: 'say—that’s', 2344: 'eat’', 2345: 'see’', 2346: 'get’', 2347: 'like’', 2348: 'sleep’', 2349: 'breathe’', 2350: 'ravens', 2351: 'desks', 2352: 'fourth', 2353: 'works', 2354: 'grumbled', 2355: 'gloomily', 2356: 'readily', 2357: 'stays', 2358: 'hatter’s', 2359: 'poured', 2360: 'riddle', 2361: 'slightest', 2362: '“nor', 2363: 'wearily', 2364: '“than', 2365: 'waste', 2366: 'answers', 2367: 'accounts', 2368: 'terms', 2369: 'he’d', 2370: 'then—i', 2371: 'mournfully', 2372: 'quarrelled', 2373: 'march—just', 2374: '“—it', 2375: 'given', 2376: '‘twinkle', 2377: '‘up', 2378: 'tray', 2379: 'twinkle—’”', 2380: '“twinkle', 2381: 'twinkle—”', 2382: 'bawled', 2383: '‘he’s', 2384: 'murdering', 2385: 'mournful', 2386: 'whiles', 2387: 'vote', 2388: 'alarmed', 2389: 'proposal', 2390: 'fellows', 2391: 'sisters', 2392: 'elsie', 2393: 'lacie', 2394: 'tillie', 2395: 'well—”', 2396: 'interest', 2397: 'eating', 2398: 'drinking', 2399: '“they’d', 2400: 'ways', 2401: 'living', 2402: 'opinion', 2403: '“who’s', 2404: 'helped', 2405: '“sh', 2406: 'sh', 2407: 'interrupt', 2408: 'consented', 2409: 'sisters—they', 2410: 'promise', 2411: 'clean', 2412: 'dormouse’s', 2413: 'unwillingly', 2414: 'jug', 2415: 'offend', 2416: 'well—eh', 2417: 'choosing', 2418: '“—well', 2419: 'things—everything', 2420: 'doze', 2421: 'woke', 2422: '“—that', 2423: 'traps', 2424: 'moon', 2425: 'memory', 2426: 'muchness—you', 2427: '“much', 2428: 'muchness”—did', 2429: 'drawing', 2430: 'muchness', 2431: 'rudeness', 2432: 'disgust', 2433: 'teapot', 2434: 'stupidest', 2435: 'leading', 2436: 'everything’s', 2437: 'today', 2438: 'unlocking', 2439: 'then—she', 2440: 'viii', 2441: 'entrance', 2442: '“look', 2443: 'paint', 2444: '“seven', 2445: 'jogged', 2446: 'blame', 2447: 'deserved', 2448: 'spoken', 2449: 'him—it', 2450: 'tulip', 2451: 'onions', 2452: 'flung', 2453: 'brush', 2454: 'unjust', 2455: 'things—”', 2456: 'chanced', 2457: 'we’re', 2458: 'afore', 2459: 'to—”', 2460: 'clubs', 2461: 'oblong', 2462: 'corners', 2463: 'diamonds', 2464: 'merrily', 2465: 'couples', 2466: 'kings', 2467: 'queens', 2468: 'recognised', 2469: 'noticing', 2470: 'velvet', 2471: 'processions', 2472: 'opposite', 2473: '“idiot', 2474: 'pattern', 2475: 'backs', 2476: 'glaring', 2477: 'beast', 2478: 'off—”', 2479: '“nonsense', 2480: 'bowing', 2481: '“may', 2482: 'humble', 2483: 'trying—”', 2484: 'meanwhile', 2485: 'examining', 2486: 'remaining', 2487: 'execute', 2488: 'protection', 2489: 'pot', 2490: 'marched', 2491: '“their', 2492: '“can', 2493: 'evidently', 2494: 'roared', 2495: '“it’s—it’s', 2496: 'peeping', 2497: '“—where’s', 2498: '“hush', 2499: 'boxed', 2500: 'ears—”', 2501: 'laughter', 2502: 'places', 2503: 'thunder', 2504: 'ridges', 2505: 'furrows', 2506: 'balls', 2507: 'mallets', 2508: 'flamingoes', 2509: 'double', 2510: 'chief', 2511: 'managing', 2512: 'comfortably', 2513: 'straightened', 2514: 'expression', 2515: 'bursting', 2516: 'provoking', 2517: 'act', 2518: 'crawling', 2519: 'ridge', 2520: 'furrow', 2521: 'send', 2522: 'doubled', 2523: 'parts', 2524: 'played', 2525: 'fighting', 2526: 'furious', 2527: 'uneasy', 2528: 'beheading', 2529: 'appearance', 2530: 'nodded', 2531: 'account', 2532: 'someone', 2533: 'fairly', 2534: 'complaining', 2535: 'quarrel', 2536: 'oneself', 2537: 'speak—and', 2538: 'attends', 2539: 'arch', 2540: 'ground—and', 2541: 'croqueted', 2542: 'extremely—”', 2543: '“—likely', 2544: 'win', 2545: 'finishing', 2546: 'mine—a', 2547: '“allow', 2548: '“however', 2549: 'kiss', 2550: 'likes', 2551: 'impertinent', 2552: 'passing', 2553: 'settling', 2554: 'difficulties', 2555: 'screaming', 2556: 'search', 2557: 'engaged', 2558: 'croqueting', 2559: 'helpless', 2560: 'appealed', 2561: 'settle', 2562: 'arguments', 2563: 'executioner’s', 2564: 'unless', 2565: 'weren’t', 2566: 'she’d', 2567: 'prison', 2568: 'arrow', 2569: 'fading', 2570: 'ix', 2571: 'affectionately', 2572: 'pleasant', 2573: 'hopeful', 2574: 'without—maybe', 2575: 'vinegar', 2576: 'sour—and', 2577: 'camomile', 2578: 'bitter—and—and', 2579: 'barley', 2580: 'sweet', 2581: 'stingy', 2582: '“tut', 2583: 'tut', 2584: '“everything’s', 2585: 'squeezed', 2586: 'closer', 2587: 'uncomfortably', 2588: 'bore', 2589: 'game’s', 2590: 'is—‘oh', 2591: '“somebody', 2592: 'minding', 2593: 'is—‘take', 2594: 'morals', 2595: 'waist', 2596: '“flamingoes', 2597: 'is—‘birds', 2598: 'feather', 2599: 'flock', 2600: '“right', 2601: 'mineral', 2602: 'is—‘the', 2603: 'attended', 2604: 'vegetable', 2605: 'is—‘be', 2606: 'be’—or', 2607: 'simply—‘never', 2608: '“pray', 2609: 'cheap', 2610: 'birthday', 2611: '“thinking', 2612: 'dig', 2613: 'worried', 2614: 'died', 2615: 'favourite', 2616: '‘moral', 2617: 'linked', 2618: 'tremble', 2619: 'thunderstorm', 2620: 'fair', 2621: 'warning', 2622: '“either', 2623: 'absence', 2624: 'shade', 2625: 'delay', 2626: 'cost', 2627: 'whom', 2628: 'sentenced', 2629: 'company', 2630: 'pardoned', 2631: 'picture', 2632: '“up', 2633: 'lazy', 2634: 'leaving', 2635: 'rubbed', 2636: 'chuckled', 2637: 'executes', 2638: 'ledge', 2639: 'rock', 2640: 'pitied', 2641: 'hollow', 2642: 'occasional', 2643: 'exclamation', 2644: '“hjckrrh', 2645: 'calmly', 2646: 'turtle—we', 2647: 'tortoise—”', 2648: 'sink', 2649: '“drive', 2650: 'mayn’t', 2651: 'it—”', 2652: 'educations—in', 2653: 'day—”', 2654: '“with', 2655: 'extras', 2656: 'learned', 2657: '“certainly', 2658: 'ours', 2659: '‘french', 2660: 'washing—extra', 2661: '“living', 2662: 'afford', 2663: 'inquired', 2664: '“reeling', 2665: 'writhing', 2666: 'arithmetic—ambition', 2667: 'distraction', 2668: 'uglification', 2669: 'derision', 2670: '‘uglification', 2671: 'lifted', 2672: 'uglifying', 2673: 'beautify', 2674: 'means—to—make—anything—prettier', 2675: 'uglify', 2676: 'simpleton', 2677: 'encouraged', 2678: 'mystery', 2679: 'counting', 2680: 'subjects', 2681: 'flappers', 2682: '“—mystery', 2683: 'ancient', 2684: 'modern', 2685: 'seaography', 2686: 'drawling—the', 2687: 'conger', 2688: 'fainting', 2689: 'coils', 2690: 'stiff', 2691: '“hadn’t', 2692: 'classics', 2693: 'grief', 2694: 'hid', 2695: '“ten', 2696: '“nine', 2697: 'lessen', 2698: 'eleventh', 2699: 'holiday', 2700: 'twelfth', 2701: 'games', 2702: 'x', 2703: 'flapper', 2704: '“same', 2705: 'bone', 2706: 'punching', 2707: 'cheeks', 2708: 'sea—”', 2709: '—“and', 2710: 'introduced', 2711: 'lobster—”', 2712: 'tasted—”', 2713: 'never”', 2714: 'form', 2715: 'shore—”', 2716: 'lines', 2717: '“seals', 2718: 'salmon', 2719: 'cleared', 2720: 'jelly', 2721: 'way—”', 2722: '“—you', 2723: 'twice—”', 2724: '“each', 2725: 'partner', 2726: '“advance', 2727: 'partners—”', 2728: '“—change', 2729: 'retire', 2730: 'the—”', 2731: 'bound', 2732: '“—as', 2733: 'can—”', 2734: '“swim', 2735: 'capering', 2736: '“change', 2737: 'yelled', 2738: '“back', 2739: 'land', 2740: 'dropping', 2741: 'pretty', 2742: 'forepaws', 2743: '“will', 2744: 'he’s', 2745: 'shingle—will', 2746: '“too', 2747: 'askance—', 2748: 'thanked', 2749: 'scaly', 2750: 'england', 2751: 'france—', 2752: 'beloved', 2753: '“they—you’ve', 2754: 'dinn—”', 2755: 'dinn', 2756: 'mouths—and', 2757: '“crumbs', 2758: 'is—”', 2759: '—“tell', 2760: 'thrown', 2761: 'shiny', 2762: 'blacking', 2763: '“boots', 2764: '“soles', 2765: 'eels', 2766: '“any', 2767: 'shrimp', 2768: '‘keep', 2769: 'anywhere', 2770: '“wouldn’t', 2771: 'journey', 2772: '‘with', 2773: '‘purpose’', 2774: 'adventures—beginning', 2775: 'impatient', 2776: '“explanations', 2777: 'gained', 2778: 'listeners', 2779: '“stand', 2780: '‘’tis', 2781: 'sluggard', 2782: 'baked', 2783: 'eyelids', 2784: 'trims', 2785: 'belt', 2786: 'buttons', 2787: 'sands', 2788: 'gay', 2789: 'lark', 2790: 'contemptuous', 2791: 'shark', 2792: 'tide', 2793: 'rises', 2794: 'sharks', 2795: 'tremulous', 2796: 'uncommon', 2797: 'explained', 2798: 'disobey', 2799: 'sharing', 2800: 'pie—”', 2801: 'crust', 2802: 'gravy', 2803: 'meat', 2804: 'share', 2805: 'treat', 2806: 'boon', 2807: 'permitted', 2808: 'received', 2809: 'fork', 2810: 'banquet—', 2811: '“hm', 2812: 'accounting', 2813: 'tastes', 2814: '‘turtle', 2815: 'rich', 2816: 'tureen', 2817: 'dainties', 2818: 'p', 2819: 'ennyworth', 2820: 'pennyworth', 2821: 'beauti—ful', 2822: '“chorus', 2823: 'panted', 2824: 'faintly', 2825: 'breeze', 2826: '“soo—oop', 2827: 'xi', 2828: 'seated', 2829: 'throne', 2830: 'arrived', 2831: 'them—all', 2832: 'standing', 2833: 'chains', 2834: 'soldier', 2835: 'guard', 2836: 'them—“i', 2837: 'refreshments', 2838: 'pass', 2839: 'justice', 2840: 'wore', 2841: 'frontispiece', 2842: 'comfortable', 2843: 'becoming', 2844: '“creatures', 2845: 'rightly', 2846: '“jury', 2847: 'men”', 2848: 'indignant', 2849: 'spell', 2850: 'neighbour', 2851: 'muddle', 2852: 'slates’ll', 2853: 'squeaked', 2854: 'juror', 2855: '“herald', 2856: 'accusation', 2857: '“first', 2858: '“fourteenth', 2859: '“fifteenth', 2860: '“sixteenth', 2861: '“write', 2862: 'dates', 2863: 'reduced', 2864: 'shillings', 2865: 'pence', 2866: 'hat', 2867: '“stolen', 2868: 'memorandum', 2869: 'fidgeted', 2870: 'spot', 2871: 'encourage', 2872: 'shifting', 2873: 'remain', 2874: 'squeeze', 2875: '“you’ve', 2876: 'boldly', 2877: 'reasonable', 2878: 'pace', 2879: 'ridiculous', 2880: '“bring', 2881: 'tea—not', 2882: 'so—and', 2883: 'thin—and', 2884: 'tea—”', 2885: 't', 2886: 'dunce', 2887: 'twinkled', 2888: 'that—only', 2889: 'denies', 2890: 'butter—”', 2891: 'speaker', 2892: 'canvas', 2893: 'bag', 2894: 'tied', 2895: 'strings', 2896: 'newspapers', 2897: 'trials', 2898: 'attempts', 2899: 'applause', 2900: 'understood', 2901: 'lower', 2902: 'officer', 2903: '“shan’t', 2904: 'folding', 2905: '“pepper', 2906: '“collar', 2907: 'shrieked', 2908: '“behead', 2909: 'suppress', 2910: 'ache', 2911: 'fumbled', 2912: '“—for', 2913: '“alice', 2914: 'xii', 2915: 'flurry', 2916: 'tipped', 2917: 'skirt', 2918: 'upsetting', 2919: 'sprawling', 2920: 'reminding', 2921: 'globe', 2922: 'accidentally', 2923: 'dismay', 2924: 'vague', 2925: 'die', 2926: 'cannot', 2927: '“until', 2928: 'places—all', 2929: 'emphasis', 2930: 'haste', 2931: 'downwards', 2932: 'unable', 2933: 'signifies', 2934: 'shock', 2935: 'pencils', 2936: 'diligently', 2937: 'overcome', 2938: 'gazing', 2939: 'respectful', 2940: '“important—unimportant—unimportant—important—”', 2941: '“important', 2942: 'cackled', 2943: '“rule', 2944: 'forty', 2945: 'persons', 2946: '“nearly', 2947: '“besides', 2948: 'invented', 2949: 'oldest', 2950: 'prisoner', 2951: 'to—to', 2952: '“unless', 2953: 'prisoner’s', 2954: 'handwriting', 2955: 'queerest', 2956: 'imitated', 2957: 'else’s', 2958: 'prove', 2959: 'sign', 2960: 'mischief', 2961: 'honest', 2962: 'clapping', 2963: 'guilt', 2964: '“read', 2965: '“where', 2966: '“begin', 2967: 'character', 2968: 'push', 2969: 'involved', 2970: 'affair', 2971: 'trusts', 2972: 'obstacle', 2973: 'ourselves', 2974: 'secret', 2975: 'jury—”', 2976: 'sixpence', 2977: 'attempted', 2978: 'saves', 2979: 'spreading', 2980: '“—said', 2981: 'swim—”', 2982: 'cardboard', 2983: '“‘we', 2984: 'true—’', 2985: 'course—‘i', 2986: 'two—’', 2987: '‘they', 2988: 'clearer', 2989: 'again—‘before', 2990: 'fit—’', 2991: 'fits', 2992: 'furiously', 2993: 'inkstand', 2994: 'ink', 2995: 'trickling', 2996: 'pun', 2997: 'consider', 2998: 'twentieth', 2999: '“sentence', 3000: 'first—verdict', 3001: '“stuff', 3002: 'purple', 3003: 'flying', 3004: 'brushing', 3005: 'fluttered', 3006: 'kissed', 3007: 'setting', 3008: 'dreaming', 3009: 'dreamed', 3010: 'clasped', 3011: 'hers—she', 3012: 'toss', 3013: 'eyes—and', 3014: 'listened', 3015: 'sister’s', 3016: 'rustled', 3017: 'by—the', 3018: 'splashed', 3019: 'neighbouring', 3020: 'pool—she', 3021: 'rattle', 3022: 'shared', 3023: 'meal', 3024: 'execution—once', 3025: 'crashed', 3026: 'it—once', 3027: 'lizard’s', 3028: 'choking', 3029: 'believed', 3030: 'reality—the', 3031: 'rustling', 3032: 'rippling', 3033: 'reeds—the', 3034: 'tinkling', 3035: 'sheep', 3036: 'bells', 3037: 'cries', 3038: 'shepherd', 3039: 'boy—and', 3040: 'noises', 3041: 'clamour', 3042: 'farm', 3043: 'yard—while', 3044: 'lowing', 3045: 'cattle', 3046: 'lastly', 3047: 'pictured', 3048: 'woman', 3049: 'riper', 3050: 'years', 3051: 'loving', 3052: 'childhood', 3053: 'gather', 3054: 'sorrows', 3055: 'joys', 3056: 'remembering', 3057: 'happy'}\n"
          ],
          "name": "stdout"
        }
      ]
    },
    {
      "cell_type": "code",
      "metadata": {
        "id": "Ip5tInvS8reS",
        "outputId": "8eb90b7e-e375-4dc9-d926-f640b69d6345",
        "colab": {
          "base_uri": "https://localhost:8080/"
        }
      },
      "source": [
        "print(X.shape)"
      ],
      "execution_count": 16,
      "outputs": [
        {
          "output_type": "stream",
          "text": [
            "(27081, 50)\n"
          ],
          "name": "stdout"
        }
      ]
    },
    {
      "cell_type": "code",
      "metadata": {
        "id": "YqOXd_TISDRE",
        "outputId": "fadc8832-9145-4b70-dc48-6033669f5b94",
        "colab": {
          "base_uri": "https://localhost:8080/"
        }
      },
      "source": [
        "print(y.shape)"
      ],
      "execution_count": 17,
      "outputs": [
        {
          "output_type": "stream",
          "text": [
            "(27081, 2570)\n"
          ],
          "name": "stdout"
        }
      ]
    },
    {
      "cell_type": "code",
      "metadata": {
        "id": "A_mhL0J0eQku"
      },
      "source": [
        "# Complete the code to return next n words greedily\n",
        "def next_tokens(pattern, input_str, n): \n",
        "\tprint (\"Seed: \\n\",  input_str)\n",
        "\tprint(\"Prediction: \")\n",
        "\tfinal_string=''\n",
        "\tfor i in range(n):\n",
        "\t\tx=numpy.array(pattern)\n",
        "\t\tprediction = model.predict( x , verbose=0)\n",
        "\t\tb= np.argmax(model.predict(x), axis=-1)\n",
        "\t\t# get next word index. Use reverse_word_map to get the word\n",
        "\t\tword= reverse_word_map[b[len(b)-1]]\n",
        "\t\tfinal_string+=word\n",
        "\t\tfinal_string+=' '\n",
        "\t\tpattern.append(b[len(b)-1])\n",
        "\t\tpattern = pattern[1:len(pattern)]\n",
        "\treturn final_string"
      ],
      "execution_count": 18,
      "outputs": []
    },
    {
      "cell_type": "code",
      "metadata": {
        "id": "gZ_NTQezeWYO",
        "outputId": "30da5db4-d3ce-4718-978f-3ac305888be9",
        "colab": {
          "base_uri": "https://localhost:8080/"
        }
      },
      "source": [
        "# pick a random seed\n",
        "\n",
        "start = numpy.random.randint(0, len(dataX)-1)\n",
        "pattern = dataX[start]\n",
        "input_str = ' '.join([reverse_word_map[value] for value in pattern])\n",
        "print(next_tokens(pattern,input_str , 10))"
      ],
      "execution_count": 19,
      "outputs": [
        {
          "output_type": "stream",
          "text": [
            "Seed: \n",
            " he had taken his watch out of his pocket and was looking at it uneasily shaking it every now and then and holding it to his ear alice considered a little and then said “the fourth ” “two days wrong ” sighed the hatter “i told you butter wouldn’t suit\n",
            "Prediction: \n",
            "WARNING:tensorflow:Model was constructed with shape (None, 50) for input Tensor(\"embedding_input:0\", shape=(None, 50), dtype=float32), but it was called on an input with incompatible shape (None, 1).\n",
            "the little little little little little little little little little \n"
          ],
          "name": "stdout"
        }
      ]
    },
    {
      "cell_type": "code",
      "metadata": {
        "id": "u-x8W-OSVgNi",
        "outputId": "2043e5e5-157b-4fde-ba48-ccbe89d168c3",
        "colab": {
          "base_uri": "https://localhost:8080/"
        }
      },
      "source": [
        "input_str = \"The boy laughed at the fright he had caused. This time, the villagers left angrily. The third day, as the boy went up\\\n",
        " the small hill, he suddenly saw a wolf attacking his sheep. He cried as hard as he could, “Wolf! Wolf! Wolf!”, but not \\\n",
        " a single villager came to help him. The villagers thought that he was trying to fool them again and did not come to rescue \\\n",
        " him or his sheep.\"\n",
        "\n",
        "# Use first 50 tokens from given input_str as input.(Use tokenizer to split to take first 50)\n",
        "input_str=input_str.lower()\n",
        "word_tokens = tokenizer.texts_to_sequences([input_str])[0]\n",
        "seq= word_tokens[:50]\n",
        "inp=' '.join([reverse_word_map[val] for val in seq])\n",
        "print(next_tokens( seq, inp,10))"
      ],
      "execution_count": 20,
      "outputs": [
        {
          "output_type": "stream",
          "text": [
            "Seed: \n",
            " the boy laughed at the fright he had caused this time the <OOV> left angrily the <OOV> day as the boy went up the small <OOV> he suddenly saw a <OOV> <OOV> his <OOV> he cried as hard as he could <OOV> <OOV> <OOV> ” but not a <OOV> <OOV>\n",
            "Prediction: \n",
            "thing to the little little little little little little little \n"
          ],
          "name": "stdout"
        }
      ]
    },
    {
      "cell_type": "markdown",
      "metadata": {
        "id": "B5_R5Tngo3_D"
      },
      "source": [
        "# Character based LSTM Model 1"
      ]
    },
    {
      "cell_type": "code",
      "metadata": {
        "id": "2zZaHsejo57p"
      },
      "source": [
        "# User the preprocess data and create raw_text\n",
        "\n",
        "# create mapping of unique characters to integers\n",
        "chars = sorted(list(set(raw_text)))\n",
        "\n",
        "char_to_int = dict((ch, i) for i, ch in enumerate(chars))"
      ],
      "execution_count": 21,
      "outputs": []
    },
    {
      "cell_type": "code",
      "metadata": {
        "id": "lkVVDbump0Wg"
      },
      "source": [
        "# Print the total characters and character vacob size\n",
        "n_chars = len(raw_text)\n",
        "n_vocab = len(chars)"
      ],
      "execution_count": 22,
      "outputs": []
    },
    {
      "cell_type": "code",
      "metadata": {
        "id": "2aVserymqE1b",
        "outputId": "4a71b14b-3de2-4cbb-b0ef-d2020215322b",
        "colab": {
          "base_uri": "https://localhost:8080/"
        }
      },
      "source": [
        "'''\n",
        "Prepare dataset where the input is sequence of 100 characters and target is next character.\n",
        "'''\n",
        "seq_length = 100\n",
        "dataX = []\n",
        "dataY = []\n",
        "for i in range(0, n_chars - seq_length, 1):\n",
        "    # Write code here\n",
        "    seq_in= raw_text[i:i+seq_length]\n",
        "    seq_out= raw_text[i+seq_length]\n",
        "    dataX.append([char_to_int[char] for char in seq_in])\n",
        "    dataY.append(char_to_int[seq_out])\n",
        "\n",
        "n_patterns = len(dataX)\n",
        "print (\"Total Patterns: \", n_patterns)"
      ],
      "execution_count": 23,
      "outputs": [
        {
          "output_type": "stream",
          "text": [
            "Total Patterns:  141937\n"
          ],
          "name": "stdout"
        }
      ]
    },
    {
      "cell_type": "code",
      "metadata": {
        "id": "Ic4yf4hNqc7T"
      },
      "source": [
        "# reshape X to be [samples, time steps, features]\n",
        "X = numpy.reshape(dataX, (n_patterns, seq_length,1))\n",
        "\n",
        "# one hot encode the output variable\n",
        "dataY = numpy.array(dataY)\n",
        "y = np_utils.to_categorical(dataY)"
      ],
      "execution_count": 24,
      "outputs": []
    },
    {
      "cell_type": "code",
      "metadata": {
        "id": "XvawnjFVqhMi"
      },
      "source": [
        "embedding_dim =100\n",
        "max_length =100"
      ],
      "execution_count": 25,
      "outputs": []
    },
    {
      "cell_type": "code",
      "metadata": {
        "id": "ek5DqNeTqkAZ",
        "outputId": "a3735d8e-70e4-420f-c927-e6cf6a17b86e",
        "colab": {
          "base_uri": "https://localhost:8080/"
        }
      },
      "source": [
        "model = Sequential()\n",
        "model.add(keras.layers.Embedding(n_vocab, embedding_dim, input_length=max_length))\n",
        "model.add(LSTM(256))\n",
        "model.add(Dropout(0.2))\n",
        "model.add(Dense(y.shape[1], activation='softmax'))\n",
        "model.compile(loss='categorical_crossentropy', optimizer='adam')\n",
        "model.summary()"
      ],
      "execution_count": 26,
      "outputs": [
        {
          "output_type": "stream",
          "text": [
            "Model: \"sequential_1\"\n",
            "_________________________________________________________________\n",
            "Layer (type)                 Output Shape              Param #   \n",
            "=================================================================\n",
            "embedding_1 (Embedding)      (None, 100, 100)          4500      \n",
            "_________________________________________________________________\n",
            "lstm_1 (LSTM)                (None, 256)               365568    \n",
            "_________________________________________________________________\n",
            "dropout (Dropout)            (None, 256)               0         \n",
            "_________________________________________________________________\n",
            "dense_1 (Dense)              (None, 45)                11565     \n",
            "=================================================================\n",
            "Total params: 381,633\n",
            "Trainable params: 381,633\n",
            "Non-trainable params: 0\n",
            "_________________________________________________________________\n"
          ],
          "name": "stdout"
        }
      ]
    },
    {
      "cell_type": "code",
      "metadata": {
        "id": "gFoStJIOqpM6",
        "outputId": "701b22b0-e405-470c-d671-e3eb70d083ba",
        "colab": {
          "base_uri": "https://localhost:8080/"
        }
      },
      "source": [
        "model.fit(X, y, epochs=20, batch_size=128)"
      ],
      "execution_count": 27,
      "outputs": [
        {
          "output_type": "stream",
          "text": [
            "Epoch 1/20\n",
            "1109/1109 [==============================] - 20s 18ms/step - loss: 2.1937\n",
            "Epoch 2/20\n",
            "1109/1109 [==============================] - 20s 18ms/step - loss: 1.6957\n",
            "Epoch 3/20\n",
            "1109/1109 [==============================] - 20s 18ms/step - loss: 1.4956\n",
            "Epoch 4/20\n",
            "1109/1109 [==============================] - 20s 18ms/step - loss: 1.3790\n",
            "Epoch 5/20\n",
            "1109/1109 [==============================] - 20s 18ms/step - loss: 1.2965\n",
            "Epoch 6/20\n",
            "1109/1109 [==============================] - 20s 18ms/step - loss: 1.2375\n",
            "Epoch 7/20\n",
            "1109/1109 [==============================] - 20s 18ms/step - loss: 1.1869\n",
            "Epoch 8/20\n",
            "1109/1109 [==============================] - 20s 18ms/step - loss: 1.1416\n",
            "Epoch 9/20\n",
            "1109/1109 [==============================] - 20s 18ms/step - loss: 1.1028\n",
            "Epoch 10/20\n",
            "1109/1109 [==============================] - 20s 18ms/step - loss: 1.0690\n",
            "Epoch 11/20\n",
            "1109/1109 [==============================] - 20s 18ms/step - loss: 1.0378\n",
            "Epoch 12/20\n",
            "1109/1109 [==============================] - 20s 18ms/step - loss: 1.0064\n",
            "Epoch 13/20\n",
            "1109/1109 [==============================] - 20s 18ms/step - loss: 0.9782\n",
            "Epoch 14/20\n",
            "1109/1109 [==============================] - 20s 18ms/step - loss: 0.9554\n",
            "Epoch 15/20\n",
            "1109/1109 [==============================] - 20s 18ms/step - loss: 0.9299\n",
            "Epoch 16/20\n",
            "1109/1109 [==============================] - 20s 18ms/step - loss: 0.9079\n",
            "Epoch 17/20\n",
            "1109/1109 [==============================] - 20s 18ms/step - loss: 0.8857\n",
            "Epoch 18/20\n",
            "1109/1109 [==============================] - 20s 18ms/step - loss: 0.8709\n",
            "Epoch 19/20\n",
            "1109/1109 [==============================] - 20s 18ms/step - loss: 0.8533\n",
            "Epoch 20/20\n",
            "1109/1109 [==============================] - 20s 18ms/step - loss: 0.8368\n"
          ],
          "name": "stdout"
        },
        {
          "output_type": "execute_result",
          "data": {
            "text/plain": [
              "<tensorflow.python.keras.callbacks.History at 0x7fc2777cf630>"
            ]
          },
          "metadata": {
            "tags": []
          },
          "execution_count": 27
        }
      ]
    },
    {
      "cell_type": "code",
      "metadata": {
        "id": "ekXYhzeUrGaq"
      },
      "source": [
        "#implement mapping of integer to character\n",
        "int_to_char = dict((i,ch) for i,ch in enumerate(chars))"
      ],
      "execution_count": 28,
      "outputs": []
    },
    {
      "cell_type": "code",
      "metadata": {
        "id": "OixPrw6vq15j"
      },
      "source": [
        "'''\n",
        "Complete code below to get the generated string using the model.\n",
        "'''\n",
        "def predict_next_100_chars(pattern,x):\n",
        "\tprint(\"Prediction: \")\n",
        "\tfinal_string=''\n",
        "\tfor i in range(x):\n",
        "\t\t# Complete Code\n",
        "\t\ta=numpy.reshape(pattern,(1, len(pattern),1))\n",
        "\t\tprediction = model.predict(a, verbose=0)\n",
        "\t\tidx=numpy.argmax(prediction)\n",
        "\t\tch= int_to_char[idx]\n",
        "\t\tseq_in=[int_to_char[b] for b in pattern]\n",
        "\t\tfinal_string+=ch\n",
        "\t\tpattern.append(idx)\n",
        "\t\tpattern=pattern[1: len(pattern)]\n",
        "\treturn final_string"
      ],
      "execution_count": 29,
      "outputs": []
    },
    {
      "cell_type": "code",
      "metadata": {
        "id": "vHH_I5QiUxnY",
        "outputId": "030c5bae-56f5-4806-9d2b-628021afea12",
        "colab": {
          "base_uri": "https://localhost:8080/"
        }
      },
      "source": [
        "# pick a random seed\n",
        "start = numpy.random.randint(0, len(dataX)-1)\n",
        "pattern = dataX[start]\n",
        "input_str = ''.join([int_to_char[value] for value in pattern])\n",
        "\n",
        "print(predict_next_100_chars(pattern,200))"
      ],
      "execution_count": 30,
      "outputs": [
        {
          "output_type": "stream",
          "text": [
            "Prediction: \n",
            ", they lived out to the same thing as ‘i eat or down, and the moral of that is—‘the dormouse said—” she said to herself, “that is it i can have trial, you know what the dormouse said—” “then you can h\n"
          ],
          "name": "stdout"
        }
      ]
    },
    {
      "cell_type": "code",
      "metadata": {
        "id": "iutpuJAgrgU8",
        "outputId": "94d67c86-2513-4c03-d3eb-3dbe5719a174",
        "colab": {
          "base_uri": "https://localhost:8080/"
        }
      },
      "source": [
        "input_str = \"The boy laughed at the fright he had caused. This time, the villagers left angrily. The third day, as the boy went up\\\n",
        " the small hill, he suddenly saw a wolf attacking his sheep. He cried as hard as he could, “Wolf! Wolf! Wolf!”, but not \\\n",
        " a single villager came to help him. The villagers thought that he was trying to fool them again and did not come to rescue \\\n",
        " him or his sheep.\"\n",
        "\n",
        " # Use first 100 characeters from given input_str as input and generate next 200 characters.\n",
        "input_str=input_str.lower()\n",
        "string= input_str[:100]\n",
        "char_seq=[char_to_int[c] for c in string]\n",
        "print(predict_next_100_chars(char_seq,200))"
      ],
      "execution_count": 31,
      "outputs": [
        {
          "output_type": "stream",
          "text": [
            "Prediction: \n",
            "s it was a little shriek, and was going to get to the table in the words:— “i don’t think it would be a little good many muchess to be a little passage, and the same thing i am on the song, were all t\n"
          ],
          "name": "stdout"
        }
      ]
    },
    {
      "cell_type": "markdown",
      "metadata": {
        "id": "n8shbcukr0tJ"
      },
      "source": [
        "## Character based LSTM Model 2\n"
      ]
    },
    {
      "cell_type": "code",
      "metadata": {
        "id": "BWBPCrTdr46U"
      },
      "source": [
        "model1 = Sequential()\n",
        "model1.add(keras.layers.Embedding(n_vocab, embedding_dim, input_length=max_length))\n",
        "model1.add(LSTM(256, input_shape=(X.shape[1], embedding_dim),return_sequences=True))\n",
        "model1.add(Dropout(0.2))\n",
        "model1.add(LSTM(256))\n",
        "model1.add(Dropout(0.2))\n",
        "model1.add(Dense(y.shape[1], activation='softmax'))\n",
        "model1.compile(loss='categorical_crossentropy', optimizer='adam')"
      ],
      "execution_count": 32,
      "outputs": []
    },
    {
      "cell_type": "code",
      "metadata": {
        "id": "7ZxrtjFIr63L",
        "outputId": "befb6762-3aea-4717-aeb4-ecff39b589ac",
        "colab": {
          "base_uri": "https://localhost:8080/"
        }
      },
      "source": [
        "model1.fit(X, y, epochs=20, batch_size=64)"
      ],
      "execution_count": 33,
      "outputs": [
        {
          "output_type": "stream",
          "text": [
            "Epoch 1/20\n",
            "2218/2218 [==============================] - 50s 23ms/step - loss: 2.1183\n",
            "Epoch 2/20\n",
            "2218/2218 [==============================] - 50s 22ms/step - loss: 1.5611\n",
            "Epoch 3/20\n",
            "2218/2218 [==============================] - 50s 23ms/step - loss: 1.3791\n",
            "Epoch 4/20\n",
            "2218/2218 [==============================] - 50s 22ms/step - loss: 1.2768\n",
            "Epoch 5/20\n",
            "2218/2218 [==============================] - 50s 23ms/step - loss: 1.2089\n",
            "Epoch 6/20\n",
            "2218/2218 [==============================] - 50s 23ms/step - loss: 1.1514\n",
            "Epoch 7/20\n",
            "2218/2218 [==============================] - 50s 23ms/step - loss: 1.1110\n",
            "Epoch 8/20\n",
            "2218/2218 [==============================] - 50s 22ms/step - loss: 1.0727\n",
            "Epoch 9/20\n",
            "2218/2218 [==============================] - 50s 22ms/step - loss: 1.0386\n",
            "Epoch 10/20\n",
            "2218/2218 [==============================] - 50s 23ms/step - loss: 1.0086\n",
            "Epoch 11/20\n",
            "2218/2218 [==============================] - 50s 22ms/step - loss: 0.9859\n",
            "Epoch 12/20\n",
            "2218/2218 [==============================] - 50s 23ms/step - loss: 0.9606\n",
            "Epoch 13/20\n",
            "2218/2218 [==============================] - 50s 22ms/step - loss: 0.9404\n",
            "Epoch 14/20\n",
            "2218/2218 [==============================] - 50s 22ms/step - loss: 0.9271\n",
            "Epoch 15/20\n",
            "2218/2218 [==============================] - 50s 23ms/step - loss: 0.9110\n",
            "Epoch 16/20\n",
            "2218/2218 [==============================] - 50s 22ms/step - loss: 0.8949\n",
            "Epoch 17/20\n",
            "2218/2218 [==============================] - 50s 22ms/step - loss: 0.8849\n",
            "Epoch 18/20\n",
            "2218/2218 [==============================] - 50s 22ms/step - loss: 0.8721\n",
            "Epoch 19/20\n",
            "2218/2218 [==============================] - 50s 22ms/step - loss: 0.8623\n",
            "Epoch 20/20\n",
            "2218/2218 [==============================] - 50s 22ms/step - loss: 0.8559\n"
          ],
          "name": "stdout"
        },
        {
          "output_type": "execute_result",
          "data": {
            "text/plain": [
              "<tensorflow.python.keras.callbacks.History at 0x7fc212248e48>"
            ]
          },
          "metadata": {
            "tags": []
          },
          "execution_count": 33
        }
      ]
    },
    {
      "cell_type": "code",
      "metadata": {
        "id": "L6RTfHN6r8wh"
      },
      "source": [
        "# Generate the sequence similar to above methods\n",
        "\n",
        "'''\n",
        "Complete code below to get the generated string using the model.\n",
        "'''\n",
        "def predict_next_100_Chars(pattern,x):\n",
        "\tprint(\"Prediction: \")\n",
        "\tfinal_string=''\n",
        "\tfor i in range(x):\n",
        "\t\t# Complete Code\n",
        "\t\ta=numpy.reshape(pattern,(1, len(pattern),1))\n",
        "\t\tprediction = model1.predict(a, verbose=0)\n",
        "\t\tidx=numpy.argmax(prediction)\n",
        "\t\tch= int_to_char[idx]\n",
        "\t\tseq_in=[int_to_char[b] for b in pattern]\n",
        "\t\tfinal_string+=ch\n",
        "\t\tpattern.append(idx)\n",
        "\t\tpattern=pattern[1: len(pattern)]\n",
        "\n",
        "\treturn final_string"
      ],
      "execution_count": 45,
      "outputs": []
    },
    {
      "cell_type": "code",
      "metadata": {
        "id": "5CKJXZ4tYmL0",
        "outputId": "2d5637cb-b26c-402a-c4fe-5c3450206775",
        "colab": {
          "base_uri": "https://localhost:8080/"
        }
      },
      "source": [
        "# pick a random seed\n",
        "start = numpy.random.randint(0, len(dataX)-1)\n",
        "pattern = dataX[start]\n",
        "input_str = ''.join([int_to_char[value] for value in pattern])\n",
        "\n",
        "print(predict_next_100_Chars(pattern,200))"
      ],
      "execution_count": 46,
      "outputs": [
        {
          "output_type": "stream",
          "text": [
            "Prediction: \n",
            " of the garden, and she was now about it a book of the song.\n",
            "“what a can remark many more than that is, if i only wish the moral of that dormouse is it,” said the mouse, who was not gone with the door\n"
          ],
          "name": "stdout"
        }
      ]
    },
    {
      "cell_type": "code",
      "metadata": {
        "id": "YyRCfLe5YmL7",
        "outputId": "4484e2dc-7bb9-4f69-e280-0deecb0390e4",
        "colab": {
          "base_uri": "https://localhost:8080/"
        }
      },
      "source": [
        "input_str = \"The boy laughed at the fright he had caused. This time, the villagers left angrily. The third day, as the boy went up\\\n",
        " the small hill, he suddenly saw a wolf attacking his sheep. He cried as hard as he could, “Wolf! Wolf! Wolf!”, but not \\\n",
        " a single villager came to help him. The villagers thought that he was trying to fool them again and did not come to rescue \\\n",
        " him or his sheep.\"\n",
        "\n",
        " # Use first 100 characeters from given input_str as input and generate next 200 characters.\n",
        "input_str=input_str.lower()\n",
        "string= input_str[:100] \n",
        "char_seq=[char_to_int[c] for c in string]\n",
        " \n",
        "print(predict_next_100_Chars(char_seq,200))"
      ],
      "execution_count": 47,
      "outputs": [
        {
          "output_type": "stream",
          "text": [
            "Prediction: \n",
            "s she was now about it a book of the song.\n",
            "“what a can remark many more than that is, if i only wish the moral of that dormouse is it,” said the mouse, who was not gone with the door and shouted to th\n"
          ],
          "name": "stdout"
        }
      ]
    },
    {
      "cell_type": "markdown",
      "metadata": {
        "id": "XPrjxjoNsaQC"
      },
      "source": [
        "# Questions"
      ]
    },
    {
      "cell_type": "markdown",
      "metadata": {
        "id": "kW5_IlBeZAPq"
      },
      "source": [
        "**Question:** What are your observations based on the model(all) outputs on train data(in domain) vs unseen data(out of domain) ?"
      ]
    },
    {
      "cell_type": "markdown",
      "metadata": {
        "id": "YryzP1upZv5h"
      },
      "source": [
        "**Answer:** The model performs much better on train data which it has seen than on unseen data since it labels unseen tokens on 'OOV' and hence fails to generalize well. "
      ]
    },
    {
      "cell_type": "markdown",
      "metadata": {
        "id": "aBzCD0I0Z3uP"
      },
      "source": [
        "**Question:** What did you observe in the outputs of char LSTM model1 vs char LSTM model2 ?"
      ]
    },
    {
      "cell_type": "markdown",
      "metadata": {
        "id": "PUHxHmXZaNdn"
      },
      "source": [
        "**Answer:** LSTM model2 generalizes well and is able to model the character dependencies much better than LSTM model1"
      ]
    },
    {
      "cell_type": "markdown",
      "metadata": {
        "id": "rShXR9sYsc4D"
      },
      "source": [
        "# Bonus (Not to be graded)"
      ]
    },
    {
      "cell_type": "markdown",
      "metadata": {
        "id": "j2N-l6VSshhC"
      },
      "source": [
        "## Transformer based language model (Bert)\n",
        "You can run the below cells to predict the next word using pretrained BERT model. "
      ]
    },
    {
      "cell_type": "code",
      "metadata": {
        "id": "67c13Yx9sgiW",
        "outputId": "743c593a-5be2-4aee-e76e-d2de15c6570c",
        "colab": {
          "base_uri": "https://localhost:8080/"
        }
      },
      "source": [
        "!pip install transformers"
      ],
      "execution_count": 37,
      "outputs": [
        {
          "output_type": "stream",
          "text": [
            "Requirement already satisfied: transformers in /usr/local/lib/python3.6/dist-packages (3.5.1)\n",
            "Requirement already satisfied: tokenizers==0.9.3 in /usr/local/lib/python3.6/dist-packages (from transformers) (0.9.3)\n",
            "Requirement already satisfied: sentencepiece==0.1.91 in /usr/local/lib/python3.6/dist-packages (from transformers) (0.1.91)\n",
            "Requirement already satisfied: sacremoses in /usr/local/lib/python3.6/dist-packages (from transformers) (0.0.43)\n",
            "Requirement already satisfied: packaging in /usr/local/lib/python3.6/dist-packages (from transformers) (20.4)\n",
            "Requirement already satisfied: regex!=2019.12.17 in /usr/local/lib/python3.6/dist-packages (from transformers) (2019.12.20)\n",
            "Requirement already satisfied: requests in /usr/local/lib/python3.6/dist-packages (from transformers) (2.23.0)\n",
            "Requirement already satisfied: filelock in /usr/local/lib/python3.6/dist-packages (from transformers) (3.0.12)\n",
            "Requirement already satisfied: tqdm>=4.27 in /usr/local/lib/python3.6/dist-packages (from transformers) (4.41.1)\n",
            "Requirement already satisfied: protobuf in /usr/local/lib/python3.6/dist-packages (from transformers) (3.12.4)\n",
            "Requirement already satisfied: numpy in /usr/local/lib/python3.6/dist-packages (from transformers) (1.18.5)\n",
            "Requirement already satisfied: dataclasses; python_version < \"3.7\" in /usr/local/lib/python3.6/dist-packages (from transformers) (0.7)\n",
            "Requirement already satisfied: six in /usr/local/lib/python3.6/dist-packages (from sacremoses->transformers) (1.15.0)\n",
            "Requirement already satisfied: joblib in /usr/local/lib/python3.6/dist-packages (from sacremoses->transformers) (0.17.0)\n",
            "Requirement already satisfied: click in /usr/local/lib/python3.6/dist-packages (from sacremoses->transformers) (7.1.2)\n",
            "Requirement already satisfied: pyparsing>=2.0.2 in /usr/local/lib/python3.6/dist-packages (from packaging->transformers) (2.4.7)\n",
            "Requirement already satisfied: idna<3,>=2.5 in /usr/local/lib/python3.6/dist-packages (from requests->transformers) (2.10)\n",
            "Requirement already satisfied: urllib3!=1.25.0,!=1.25.1,<1.26,>=1.21.1 in /usr/local/lib/python3.6/dist-packages (from requests->transformers) (1.24.3)\n",
            "Requirement already satisfied: certifi>=2017.4.17 in /usr/local/lib/python3.6/dist-packages (from requests->transformers) (2020.6.20)\n",
            "Requirement already satisfied: chardet<4,>=3.0.2 in /usr/local/lib/python3.6/dist-packages (from requests->transformers) (3.0.4)\n",
            "Requirement already satisfied: setuptools in /usr/local/lib/python3.6/dist-packages (from protobuf->transformers) (50.3.2)\n"
          ],
          "name": "stdout"
        }
      ]
    },
    {
      "cell_type": "code",
      "metadata": {
        "id": "5gF2nncdsqcx"
      },
      "source": [
        "import os\n",
        "import torch\n",
        "import string\n",
        "from transformers import BertTokenizer, BertForMaskedLM"
      ],
      "execution_count": 38,
      "outputs": []
    },
    {
      "cell_type": "code",
      "metadata": {
        "id": "_tppcQN298Qs"
      },
      "source": [
        "def load_model(model_name):\n",
        "  try:\n",
        "    if model_name.lower() == \"bert\":\n",
        "      bert_tokenizer = BertTokenizer.from_pretrained('bert-base-uncased')\n",
        "      bert_model = BertForMaskedLM.from_pretrained('bert-base-uncased').eval()\n",
        "      return bert_tokenizer,bert_model\n",
        "  except Exception as e:\n",
        "    pass"
      ],
      "execution_count": 39,
      "outputs": []
    },
    {
      "cell_type": "code",
      "metadata": {
        "id": "pOcQKOGG-H8F"
      },
      "source": [
        "def decode(tokenizer, pred_idx, top_clean):\n",
        "  ignore_tokens = string.punctuation + '[PAD]'\n",
        "  tokens = []\n",
        "  for w in pred_idx:\n",
        "    token = ''.join(tokenizer.decode(w).split())\n",
        "    if token not in ignore_tokens:\n",
        "      tokens.append(token.replace('##', ''))\n",
        "  return '\\n'.join(tokens[:top_clean])"
      ],
      "execution_count": 40,
      "outputs": []
    },
    {
      "cell_type": "code",
      "metadata": {
        "id": "CQkjSmGv-TxO"
      },
      "source": [
        "def encode(tokenizer, text_sentence, add_special_tokens=True):\n",
        "  text_sentence = text_sentence.replace('<mask>', tokenizer.mask_token)\n",
        "  # if <mask> is the last token, append a \".\" so that models dont predict punctuation.\n",
        "  if tokenizer.mask_token == text_sentence.split()[-1]:\n",
        "    text_sentence += ' .'\n",
        "  input_ids = torch.tensor([tokenizer.encode(text_sentence, add_special_tokens=add_special_tokens)])\n",
        "  mask_idx = torch.where(input_ids == tokenizer.mask_token_id)[1].tolist()[0]\n",
        "  return input_ids, mask_idx"
      ],
      "execution_count": 41,
      "outputs": []
    },
    {
      "cell_type": "code",
      "metadata": {
        "id": "fFWOHB5n-ZQh"
      },
      "source": [
        "def get_all_predictions(text_sentence, top_clean=5):\n",
        "  input_ids, mask_idx = encode(bert_tokenizer, text_sentence)\n",
        "  with torch.no_grad():\n",
        "    predict = bert_model(input_ids)[0]\n",
        "    print(predict.shape)\n",
        "    \n",
        "    bert = decode(bert_tokenizer, predict[0, mask_idx, :].topk(top_k).indices.tolist(), top_clean)\n",
        "  return {'bert': bert}"
      ],
      "execution_count": 42,
      "outputs": []
    },
    {
      "cell_type": "code",
      "metadata": {
        "id": "4lQHVc0l-igk"
      },
      "source": [
        "def get_prediction_eos(input_text):\n",
        "  try:\n",
        "    input_text += ' <mask>'\n",
        "    res = get_all_predictions(input_text, top_clean=int(top_k))\n",
        "    return res\n",
        "  except Exception as error:\n",
        "    pass"
      ],
      "execution_count": 43,
      "outputs": []
    },
    {
      "cell_type": "code",
      "metadata": {
        "id": "XQZ-swMD9lyU",
        "outputId": "25b5b322-b8f9-4e36-f6e9-331fc75e583e",
        "colab": {
          "base_uri": "https://localhost:8080/"
        }
      },
      "source": [
        "# Below code predicts the next top_k words. You can modify this to get next n words using top_k=1 and greedy decoding it. \n",
        "top_k= 3\n",
        "print('Predict next ', top_k, ' words')\n",
        "model_name = 'BERT'\n",
        "bert_tokenizer, bert_model  = load_model(model_name) \n",
        "input_text = \"\" ### GIVE YOUR INPUT STRING HERE\n",
        "res = get_prediction_eos(input_text)\n",
        "answer = []\n",
        "print(res['bert'].split(\"\\n\"))\n",
        "for i in res['bert'].split(\"\\n\"):\n",
        "  answer.append(i)\n",
        "  answer_as_string = \"    \".join(answer)\n",
        "\n",
        "print(answer_as_string)"
      ],
      "execution_count": 44,
      "outputs": [
        {
          "output_type": "stream",
          "text": [
            "Predict next  3  words\n"
          ],
          "name": "stdout"
        },
        {
          "output_type": "stream",
          "text": [
            "Some weights of the model checkpoint at bert-base-uncased were not used when initializing BertForMaskedLM: ['cls.seq_relationship.weight', 'cls.seq_relationship.bias']\n",
            "- This IS expected if you are initializing BertForMaskedLM from the checkpoint of a model trained on another task or with another architecture (e.g. initializing a BertForSequenceClassification model from a BertForPreTraining model).\n",
            "- This IS NOT expected if you are initializing BertForMaskedLM from the checkpoint of a model that you expect to be exactly identical (initializing a BertForSequenceClassification model from a BertForSequenceClassification model).\n"
          ],
          "name": "stderr"
        },
        {
          "output_type": "stream",
          "text": [
            "torch.Size([1, 4, 30522])\n",
            "['p', 'vol', 'math']\n",
            "p    vol    math\n"
          ],
          "name": "stdout"
        }
      ]
    },
    {
      "cell_type": "code",
      "metadata": {
        "id": "qPnI5g4BpbvR"
      },
      "source": [
        ""
      ],
      "execution_count": 44,
      "outputs": []
    }
  ]
}